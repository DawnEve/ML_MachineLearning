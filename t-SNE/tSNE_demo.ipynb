{
 "cells": [
  {
   "cell_type": "markdown",
   "metadata": {},
   "source": [
    "> 2008年Hinton发表的t-SNE算法论文: http://www.jmlr.org/papers/volume9/vandermaaten08a/vandermaaten08a.pdf"
   ]
  },
  {
   "cell_type": "markdown",
   "metadata": {},
   "source": [
    "# 载入iris"
   ]
  },
  {
   "cell_type": "code",
   "execution_count": 1,
   "metadata": {},
   "outputs": [],
   "source": [
    "import numpy as np\n",
    "import pandas as pd\n",
    "from matplotlib import pyplot as plt\n",
    "\n",
    "iris=pd.read_csv('../iris_data/iris.csv') # from R file"
   ]
  },
  {
   "cell_type": "code",
   "execution_count": 2,
   "metadata": {},
   "outputs": [
    {
     "data": {
      "text/html": [
       "<div>\n",
       "<style scoped>\n",
       "    .dataframe tbody tr th:only-of-type {\n",
       "        vertical-align: middle;\n",
       "    }\n",
       "\n",
       "    .dataframe tbody tr th {\n",
       "        vertical-align: top;\n",
       "    }\n",
       "\n",
       "    .dataframe thead th {\n",
       "        text-align: right;\n",
       "    }\n",
       "</style>\n",
       "<table border=\"1\" class=\"dataframe\">\n",
       "  <thead>\n",
       "    <tr style=\"text-align: right;\">\n",
       "      <th></th>\n",
       "      <th>Unnamed: 0</th>\n",
       "      <th>Sepal.Length</th>\n",
       "      <th>Sepal.Width</th>\n",
       "      <th>Petal.Length</th>\n",
       "      <th>Petal.Width</th>\n",
       "      <th>Species</th>\n",
       "    </tr>\n",
       "  </thead>\n",
       "  <tbody>\n",
       "    <tr>\n",
       "      <th>0</th>\n",
       "      <td>1</td>\n",
       "      <td>5.1</td>\n",
       "      <td>3.5</td>\n",
       "      <td>1.4</td>\n",
       "      <td>0.2</td>\n",
       "      <td>setosa</td>\n",
       "    </tr>\n",
       "    <tr>\n",
       "      <th>1</th>\n",
       "      <td>2</td>\n",
       "      <td>4.9</td>\n",
       "      <td>3.0</td>\n",
       "      <td>1.4</td>\n",
       "      <td>0.2</td>\n",
       "      <td>setosa</td>\n",
       "    </tr>\n",
       "    <tr>\n",
       "      <th>2</th>\n",
       "      <td>3</td>\n",
       "      <td>4.7</td>\n",
       "      <td>3.2</td>\n",
       "      <td>1.3</td>\n",
       "      <td>0.2</td>\n",
       "      <td>setosa</td>\n",
       "    </tr>\n",
       "    <tr>\n",
       "      <th>3</th>\n",
       "      <td>4</td>\n",
       "      <td>4.6</td>\n",
       "      <td>3.1</td>\n",
       "      <td>1.5</td>\n",
       "      <td>0.2</td>\n",
       "      <td>setosa</td>\n",
       "    </tr>\n",
       "    <tr>\n",
       "      <th>4</th>\n",
       "      <td>5</td>\n",
       "      <td>5.0</td>\n",
       "      <td>3.6</td>\n",
       "      <td>1.4</td>\n",
       "      <td>0.2</td>\n",
       "      <td>setosa</td>\n",
       "    </tr>\n",
       "  </tbody>\n",
       "</table>\n",
       "</div>"
      ],
      "text/plain": [
       "   Unnamed: 0  Sepal.Length  Sepal.Width  Petal.Length  Petal.Width Species\n",
       "0           1           5.1          3.5           1.4          0.2  setosa\n",
       "1           2           4.9          3.0           1.4          0.2  setosa\n",
       "2           3           4.7          3.2           1.3          0.2  setosa\n",
       "3           4           4.6          3.1           1.5          0.2  setosa\n",
       "4           5           5.0          3.6           1.4          0.2  setosa"
      ]
     },
     "execution_count": 2,
     "metadata": {},
     "output_type": "execute_result"
    }
   ],
   "source": [
    "iris.head()"
   ]
  },
  {
   "cell_type": "markdown",
   "metadata": {},
   "source": [
    "# demo1"
   ]
  },
  {
   "cell_type": "code",
   "execution_count": 3,
   "metadata": {},
   "outputs": [],
   "source": [
    "def cal_pairwise_dist(x):\n",
    "    '''计算pairwise 距离, x是matrix\n",
    "    (a-b)^2 = a^2 + b^2 - 2*a*b\n",
    "    '''\n",
    "    sum_x = np.sum(np.square(x), 1)\n",
    "    dist = np.add(np.add(-2 * np.dot(x, x.T), sum_x).T, sum_x)\n",
    "    return dist\n",
    " \n",
    "\n",
    "def cal_perplexity(dist, idx=0, beta=1.0):\n",
    "    '''计算perplexity, D是距离向量，\n",
    "    idx指dist中自己与自己距离的位置，beta是高斯分布参数\n",
    "    这里的perp仅计算了熵，方便计算\n",
    "    '''\n",
    "    prob = np.exp(-dist * beta)\n",
    "    # 设置自身prob为0\n",
    "    prob[idx] = 0\n",
    "    sum_prob = np.sum(prob)\n",
    "    perp = np.log(sum_prob) + beta * np.sum(dist * prob) / sum_prob\n",
    "    prob /= sum_prob\n",
    "    return perp, prob\n",
    " \n",
    "\n",
    "def seach_prob(x, tol=1e-5, perplexity=30.0):\n",
    "    '''二分搜索寻找beta,并计算pairwise的prob\n",
    "    '''\n",
    "    # 初始化参数\n",
    "    print(\"Computing pairwise distances...\")\n",
    "    (n, d) = x.shape\n",
    "    dist = cal_pairwise_dist(x)\n",
    "    pair_prob = np.zeros((n, n))\n",
    "    beta = np.ones((n, 1))\n",
    "    # 取log，方便后续计算\n",
    "    base_perp = np.log(perplexity)\n",
    " \n",
    "    for i in range(n):\n",
    "        if i % 500 == 0:\n",
    "            print(\"Computing pair_prob for point %s of %s ...\" %(i,n))\n",
    " \n",
    "        betamin = -np.inf\n",
    "        betamax = np.inf\n",
    "        perp, this_prob = cal_perplexity(dist[i], i, beta[i])\n",
    " \n",
    "        # 二分搜索,寻找最佳sigma下的prob\n",
    "        perp_diff = perp - base_perp\n",
    "        tries = 0\n",
    "        while np.abs(perp_diff) > tol and tries < 50:\n",
    "            if perp_diff > 0:\n",
    "                betamin = beta[i].copy()\n",
    "                if betamax == np.inf or betamax == -np.inf:\n",
    "                    beta[i] = beta[i] * 2\n",
    "                else:\n",
    "                    beta[i] = (beta[i] + betamax) / 2\n",
    "            else:\n",
    "                betamax = beta[i].copy()\n",
    "                if betamin == np.inf or betamin == -np.inf:\n",
    "                    beta[i] = beta[i] / 2\n",
    "                else:\n",
    "                    beta[i] = (beta[i] + betamin) / 2\n",
    " \n",
    "            # 更新perb,prob值\n",
    "            perp, this_prob = cal_perplexity(dist[i], i, beta[i])\n",
    "            perp_diff = perp - base_perp\n",
    "            tries = tries + 1\n",
    "        # 记录prob值\n",
    "        pair_prob[i,] = this_prob\n",
    "    print(\"Mean value of sigma: \", np.mean(np.sqrt(1 / beta)))\n",
    "    return pair_prob\n",
    " \n",
    "\n",
    "def pca(x, no_dims = 50):\n",
    "    ''' PCA算法\n",
    "    使用PCA先进行预降维\n",
    "    '''\n",
    "    print(\"Preprocessing the data using PCA...\")\n",
    "    (n, d) = x.shape\n",
    "    x = x - np.tile(np.mean(x, 0), (n, 1))\n",
    "    l, M = np.linalg.eig(np.dot(x.T, x))\n",
    "    y = np.dot(x, M[:,0:no_dims])\n",
    "    return y\n",
    " \n",
    "\n",
    "def tsne(x, no_dims=2, initial_dims=50, perplexity=30.0, max_iter=1000):\n",
    "    \"\"\"Runs t-SNE on the dataset in the NxD array x\n",
    "    to reduce its dimensionality to no_dims dimensions.\n",
    "    The syntaxis of the function is Y = tsne.tsne(x, no_dims, perplexity),\n",
    "    where x is an NxD NumPy array.\n",
    "    \"\"\"\n",
    " \n",
    "    # Check inputs\n",
    "    if isinstance(no_dims, float):\n",
    "        print(\"Error: array x should have type float.\")\n",
    "        return -1\n",
    "    if round(no_dims) != no_dims:\n",
    "        print(\"Error: number of dimensions should be an integer.\")\n",
    "        return -1\n",
    " \n",
    "    # 初始化参数和变量\n",
    "    x = pca(x, initial_dims).real\n",
    "    (n, d) = x.shape\n",
    "    initial_momentum = 0.5\n",
    "    final_momentum = 0.8\n",
    "    eta = 500\n",
    "    min_gain = 0.01\n",
    "    y = np.random.randn(n, no_dims)\n",
    "    dy = np.zeros((n, no_dims))\n",
    "    iy = np.zeros((n, no_dims))\n",
    "    gains = np.ones((n, no_dims))\n",
    " \n",
    "    # 对称化\n",
    "    P = seach_prob(x, 1e-5, perplexity)\n",
    "    P = P + np.transpose(P)\n",
    "    P = P / np.sum(P)\n",
    "    # early exaggeration\n",
    "    P = P * 4\n",
    "    P = np.maximum(P, 1e-12)\n",
    " \n",
    "    # Run iterations\n",
    "    for iter in range(max_iter):\n",
    "        # Compute pairwise affinities\n",
    "        sum_y = np.sum(np.square(y), 1)\n",
    "        num = 1 / (1 + np.add(np.add(-2 * np.dot(y, y.T), sum_y).T, sum_y))\n",
    "        num[range(n), range(n)] = 0\n",
    "        Q = num / np.sum(num)\n",
    "        Q = np.maximum(Q, 1e-12)\n",
    " \n",
    "        # Compute gradient\n",
    "        PQ = P - Q\n",
    "        for i in range(n):\n",
    "            dy[i,:] = np.sum(np.tile(PQ[:,i] * num[:,i], (no_dims, 1)).T * (y[i,:] - y), 0)\n",
    " \n",
    "        # Perform the update\n",
    "        if iter < 20:\n",
    "            momentum = initial_momentum\n",
    "        else:\n",
    "            momentum = final_momentum\n",
    "        gains = (gains + 0.2) * ((dy > 0) != (iy > 0)) + (gains * 0.8) * ((dy > 0) == (iy > 0))\n",
    "        gains[gains < min_gain] = min_gain\n",
    "        iy = momentum * iy - eta * (gains * dy)\n",
    "        y = y + iy\n",
    "        y = y - np.tile(np.mean(y, 0), (n, 1))\n",
    "        # Compute current value of cost function\n",
    "        if (iter + 1) % 100 == 0:\n",
    "            if iter > 100:\n",
    "                C = np.sum(P * np.log(P / Q))\n",
    "            else:\n",
    "                C = np.sum( P/4 * np.log( P/4 / Q))\n",
    "            print(\"Iteration \", (iter + 1), \": error is \", C)\n",
    "        # Stop lying about P-values\n",
    "        if iter == 100:\n",
    "            P = P / 4\n",
    "    print(\"finished training!\")\n",
    "    return y"
   ]
  },
  {
   "cell_type": "code",
   "execution_count": 4,
   "metadata": {},
   "outputs": [
    {
     "name": "stdout",
     "output_type": "stream",
     "text": [
      "Preprocessing the data using PCA...\n",
      "Computing pairwise distances...\n",
      "Computing pair_prob for point 0 of 150 ...\n",
      "Mean value of sigma:  1.020099563325348\n",
      "Iteration  100 : error is  0.6405484751488213\n",
      "Iteration  200 : error is  0.06877183147047794\n",
      "Iteration  300 : error is  0.06837387955066673\n",
      "Iteration  400 : error is  0.06831653226380013\n",
      "Iteration  500 : error is  0.0683058212716347\n",
      "Iteration  600 : error is  0.06830313546409417\n",
      "Iteration  700 : error is  0.06830248117743731\n",
      "Iteration  800 : error is  0.06830231147579871\n",
      "finished training!\n"
     ]
    },
    {
     "data": {
      "image/png": "[encoded data removed]",
      "text/plain": [
       "<Figure size 432x288 with 1 Axes>"
      ]
     },
     "metadata": {},
     "output_type": "display_data"
    }
   ],
   "source": [
    "#if __name__ == \"__main__\":\n",
    "# Run Y = tsne.tsne(X, no_dims, perplexity) to perform t-SNE on your dataset.\n",
    "X = iris.iloc[:,1:5] #np.loadtxt(\"mnist2500_X.txt\")\n",
    "\n",
    "#labels = iris.iloc[:,5:6] #np.loadtxt(\"mnist2500_labels.txt\")\n",
    "lables=['black']*50+['blue']*50+ ['green']*50;\n",
    "\n",
    "Y = tsne(X, 2, 50, 50.0, 800)\n",
    "plt.scatter(Y[:,0], Y[:,1], 20, color=lables)\n",
    "plt.show()"
   ]
  },
  {
   "cell_type": "markdown",
   "metadata": {},
   "source": [
    "## 不懂的线性代数"
   ]
  },
  {
   "cell_type": "code",
   "execution_count": 11,
   "metadata": {},
   "outputs": [
    {
     "data": {
      "text/plain": [
       "array([[0, 1, 2],\n",
       "       [3, 4, 5],\n",
       "       [6, 7, 8]])"
      ]
     },
     "execution_count": 11,
     "metadata": {},
     "output_type": "execute_result"
    }
   ],
   "source": [
    "a=np.array([[0,1,2],[3,4,5], [6,7,8]])\n",
    "a"
   ]
  },
  {
   "cell_type": "code",
   "execution_count": 12,
   "metadata": {},
   "outputs": [
    {
     "data": {
      "text/plain": [
       "array([ 3, 12, 21])"
      ]
     },
     "execution_count": 12,
     "metadata": {},
     "output_type": "execute_result"
    }
   ],
   "source": [
    "np.sum(a,1)"
   ]
  },
  {
   "cell_type": "code",
   "execution_count": 13,
   "metadata": {},
   "outputs": [
    {
     "data": {
      "text/plain": [
       "array([[ 0,  1,  4],\n",
       "       [ 9, 16, 25],\n",
       "       [36, 49, 64]])"
      ]
     },
     "execution_count": 13,
     "metadata": {},
     "output_type": "execute_result"
    }
   ],
   "source": [
    "np.square(a)"
   ]
  },
  {
   "cell_type": "code",
   "execution_count": 14,
   "metadata": {},
   "outputs": [],
   "source": [
    "X=a"
   ]
  },
  {
   "cell_type": "code",
   "execution_count": 15,
   "metadata": {},
   "outputs": [
    {
     "data": {
      "text/plain": [
       "array([  5,  50, 149])"
      ]
     },
     "execution_count": 15,
     "metadata": {},
     "output_type": "execute_result"
    }
   ],
   "source": [
    "sum_X = np.sum(np.square(X), 1)\n",
    "sum_X"
   ]
  },
  {
   "cell_type": "code",
   "execution_count": 16,
   "metadata": {},
   "outputs": [],
   "source": [
    "# D = np.add(np.add(-2 * np.dot(X, X.T), sum_X).T, sum_X)"
   ]
  },
  {
   "cell_type": "code",
   "execution_count": 17,
   "metadata": {},
   "outputs": [
    {
     "data": {
      "text/plain": [
       "array([[0, 3, 6],\n",
       "       [1, 4, 7],\n",
       "       [2, 5, 8]])"
      ]
     },
     "execution_count": 17,
     "metadata": {},
     "output_type": "execute_result"
    }
   ],
   "source": [
    "X.T"
   ]
  },
  {
   "cell_type": "code",
   "execution_count": 18,
   "metadata": {},
   "outputs": [
    {
     "data": {
      "text/plain": [
       "array([[ -10,  -28,  -46],\n",
       "       [ -28, -100, -172],\n",
       "       [ -46, -172, -298]])"
      ]
     },
     "execution_count": 18,
     "metadata": {},
     "output_type": "execute_result"
    }
   ],
   "source": [
    "-2*np.dot(X, X.T)"
   ]
  },
  {
   "cell_type": "code",
   "execution_count": 19,
   "metadata": {},
   "outputs": [
    {
     "data": {
      "text/plain": [
       "array([[  -5,   22,  103],\n",
       "       [ -23,  -50,  -23],\n",
       "       [ -41, -122, -149]])"
      ]
     },
     "execution_count": 19,
     "metadata": {},
     "output_type": "execute_result"
    }
   ],
   "source": [
    "np.add(-2 * np.dot(X, X.T), sum_X)"
   ]
  },
  {
   "cell_type": "code",
   "execution_count": 20,
   "metadata": {},
   "outputs": [
    {
     "data": {
      "text/plain": [
       "array([[  -5,  -23,  -41],\n",
       "       [  22,  -50, -122],\n",
       "       [ 103,  -23, -149]])"
      ]
     },
     "execution_count": 20,
     "metadata": {},
     "output_type": "execute_result"
    }
   ],
   "source": [
    "np.add(-2 * np.dot(X, X.T), sum_X).T"
   ]
  },
  {
   "cell_type": "code",
   "execution_count": 21,
   "metadata": {},
   "outputs": [
    {
     "data": {
      "text/plain": [
       "array([[  0,  27, 108],\n",
       "       [ 27,   0,  27],\n",
       "       [108,  27,   0]])"
      ]
     },
     "execution_count": 21,
     "metadata": {},
     "output_type": "execute_result"
    }
   ],
   "source": [
    "D = np.add(np.add(-2 * np.dot(X, X.T), sum_X).T, sum_X)\n",
    "D"
   ]
  },
  {
   "cell_type": "markdown",
   "metadata": {},
   "source": [
    "### test"
   ]
  },
  {
   "cell_type": "code",
   "execution_count": 22,
   "metadata": {},
   "outputs": [
    {
     "data": {
      "text/plain": [
       "array([[0, 1, 2],\n",
       "       [3, 4, 5],\n",
       "       [6, 7, 8]])"
      ]
     },
     "execution_count": 22,
     "metadata": {},
     "output_type": "execute_result"
    }
   ],
   "source": [
    "X"
   ]
  },
  {
   "cell_type": "code",
   "execution_count": 23,
   "metadata": {},
   "outputs": [
    {
     "data": {
      "text/plain": [
       "array([2, 5, 8])"
      ]
     },
     "execution_count": 23,
     "metadata": {},
     "output_type": "execute_result"
    }
   ],
   "source": [
    "np.max(X, axis=1)"
   ]
  },
  {
   "cell_type": "code",
   "execution_count": 24,
   "metadata": {},
   "outputs": [
    {
     "data": {
      "text/plain": [
       "array([[2],\n",
       "       [5],\n",
       "       [8]])"
      ]
     },
     "execution_count": 24,
     "metadata": {},
     "output_type": "execute_result"
    }
   ],
   "source": [
    "np.max(X, axis=1).reshape([-1, 1])"
   ]
  },
  {
   "cell_type": "code",
   "execution_count": 25,
   "metadata": {},
   "outputs": [
    {
     "data": {
      "text/plain": [
       "array([[0],\n",
       "       [1],\n",
       "       [2],\n",
       "       [3],\n",
       "       [4],\n",
       "       [5],\n",
       "       [6],\n",
       "       [7],\n",
       "       [8]])"
      ]
     },
     "execution_count": 25,
     "metadata": {},
     "output_type": "execute_result"
    }
   ],
   "source": [
    "X.reshape([-1, 1])"
   ]
  },
  {
   "cell_type": "code",
   "execution_count": 26,
   "metadata": {},
   "outputs": [
    {
     "data": {
      "text/plain": [
       "array([[-2, -1,  0],\n",
       "       [-2, -1,  0],\n",
       "       [-2, -1,  0]])"
      ]
     },
     "execution_count": 26,
     "metadata": {},
     "output_type": "execute_result"
    }
   ],
   "source": [
    "X - np.max(X, axis=1).reshape([-1, 1])"
   ]
  },
  {
   "cell_type": "code",
   "execution_count": 27,
   "metadata": {},
   "outputs": [
    {
     "data": {
      "text/plain": [
       "array([[0.13533528, 0.36787944, 1.        ],\n",
       "       [0.13533528, 0.36787944, 1.        ],\n",
       "       [0.13533528, 0.36787944, 1.        ]])"
      ]
     },
     "execution_count": 27,
     "metadata": {},
     "output_type": "execute_result"
    }
   ],
   "source": [
    "np.exp(X - np.max(X, axis=1).reshape([-1, 1]))"
   ]
  },
  {
   "cell_type": "code",
   "execution_count": 28,
   "metadata": {},
   "outputs": [
    {
     "data": {
      "text/plain": [
       "0.1353352832366127"
      ]
     },
     "execution_count": 28,
     "metadata": {},
     "output_type": "execute_result"
    }
   ],
   "source": [
    "np.exp(-2)"
   ]
  },
  {
   "cell_type": "markdown",
   "metadata": {},
   "source": [
    "### divide"
   ]
  },
  {
   "cell_type": "code",
   "execution_count": 29,
   "metadata": {},
   "outputs": [
    {
     "data": {
      "text/plain": [
       "array([[0.13533528, 0.36787944, 1.        ],\n",
       "       [0.13533528, 0.36787944, 1.        ],\n",
       "       [0.13533528, 0.36787944, 1.        ]])"
      ]
     },
     "execution_count": 29,
     "metadata": {},
     "output_type": "execute_result"
    }
   ],
   "source": [
    "e_x = np.exp(X - np.max(X, axis=1).reshape([-1, 1]))\n",
    "e_x"
   ]
  },
  {
   "cell_type": "code",
   "execution_count": 30,
   "metadata": {},
   "outputs": [
    {
     "data": {
      "text/plain": [
       "array([[0.13533529, 0.36787945, 1.00000001],\n",
       "       [0.13533529, 0.36787945, 1.00000001],\n",
       "       [0.13533529, 0.36787945, 1.00000001]])"
      ]
     },
     "execution_count": 30,
     "metadata": {},
     "output_type": "execute_result"
    }
   ],
   "source": [
    "e_x = e_x + 1e-8  # numerical stability\n",
    "e_x"
   ]
  },
  {
   "cell_type": "code",
   "execution_count": 31,
   "metadata": {},
   "outputs": [
    {
     "data": {
      "text/plain": [
       "array([[0.09003058, 0.24472847, 0.66524095],\n",
       "       [0.09003058, 0.24472847, 0.66524095],\n",
       "       [0.09003058, 0.24472847, 0.66524095]])"
      ]
     },
     "execution_count": 31,
     "metadata": {},
     "output_type": "execute_result"
    }
   ],
   "source": [
    "e_x / e_x.sum(axis=1).reshape([-1, 1])"
   ]
  },
  {
   "cell_type": "code",
   "execution_count": 32,
   "metadata": {},
   "outputs": [
    {
     "data": {
      "text/plain": [
       "(3, 3)"
      ]
     },
     "execution_count": 32,
     "metadata": {},
     "output_type": "execute_result"
    }
   ],
   "source": [
    "X.shape"
   ]
  },
  {
   "cell_type": "code",
   "execution_count": 33,
   "metadata": {},
   "outputs": [
    {
     "name": "stdout",
     "output_type": "stream",
     "text": [
      "[ 0  1  2  3  4  5  6  7  8  9 10 11]\n",
      "[[ 0  1  2  3  4  5]\n",
      " [ 6  7  8  9 10 11]]\n"
     ]
    },
    {
     "data": {
      "text/plain": [
       "2"
      ]
     },
     "execution_count": 33,
     "metadata": {},
     "output_type": "execute_result"
    }
   ],
   "source": [
    "#len(np.array())\n",
    "y=np.array([x for x in range(12)])\n",
    "print(y)\n",
    "y=y.reshape((2,6))\n",
    "print(y)\n",
    "len(y)"
   ]
  },
  {
   "cell_type": "code",
   "execution_count": 34,
   "metadata": {},
   "outputs": [
    {
     "data": {
      "text/plain": [
       "array([[0, 1, 2],\n",
       "       [3, 4, 5],\n",
       "       [6, 7, 8]])"
      ]
     },
     "execution_count": 34,
     "metadata": {},
     "output_type": "execute_result"
    }
   ],
   "source": [
    "X"
   ]
  },
  {
   "cell_type": "code",
   "execution_count": 35,
   "metadata": {},
   "outputs": [
    {
     "data": {
      "text/plain": [
       "array([[[0, 1, 2],\n",
       "        [3, 4, 5],\n",
       "        [6, 7, 8]]])"
      ]
     },
     "execution_count": 35,
     "metadata": {},
     "output_type": "execute_result"
    }
   ],
   "source": [
    "np.expand_dims(X, 0)"
   ]
  },
  {
   "cell_type": "code",
   "execution_count": 36,
   "metadata": {},
   "outputs": [
    {
     "data": {
      "text/plain": [
       "array([[[0, 1, 2]],\n",
       "\n",
       "       [[3, 4, 5]],\n",
       "\n",
       "       [[6, 7, 8]]])"
      ]
     },
     "execution_count": 36,
     "metadata": {},
     "output_type": "execute_result"
    }
   ],
   "source": [
    "np.expand_dims(X, 1)"
   ]
  },
  {
   "cell_type": "code",
   "execution_count": 37,
   "metadata": {},
   "outputs": [
    {
     "data": {
      "text/plain": [
       "array([[[0],\n",
       "        [1],\n",
       "        [2]],\n",
       "\n",
       "       [[3],\n",
       "        [4],\n",
       "        [5]],\n",
       "\n",
       "       [[6],\n",
       "        [7],\n",
       "        [8]]])"
      ]
     },
     "execution_count": 37,
     "metadata": {},
     "output_type": "execute_result"
    }
   ],
   "source": [
    "np.expand_dims(X, 2)"
   ]
  },
  {
   "cell_type": "code",
   "execution_count": 38,
   "metadata": {},
   "outputs": [
    {
     "data": {
      "text/plain": [
       "array([[[0, 1, 2]],\n",
       "\n",
       "       [[3, 4, 5]],\n",
       "\n",
       "       [[6, 7, 8]]])"
      ]
     },
     "execution_count": 38,
     "metadata": {},
     "output_type": "execute_result"
    }
   ],
   "source": [
    "np.expand_dims(X, 1)"
   ]
  },
  {
   "cell_type": "code",
   "execution_count": 39,
   "metadata": {},
   "outputs": [
    {
     "data": {
      "text/plain": [
       "(3, 1, 3)"
      ]
     },
     "execution_count": 39,
     "metadata": {},
     "output_type": "execute_result"
    }
   ],
   "source": [
    "np.expand_dims(X, 1).shape"
   ]
  },
  {
   "cell_type": "code",
   "execution_count": 40,
   "metadata": {},
   "outputs": [
    {
     "name": "stdout",
     "output_type": "stream",
     "text": [
      "[[0 1 2]]\n"
     ]
    },
    {
     "data": {
      "text/plain": [
       "array([0, 1, 2])"
      ]
     },
     "execution_count": 40,
     "metadata": {},
     "output_type": "execute_result"
    }
   ],
   "source": [
    "print(np.expand_dims(X, 1)[0])\n",
    "np.expand_dims(X, 1)[0][0]"
   ]
  },
  {
   "cell_type": "code",
   "execution_count": 41,
   "metadata": {},
   "outputs": [
    {
     "data": {
      "text/plain": [
       "array([[[0, 1, 2],\n",
       "        [3, 4, 5],\n",
       "        [6, 7, 8]]])"
      ]
     },
     "execution_count": 41,
     "metadata": {},
     "output_type": "execute_result"
    }
   ],
   "source": [
    "np.expand_dims(X, 0)"
   ]
  },
  {
   "cell_type": "code",
   "execution_count": 42,
   "metadata": {},
   "outputs": [
    {
     "data": {
      "text/plain": [
       "(1, 3, 3)"
      ]
     },
     "execution_count": 42,
     "metadata": {},
     "output_type": "execute_result"
    }
   ],
   "source": [
    "np.expand_dims(X, 0).shape"
   ]
  },
  {
   "cell_type": "code",
   "execution_count": 43,
   "metadata": {},
   "outputs": [
    {
     "data": {
      "text/plain": [
       "array([[[ 0,  0,  0],\n",
       "        [-3, -3, -3],\n",
       "        [-6, -6, -6]],\n",
       "\n",
       "       [[ 3,  3,  3],\n",
       "        [ 0,  0,  0],\n",
       "        [-3, -3, -3]],\n",
       "\n",
       "       [[ 6,  6,  6],\n",
       "        [ 3,  3,  3],\n",
       "        [ 0,  0,  0]]])"
      ]
     },
     "execution_count": 43,
     "metadata": {},
     "output_type": "execute_result"
    }
   ],
   "source": [
    "np.expand_dims(X, 1) - np.expand_dims(X, 0)"
   ]
  },
  {
   "cell_type": "code",
   "execution_count": 44,
   "metadata": {},
   "outputs": [
    {
     "data": {
      "text/plain": [
       "(3, 3, 3)"
      ]
     },
     "execution_count": 44,
     "metadata": {},
     "output_type": "execute_result"
    }
   ],
   "source": [
    "(np.expand_dims(X, 1) - np.expand_dims(X, 0)).shape"
   ]
  },
  {
   "cell_type": "code",
   "execution_count": 45,
   "metadata": {},
   "outputs": [
    {
     "data": {
      "text/plain": [
       "array([[[ 0,  1,  2,  3],\n",
       "        [ 4,  5,  6,  7],\n",
       "        [ 8,  9, 10, 11]],\n",
       "\n",
       "       [[12, 13, 14, 15],\n",
       "        [16, 17, 18, 19],\n",
       "        [20, 21, 22, 23]]])"
      ]
     },
     "execution_count": 45,
     "metadata": {},
     "output_type": "execute_result"
    }
   ],
   "source": [
    "np.array( range(24) ).reshape((2,3,4))"
   ]
  },
  {
   "cell_type": "code",
   "execution_count": null,
   "metadata": {},
   "outputs": [],
   "source": []
  },
  {
   "cell_type": "markdown",
   "metadata": {},
   "source": [
    "# demo 2 （支持多维输出）"
   ]
  },
  {
   "cell_type": "code",
   "execution_count": 5,
   "metadata": {},
   "outputs": [],
   "source": [
    "\"\"\"\n",
    "Functions to fit Symmetric SNE and t-SNE\n",
    "Author: Liam Schoneveld\n",
    "\"\"\"\n",
    "\n",
    "import numpy as np\n",
    "#from categorical_scatter import categorical_scatter_2d\n",
    "\n",
    "\n",
    "def neg_squared_euc_dists(X):\n",
    "    \"\"\"Compute matrix containing negative squared euclidean\n",
    "    distance for all pairs of points in input matrix X\n",
    "    # Arguments:\n",
    "        X: matrix of size NxD\n",
    "    # Returns:\n",
    "        NxN matrix D, with entry D_ij = negative squared\n",
    "        euclidean distance between rows X_i and X_j\n",
    "    \"\"\"\n",
    "    # Math? See https://stackoverflow.com/questions/37009647\n",
    "    sum_X = np.sum(np.square(X), 1)\n",
    "    D = np.add(np.add(-2 * np.dot(X, X.T), sum_X).T, sum_X)\n",
    "    return -D\n",
    "\n",
    "\n",
    "def softmax(X, diag_zero=True, zero_index=None):\n",
    "    \"\"\"Compute softmax values for each row of matrix X.\"\"\"\n",
    "\n",
    "    # Subtract max for numerical stability\n",
    "    e_x = np.exp(X - np.max(X, axis=1).reshape([-1, 1]))\n",
    "\n",
    "    # We usually want diagonal probailities to be 0.\n",
    "    if zero_index is None:\n",
    "        if diag_zero:\n",
    "            np.fill_diagonal(e_x, 0.)\n",
    "    else:\n",
    "        e_x[:, zero_index] = 0.\n",
    "\n",
    "    # Add a tiny constant for stability of log we take later\n",
    "    e_x = e_x + 1e-8  # numerical stability\n",
    "\n",
    "    return e_x / e_x.sum(axis=1).reshape([-1, 1])\n",
    "\n",
    "\n",
    "def calc_prob_matrix(distances, sigmas=None, zero_index=None):\n",
    "    \"\"\"Convert a distances matrix to a matrix of probabilities.\"\"\"\n",
    "    if sigmas is not None:\n",
    "        two_sig_sq = 2. * np.square(sigmas.reshape((-1, 1)))\n",
    "        return softmax(distances / two_sig_sq, zero_index=zero_index)\n",
    "    else:\n",
    "        return softmax(distances, zero_index=zero_index)\n",
    "\n",
    "\n",
    "def binary_search(eval_fn, target, tol=1e-10, max_iter=10000,\n",
    "                  lower=1e-20, upper=1000.):\n",
    "    \"\"\"Perform a binary search over input values to eval_fn.\n",
    "    # Arguments\n",
    "        eval_fn: Function that we are optimising over.\n",
    "        target: Target value we want the function to output.\n",
    "        tol: Float, once our guess is this close to target, stop.\n",
    "        max_iter: Integer, maximum num. iterations to search for.\n",
    "        lower: Float, lower bound of search range.\n",
    "        upper: Float, upper bound of search range.\n",
    "    # Returns:\n",
    "        Float, best input value to function found during search.\n",
    "    \"\"\"\n",
    "    for i in range(max_iter):\n",
    "        guess = (lower + upper) / 2.\n",
    "        val = eval_fn(guess)\n",
    "        if val > target:\n",
    "            upper = guess\n",
    "        else:\n",
    "            lower = guess\n",
    "        if np.abs(val - target) <= tol:\n",
    "            break\n",
    "    return guess\n",
    "\n",
    "\n",
    "def calc_perplexity(prob_matrix):\n",
    "    \"\"\"Calculate the perplexity of each row\n",
    "    of a matrix of probabilities.\"\"\"\n",
    "    entropy = -np.sum(prob_matrix * np.log2(prob_matrix), 1)\n",
    "    perplexity = 2 ** entropy\n",
    "    return perplexity\n",
    "\n",
    "\n",
    "def perplexity(distances, sigmas, zero_index):\n",
    "    \"\"\"Wrapper function for quick calculation of\n",
    "    perplexity over a distance matrix.\"\"\"\n",
    "    return calc_perplexity(\n",
    "        calc_prob_matrix(distances, sigmas, zero_index))\n",
    "\n",
    "\n",
    "def find_optimal_sigmas(distances, target_perplexity):\n",
    "    \"\"\"For each row of distances matrix, find sigma that results\n",
    "    in target perplexity for that role.\"\"\"\n",
    "    sigmas = []\n",
    "    # For each row of the matrix (each point in our dataset)\n",
    "    for i in range(distances.shape[0]):\n",
    "        # Make fn that returns perplexity of this row given sigma\n",
    "        eval_fn = lambda sigma: \\\n",
    "            perplexity(distances[i:i+1, :], np.array(sigma), i)\n",
    "        # Binary search over sigmas to achieve target perplexity\n",
    "        correct_sigma = binary_search(eval_fn, target_perplexity)\n",
    "        # Append the resulting sigma to our output array\n",
    "        sigmas.append(correct_sigma)\n",
    "    return np.array(sigmas)\n",
    "\n",
    "\n",
    "def p_conditional_to_joint(P):\n",
    "    \"\"\"Given conditional probabilities matrix P, return\n",
    "    approximation of joint distribution probabilities.\"\"\"\n",
    "    return (P + P.T) / (2. * P.shape[0])\n",
    "\n",
    "\n",
    "def q_joint(Y):\n",
    "    \"\"\"Given low-dimensional representations Y, compute\n",
    "    matrix of joint probabilities with entries q_ij.\"\"\"\n",
    "    # Get the distances from every point to every other\n",
    "    distances = neg_squared_euc_dists(Y)\n",
    "    # Take the elementwise exponent\n",
    "    exp_distances = np.exp(distances)\n",
    "    # Fill diagonal with zeroes so q_ii = 0\n",
    "    np.fill_diagonal(exp_distances, 0.)\n",
    "    # Divide by the sum of the entire exponentiated matrix\n",
    "    return exp_distances / np.sum(exp_distances), None\n",
    "\n",
    "\n",
    "def symmetric_sne_grad(P, Q, Y, _):\n",
    "    \"\"\"Estimate the gradient of the cost with respect to Y\"\"\"\n",
    "    pq_diff = P - Q  # NxN matrix\n",
    "    pq_expanded = np.expand_dims(pq_diff, 2)  #NxNx1\n",
    "    y_diffs = np.expand_dims(Y, 1) - np.expand_dims(Y, 0)  #NxNx2\n",
    "    grad = 4. * (pq_expanded * y_diffs).sum(1)  #Nx2\n",
    "    return grad\n",
    "\n",
    "\n",
    "def q_tsne(Y):\n",
    "    \"\"\"t-SNE: Given low-dimensional representations Y, compute\n",
    "    matrix of joint probabilities with entries q_ij.\"\"\"\n",
    "    distances = neg_squared_euc_dists(Y)\n",
    "    inv_distances = np.power(1. - distances, -1)\n",
    "    np.fill_diagonal(inv_distances, 0.)\n",
    "    return inv_distances / np.sum(inv_distances), inv_distances\n",
    "\n",
    "\n",
    "def tsne_grad(P, Q, Y, distances):\n",
    "    \"\"\"t-SNE: Estimate the gradient of the cost with respect to Y.\"\"\"\n",
    "    pq_diff = P - Q  # NxN matrix\n",
    "    pq_expanded = np.expand_dims(pq_diff, 2)  # NxNx1\n",
    "    y_diffs = np.expand_dims(Y, 1) - np.expand_dims(Y, 0)  # NxNx2\n",
    "    # Expand our distances matrix so can multiply by y_diffs\n",
    "    distances_expanded = np.expand_dims(distances, 2)  # NxNx1\n",
    "    # Weight this (NxNx2) by distances matrix (NxNx1)\n",
    "    y_diffs_wt = y_diffs * distances_expanded  # NxNx2\n",
    "    grad = 4. * (pq_expanded * y_diffs_wt).sum(1)  # Nx2\n",
    "    return grad\n",
    "\n",
    "\n",
    "def p_joint(X, target_perplexity):\n",
    "    \"\"\"Given a data matrix X, gives joint probabilities matrix.\n",
    "    # Arguments\n",
    "        X: Input data matrix.\n",
    "    # Returns:\n",
    "        P: Matrix with entries p_ij = joint probabilities.\n",
    "    \"\"\"\n",
    "    # Get the negative euclidian distances matrix for our data\n",
    "    distances = neg_squared_euc_dists(X)\n",
    "    # Find optimal sigma for each row of this distances matrix\n",
    "    sigmas = find_optimal_sigmas(distances, target_perplexity)\n",
    "    # Calculate the probabilities based on these optimal sigmas\n",
    "    p_conditional = calc_prob_matrix(distances, sigmas)\n",
    "    # Go from conditional to joint probabilities matrix\n",
    "    P = p_conditional_to_joint(p_conditional)\n",
    "    return P\n",
    "\n",
    "\n",
    "def estimate_sne(X, y, P, rng, num_iters, q_fn, grad_fn, learning_rate,\n",
    "                 momentum, plot, distDim=2):\n",
    "    \"\"\"Estimates a SNE model.\n",
    "    # Arguments\n",
    "        X: Input data matrix.\n",
    "        y: Class labels for that matrix.\n",
    "        P: Matrix of joint probabilities.\n",
    "        rng: np.random.RandomState().\n",
    "        num_iters: Iterations to train for.\n",
    "        q_fn: Function that takes Y and gives Q prob matrix.\n",
    "        plot: How many times to plot during training.\n",
    "    # Returns:\n",
    "        Y: Matrix, low-dimensional representation of X.\n",
    "    \"\"\"\n",
    "\n",
    "    # Initialise our 2D representation Or more-D\n",
    "    Y = rng.normal(0., 0.0001, [X.shape[0], distDim]) #---->>>>>指定输出维数\n",
    "\n",
    "    # Initialise past values (used for momentum)\n",
    "    if momentum:\n",
    "        Y_m2 = Y.copy()\n",
    "        Y_m1 = Y.copy()\n",
    "\n",
    "    # Start gradient descent loop\n",
    "    for i in range(num_iters):\n",
    "\n",
    "        # Get Q and distances (distances only used for t-SNE)\n",
    "        Q, distances = q_fn(Y)\n",
    "        # Estimate gradients with respect to Y\n",
    "        grads = grad_fn(P, Q, Y, distances)\n",
    "\n",
    "        # Update Y\n",
    "        Y = Y - learning_rate * grads\n",
    "        if momentum:  # Add momentum\n",
    "            Y += momentum * (Y_m1 - Y_m2)\n",
    "            # Update previous Y's for momentum\n",
    "            Y_m2 = Y_m1.copy()\n",
    "            Y_m1 = Y.copy()\n",
    "\n",
    "        # Plot sometimes\n",
    "        if plot and i % (num_iters / plot) == 0:\n",
    "            categorical_scatter_2d(Y, y, alpha=1.0, ms=6,\n",
    "                                   show=True, figsize=(9, 6))\n",
    "\n",
    "    return Y"
   ]
  },
  {
   "cell_type": "code",
   "execution_count": 6,
   "metadata": {},
   "outputs": [
    {
     "data": {
      "text/plain": [
       "array([[0.51578947, 0.31578947, 0.14736842, 0.02105263],\n",
       "       [0.5       , 0.34042553, 0.13829787, 0.0212766 ],\n",
       "       [0.4893617 , 0.32978723, 0.15957447, 0.0212766 ],\n",
       "       [0.49019608, 0.35294118, 0.1372549 , 0.01960784],\n",
       "       [0.47368421, 0.34210526, 0.14912281, 0.03508772],\n",
       "       [0.4742268 , 0.35051546, 0.1443299 , 0.03092784],\n",
       "       [0.4950495 , 0.33663366, 0.14851485, 0.01980198],\n",
       "       [0.49438202, 0.3258427 , 0.15730337, 0.02247191],\n",
       "       [0.51041667, 0.32291667, 0.15625   , 0.01041667]])"
      ]
     },
     "execution_count": 6,
     "metadata": {},
     "output_type": "execute_result"
    }
   ],
   "source": [
    "X=np.array(iris.iloc[:, 1:5])\n",
    "\n",
    "X= X / np.sum(X,axis=1).reshape((-1,1))\n",
    "X[1:10]"
   ]
  },
  {
   "cell_type": "code",
   "execution_count": 7,
   "metadata": {},
   "outputs": [
    {
     "name": "stdout",
     "output_type": "stream",
     "text": [
      "(150, 4)\n"
     ]
    },
    {
     "data": {
      "text/plain": [
       "<matplotlib.collections.PathCollection at 0x22b026d4b00>"
      ]
     },
     "execution_count": 7,
     "metadata": {},
     "output_type": "execute_result"
    },
    {
     "data": {
      "image/png": "[encoded data removed]",
      "text/plain": [
       "<Figure size 432x288 with 1 Axes>"
      ]
     },
     "metadata": {},
     "output_type": "display_data"
    }
   ],
   "source": [
    "X=np.array(iris.iloc[:, 1:5])\n",
    "X= X / np.sum(X,axis=1).reshape((-1,1))\n",
    "#\n",
    "target_perplexity= 30 #np.array( [30]*150)\n",
    "print(X.shape) #(150, 4)\n",
    "#print(target_perplexity.shape) #(150,)\n",
    "\n",
    "P=p_joint(X, target_perplexity)\n",
    "\n",
    "rng=np.random.RandomState()\n",
    "endY=estimate_sne(X, iris.Species,   P, rng, num_iters=800, q_fn=q_tsne, grad_fn=tsne_grad, learning_rate=100,\n",
    "                 momentum=None, plot=False)\n",
    "\"\"\"Estimates a SNE model.\n",
    "# Arguments\n",
    "    X: Input data matrix.\n",
    "    y: Class labels for that matrix.\n",
    "    P: Matrix of joint probabilities.\n",
    "    rng: np.random.RandomState().\n",
    "    num_iters: Iterations to train for.\n",
    "    q_fn: Function that takes Y and gives Q prob matrix.\n",
    "    plot: How many times to plot during training.\n",
    "# Returns:\n",
    "    Y: Matrix, low-dimensional representation of X.\n",
    "\"\"\"\n",
    "colors=['black']*50+['red']*50+['blue']*50\n",
    "plt.scatter(endY.T[0], endY.T[1], color=colors )"
   ]
  },
  {
   "cell_type": "code",
   "execution_count": 8,
   "metadata": {},
   "outputs": [
    {
     "data": {
      "text/plain": [
       "array([[ 0.01577137,  0.93738262],\n",
       "       [ 1.05859554,  0.81172161],\n",
       "       [ 0.30246135, -1.33225555],\n",
       "       [-0.36814364, -0.46832719],\n",
       "       [-0.16429799, -0.42132067]])"
      ]
     },
     "execution_count": 8,
     "metadata": {},
     "output_type": "execute_result"
    }
   ],
   "source": [
    "rng.normal(0., 1, [5, 2]) # 产生二维随机数"
   ]
  },
  {
   "cell_type": "code",
   "execution_count": 11,
   "metadata": {},
   "outputs": [
    {
     "data": {
      "text/plain": [
       "30.000000509472514"
      ]
     },
     "execution_count": 11,
     "metadata": {},
     "output_type": "execute_result"
    }
   ],
   "source": [
    "# 二分查找\n",
    "def f1(x):\n",
    "    return(np.sin(x))\n",
    "\n",
    "rs=binary_search(f1, 0.5, tol=1e-10, max_iter=10000, lower=0, upper=3.)\n",
    "rs/3.1415926*180"
   ]
  },
  {
   "cell_type": "markdown",
   "metadata": {},
   "source": [
    "## 输出三维"
   ]
  },
  {
   "cell_type": "code",
   "execution_count": 12,
   "metadata": {},
   "outputs": [
    {
     "name": "stdout",
     "output_type": "stream",
     "text": [
      "(150, 4)\n"
     ]
    },
    {
     "data": {
      "text/plain": [
       "<matplotlib.collections.PathCollection at 0x22b0274d4e0>"
      ]
     },
     "execution_count": 12,
     "metadata": {},
     "output_type": "execute_result"
    },
    {
     "data": {
      "image/png": "[encoded data removed]",
      "text/plain": [
       "<Figure size 432x288 with 1 Axes>"
      ]
     },
     "metadata": {},
     "output_type": "display_data"
    }
   ],
   "source": [
    "X=np.array(iris.iloc[:, 1:5])\n",
    "X= X / np.sum(X,axis=1).reshape((-1,1))\n",
    "#\n",
    "target_perplexity= 30 #np.array( [30]*150)\n",
    "print(X.shape) #(150, 4)\n",
    "#print(target_perplexity.shape) #(150,)\n",
    "\n",
    "P=p_joint(X, target_perplexity)\n",
    "\n",
    "rng=np.random.RandomState()\n",
    "endY=estimate_sne(X, iris.Species,   P, rng, num_iters=800, q_fn=q_tsne, grad_fn=tsne_grad, learning_rate=100,\n",
    "                 momentum=None, plot=False, distDim=3)\n",
    "\"\"\"Estimates a SNE model.\n",
    "# Arguments\n",
    "    X: Input data matrix.\n",
    "    y: Class labels for that matrix.\n",
    "    P: Matrix of joint probabilities.\n",
    "    rng: np.random.RandomState().\n",
    "    num_iters: Iterations to train for.\n",
    "    q_fn: Function that takes Y and gives Q prob matrix.\n",
    "    plot: How many times to plot during training.\n",
    "# Returns:\n",
    "    Y: Matrix, low-dimensional representation of X.\n",
    "\"\"\"\n",
    "colors=['black']*50+['red']*50+['blue']*50\n",
    "plt.scatter(endY.T[0], endY.T[1], color=colors )"
   ]
  },
  {
   "cell_type": "code",
   "execution_count": 13,
   "metadata": {},
   "outputs": [
    {
     "data": {
      "text/plain": [
       "<matplotlib.collections.PathCollection at 0x22b027aa6a0>"
      ]
     },
     "execution_count": 13,
     "metadata": {},
     "output_type": "execute_result"
    },
    {
     "data": {
      "image/png": "[encoded data removed]",
      "text/plain": [
       "<Figure size 432x288 with 1 Axes>"
      ]
     },
     "metadata": {},
     "output_type": "display_data"
    }
   ],
   "source": [
    "plt.scatter(endY.T[1], endY.T[2], color=colors )"
   ]
  },
  {
   "cell_type": "code",
   "execution_count": 21,
   "metadata": {},
   "outputs": [
    {
     "name": "stdout",
     "output_type": "stream",
     "text": [
      "Help on method view_init in module mpl_toolkits.mplot3d.axes3d:\n",
      "\n",
      "view_init(elev=None, azim=None) method of matplotlib.axes._subplots.Axes3DSubplot instance\n",
      "    Set the elevation and azimuth of the axes.\n",
      "    \n",
      "    This can be used to rotate the axes programmatically.\n",
      "    \n",
      "    'elev' stores the elevation angle in the z plane.\n",
      "    'azim' stores the azimuth angle in the x,y plane.\n",
      "    \n",
      "    if elev or azim are None (default), then the initial value\n",
      "    is used which was specified in the :class:`Axes3D` constructor.\n",
      "\n"
     ]
    }
   ],
   "source": [
    "help(ax1.view_init)"
   ]
  },
  {
   "cell_type": "code",
   "execution_count": 29,
   "metadata": {},
   "outputs": [
    {
     "data": {
      "image/png": "[encoded data removed]",
      "text/plain": [
       "<Figure size 432x288 with 1 Axes>"
      ]
     },
     "metadata": {},
     "output_type": "display_data"
    }
   ],
   "source": [
    "# https://blog.csdn.net/u014636245/article/details/82799573\n",
    "# https://stackoverflow.com/questions/56222259/valueerror-unknown-projection-3d-once-again\n",
    "\n",
    "import matplotlib.pyplot as plt\n",
    "from mpl_toolkits.mplot3d import Axes3D # <--- This is important for 3d plotting\n",
    "\n",
    "fig = plt.figure()\n",
    "ax1 = fig.gca(projection='3d')\n",
    "\n",
    "#ax1 = plt.axes(projection='3d')\n",
    "ax1.scatter3D(endY.T[0],endY.T[1],endY.T[2], color=colors )  #绘制散点图\n",
    "# ax1.scatter3D(endY.T[0],endY.T[1],endY.T[2], cmap='Blues')  #绘制散点图\n",
    "# ax1.plot3D(endY.T[0],endY.T[1],endY.T[2],'gray')    #绘制空间曲线\n",
    "\n",
    "ax1.view_init(elev=20,azim=30)#改变绘制图像的视角,即相机的位置,azim沿着z轴旋转，elev沿着y轴\n",
    "plt.show()"
   ]
  },
  {
   "cell_type": "markdown",
   "metadata": {},
   "source": [
    "# sklearn"
   ]
  },
  {
   "cell_type": "code",
   "execution_count": 32,
   "metadata": {},
   "outputs": [
    {
     "data": {
      "image/png": "[encoded data removed]",
      "text/plain": [
       "<Figure size 720x360 with 2 Axes>"
      ]
     },
     "metadata": {},
     "output_type": "display_data"
    }
   ],
   "source": [
    "from sklearn.manifold import TSNE\n",
    "from sklearn.datasets import load_iris\n",
    "from sklearn.decomposition import PCA\n",
    "import matplotlib.pyplot as plt\n",
    " \n",
    "# iris = load_iris()\n",
    "iris.data=iris.iloc[:, 1:5]\n",
    "iris.target=['black']*50+['red']*50+['blue']*50\n",
    "#\n",
    "X_tsne = TSNE(learning_rate=100).fit_transform(iris.data)\n",
    "X_pca = PCA().fit_transform(iris.data)\n",
    "\n",
    "\n",
    "# plot\n",
    "plt.figure(figsize=(10, 5))\n",
    "plt.subplot(121)\n",
    "plt.scatter(X_tsne[:, 0], X_tsne[:, 1], c=iris.target)\n",
    "#plt.title('tSNE')\n",
    "plt.title('title name')\n",
    "#\n",
    "plt.subplot(122)\n",
    "plt.scatter(X_pca[:, 0], X_pca[:, 1], c=iris.target)\n",
    "plt.title(\"PCA\")\n",
    "plt.show()"
   ]
  },
  {
   "cell_type": "code",
   "execution_count": 33,
   "metadata": {},
   "outputs": [
    {
     "data": {
      "text/plain": [
       "array([-1.+0.j, -1.+0.j])"
      ]
     },
     "execution_count": 33,
     "metadata": {},
     "output_type": "execute_result"
    }
   ],
   "source": [
    "np.square([-1j, 1j])"
   ]
  },
  {
   "cell_type": "code",
   "execution_count": null,
   "metadata": {},
   "outputs": [],
   "source": []
  }
 ],
 "metadata": {
  "kernelspec": {
   "display_name": "Python 3",
   "language": "python",
   "name": "python3"
  },
  "language_info": {
   "codemirror_mode": {
    "name": "ipython",
    "version": 3
   },
   "file_extension": ".py",
   "mimetype": "text/x-python",
   "name": "python",
   "nbconvert_exporter": "python",
   "pygments_lexer": "ipython3",
   "version": "3.6.4"
  },
  "toc": {
   "base_numbering": 1,
   "nav_menu": {},
   "number_sections": true,
   "sideBar": true,
   "skip_h1_title": false,
   "title_cell": "Table of Contents",
   "title_sidebar": "Contents",
   "toc_cell": false,
   "toc_position": {},
   "toc_section_display": true,
   "toc_window_display": true
  }
 },
 "nbformat": 4,
 "nbformat_minor": 2
}
