{
 "cells": [
  {
   "cell_type": "markdown",
   "metadata": {},
   "source": [
    "# 线性回归"
   ]
  },
  {
   "cell_type": "markdown",
   "metadata": {},
   "source": [
    "## load data"
   ]
  },
  {
   "cell_type": "code",
   "execution_count": 58,
   "metadata": {},
   "outputs": [
    {
     "data": {
      "image/png": "[encoded data removed]",
      "text/plain": [
       "<Figure size 432x288 with 1 Axes>"
      ]
     },
     "metadata": {},
     "output_type": "display_data"
    }
   ],
   "source": [
    "import numpy as np\n",
    "import matplotlib.pyplot as plt\n",
    "X0=np.linspace(0,1,100)\n",
    "np.random.seed(100)\n",
    "X=X0+np.random.normal(X0)*0.02\n",
    "\n",
    "Y=0.4*np.sin(X0*7*(np.pi) )+X*4\n",
    "\n",
    "plt.scatter(X,Y)\n",
    "plt.show()"
   ]
  },
  {
   "cell_type": "code",
   "execution_count": 47,
   "metadata": {},
   "outputs": [
    {
     "data": {
      "text/plain": [
       "(100, 2)"
      ]
     },
     "execution_count": 47,
     "metadata": {},
     "output_type": "execute_result"
    }
   ],
   "source": [
    "dataX=[]\n",
    "for i in range( len(X) ):\n",
    "    dataX.append([X[i],1])\n",
    "#\n",
    "np.array(dataX).shape"
   ]
  },
  {
   "cell_type": "code",
   "execution_count": 50,
   "metadata": {},
   "outputs": [
    {
     "data": {
      "text/plain": [
       "(100, 1)"
      ]
     },
     "execution_count": 50,
     "metadata": {},
     "output_type": "execute_result"
    }
   ],
   "source": [
    "np.mat(Y).T.shape"
   ]
  },
  {
   "cell_type": "markdown",
   "metadata": {},
   "source": [
    "## 标准回归函数"
   ]
  },
  {
   "cell_type": "code",
   "execution_count": 52,
   "metadata": {},
   "outputs": [
    {
     "data": {
      "text/plain": [
       "matrix([[3.9979792 ],\n",
       "        [0.03689268]])"
      ]
     },
     "execution_count": 52,
     "metadata": {},
     "output_type": "execute_result"
    }
   ],
   "source": [
    "def standRegres(xArr, yArr):\n",
    "    X=np.mat(xArr)\n",
    "    Y=np.mat(yArr).T\n",
    "    xTx=X.T*X\n",
    "    if np.linalg.det(xTx) == 0:\n",
    "        print(\"This matrix is singular, cannot do inverse\")\n",
    "        return\n",
    "    w=xTx.I * (X.T*Y)\n",
    "    return w\n",
    "# test\n",
    "w=standRegres(dataX, Y)\n",
    "w"
   ]
  },
  {
   "cell_type": "markdown",
   "metadata": {},
   "source": [
    "> y=a*x+b = xT.w =[x 1].[a b]T"
   ]
  },
  {
   "cell_type": "code",
   "execution_count": 68,
   "metadata": {
    "scrolled": true
   },
   "outputs": [
    {
     "data": {
      "text/plain": [
       "[-0.10301784140354783,\n",
       " 0.10548456122663062,\n",
       " 0.21147154267171747,\n",
       " 0.1402818999556566,\n",
       " 0.28012388314179887,\n",
       " 0.28396590673729777,\n",
       " 0.301725917280031,\n",
       " 0.2396715642249161,\n",
       " 0.35127107682580855,\n",
       " 0.4280041948667729,\n",
       " 0.412182039092953,\n",
       " 0.5247924786256688,\n",
       " 0.48452427055061775,\n",
       " 0.6376943408642771,\n",
       " 0.6673613654366672,\n",
       " 0.6464135189256349,\n",
       " 0.6534725334429264,\n",
       " 0.8194817893173828,\n",
       " 0.7433029509176542,\n",
       " 0.7301071321452711,\n",
       " 0.9901717947898432,\n",
       " 1.0251761039873433,\n",
       " 0.9229611452175384,\n",
       " 0.9169317860795342,\n",
       " 1.0402379358215506,\n",
       " 1.1416039018891255,\n",
       " 1.166316983155715,\n",
       " 1.2579272619506165,\n",
       " 1.1641632419573884,\n",
       " 1.2358922332787199,\n",
       " 1.2904146833129808,\n",
       " 1.1984239734357067,\n",
       " 1.294536689114615,\n",
       " 1.461488928723005,\n",
       " 1.4974021574362488,\n",
       " 1.4421308807006958,\n",
       " 1.6149012098342312,\n",
       " 1.4257897909059,\n",
       " 1.4937050061986343,\n",
       " 1.544808459683278,\n",
       " 1.6410115826742353,\n",
       " 1.6723092782817448,\n",
       " 1.7675121826627191,\n",
       " 1.759108287773424,\n",
       " 1.9532372302566272,\n",
       " 1.7519236106784295,\n",
       " 1.8530674501394175,\n",
       " 2.0014699886514764,\n",
       " 1.8850540524632116,\n",
       " 2.1728640880558716,\n",
       " 2.0014643271106904,\n",
       " 2.093691543868623,\n",
       " 2.103674621638133,\n",
       " 2.15383049506096,\n",
       " 2.269927600924819,\n",
       " 2.3430184677667616,\n",
       " 2.2746621850797832,\n",
       " 2.484703906681095,\n",
       " 2.4196224445866106,\n",
       " 2.3960368684308277,\n",
       " 2.437862495990746,\n",
       " 2.5510523918616963,\n",
       " 2.6097712870783334,\n",
       " 2.6330279672092622,\n",
       " 2.542359681367143,\n",
       " 2.630832645164139,\n",
       " 2.8045368673682365,\n",
       " 2.8555764968482675,\n",
       " 2.9200133461846054,\n",
       " 2.764575070496117,\n",
       " 2.7730630862635035,\n",
       " 2.9907476996921973,\n",
       " 2.976137576774139,\n",
       " 2.9887480565065827,\n",
       " 3.2477353143444923,\n",
       " 3.0822053457211447,\n",
       " 3.22743747792816,\n",
       " 3.1041162789697014,\n",
       " 3.2962365459203915,\n",
       " 3.202688237365909,\n",
       " 3.387378570858508,\n",
       " 3.4283114899733818,\n",
       " 3.28930766378086,\n",
       " 3.5281320019940345,\n",
       " 3.5592362636136103,\n",
       " 3.572394571588089,\n",
       " 3.588049909267293,\n",
       " 3.622797398762693,\n",
       " 3.6154444797792538,\n",
       " 3.607010833872106,\n",
       " 3.607702540933528,\n",
       " 3.8148192508867713,\n",
       " 3.9765423858343465,\n",
       " 3.837546621053992,\n",
       " 4.055355803969589,\n",
       " 3.9503075305889084,\n",
       " 3.9851787539678525,\n",
       " 4.032765307070511,\n",
       " 4.0588465090040975,\n",
       " 3.915959859117577]"
      ]
     },
     "execution_count": 68,
     "metadata": {},
     "output_type": "execute_result"
    }
   ],
   "source": [
    "predY=np.mat(dataX)*w\n",
    "yHat=predY.T.tolist()[0]\n",
    "yHat"
   ]
  },
  {
   "cell_type": "markdown",
   "metadata": {},
   "source": [
    "## plot regY"
   ]
  },
  {
   "cell_type": "code",
   "execution_count": 82,
   "metadata": {},
   "outputs": [
    {
     "data": {
      "image/png": "[encoded data removed]",
      "text/plain": [
       "<Figure size 432x288 with 1 Axes>"
      ]
     },
     "metadata": {},
     "output_type": "display_data"
    }
   ],
   "source": [
    "plt.scatter(X,Y,s=3)\n",
    "\n",
    "#这样画拟合直线，可以看到有些地方粗细不一样，因为plot是连接点的，所以要对点排序\n",
    "plt.plot(X, yHat, 'red', linewidth=0.5)\n",
    "plt.show()"
   ]
  },
  {
   "cell_type": "code",
   "execution_count": 96,
   "metadata": {},
   "outputs": [
    {
     "name": "stdout",
     "output_type": "stream",
     "text": [
      "(100, 2)\n",
      "(100, 1)\n"
     ]
    },
    {
     "data": {
      "image/png": "[encoded data removed]",
      "text/plain": [
       "<Figure size 432x288 with 1 Axes>"
      ]
     },
     "metadata": {},
     "output_type": "display_data"
    }
   ],
   "source": [
    "plt.scatter(X,Y,s=3)\n",
    "\n",
    "# 画拟合后的曲线\n",
    "Xcp=np.mat(dataX).copy() #1.复制x\n",
    "print(Xcp.shape) #100 2\n",
    "Xcp.sort(0) #2.对x排序\n",
    "yHat=Xcp*w #3. 预测y\n",
    "print(yHat.shape) #2 1\n",
    "yHat=yHat.T.tolist()[0] #获得y一列\n",
    "\n",
    "#画回归线\n",
    "plt.plot(Xcp[:,0], yHat, 'red', linewidth=0.5) #粗细一致了\n",
    "plt.show()"
   ]
  },
  {
   "cell_type": "markdown",
   "metadata": {},
   "source": [
    "## 评价回归效果：相关系数"
   ]
  },
  {
   "cell_type": "code",
   "execution_count": 107,
   "metadata": {},
   "outputs": [
    {
     "data": {
      "text/plain": [
       "array([[1.       , 0.9734068],\n",
       "       [0.9734068, 1.       ]])"
      ]
     },
     "execution_count": 107,
     "metadata": {},
     "output_type": "execute_result"
    }
   ],
   "source": [
    "# 2个行向量的相关系数\n",
    "np.corrcoef( (np.mat(dataX)*w).T,  np.mat(Y) ) #预测值, 真实值"
   ]
  },
  {
   "cell_type": "raw",
   "metadata": {},
   "source": [
    "# cor(X,Y)\n",
    "#XX, XY\n",
    "#YX, YY\n",
    "\n",
    "#cor(X,Y)=cor(Y,X)\n",
    "#相关系数为 0.9734068"
   ]
  },
  {
   "cell_type": "markdown",
   "metadata": {},
   "source": [
    "> 线性回归的常见问题是：欠拟合现象"
   ]
  },
  {
   "cell_type": "markdown",
   "metadata": {},
   "source": [
    "# 局部加权线性回归"
   ]
  },
  {
   "cell_type": "markdown",
   "metadata": {},
   "source": [
    "> 在模型中引入一些偏差，从而降低预测的均方误差。"
   ]
  },
  {
   "cell_type": "markdown",
   "metadata": {},
   "source": [
    "## 局部加权线性回归 Locally Weighted Linear Regression, LWLR"
   ]
  },
  {
   "cell_type": "code",
   "execution_count": null,
   "metadata": {},
   "outputs": [],
   "source": [
    "# 给于附近的点一定的权重；\n",
    "\n"
   ]
  },
  {
   "cell_type": "code",
   "execution_count": null,
   "metadata": {},
   "outputs": [],
   "source": []
  },
  {
   "cell_type": "code",
   "execution_count": null,
   "metadata": {},
   "outputs": [],
   "source": []
  },
  {
   "cell_type": "code",
   "execution_count": null,
   "metadata": {},
   "outputs": [],
   "source": []
  }
 ],
 "metadata": {
  "kernelspec": {
   "display_name": "Python 3",
   "language": "python",
   "name": "python3"
  },
  "language_info": {
   "codemirror_mode": {
    "name": "ipython",
    "version": 3
   },
   "file_extension": ".py",
   "mimetype": "text/x-python",
   "name": "python",
   "nbconvert_exporter": "python",
   "pygments_lexer": "ipython3",
   "version": "3.6.4"
  },
  "toc": {
   "base_numbering": 1,
   "nav_menu": {},
   "number_sections": true,
   "sideBar": true,
   "skip_h1_title": false,
   "title_cell": "Table of Contents",
   "title_sidebar": "Contents",
   "toc_cell": false,
   "toc_position": {},
   "toc_section_display": true,
   "toc_window_display": true
  }
 },
 "nbformat": 4,
 "nbformat_minor": 2
}
