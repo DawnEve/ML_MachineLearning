{
 "cells": [
  {
   "cell_type": "markdown",
   "metadata": {},
   "source": [
    "# 线性回归"
   ]
  },
  {
   "cell_type": "markdown",
   "metadata": {},
   "source": [
    "## load data"
   ]
  },
  {
   "cell_type": "code",
   "execution_count": 49,
   "metadata": {},
   "outputs": [
    {
     "data": {
      "image/png": "[encoded data removed]",
      "text/plain": [
       "<Figure size 360x288 with 1 Axes>"
      ]
     },
     "metadata": {},
     "output_type": "display_data"
    }
   ],
   "source": [
    "import numpy as np\n",
    "import matplotlib.pyplot as plt\n",
    "X0=np.linspace(0,1,100)\n",
    "\n",
    "np.random.seed(100)\n",
    "X=X0+np.random.normal(X0)*0.02\n",
    "\n",
    "Y=0.4*np.sin(X0*7*(np.pi) )+X*4\n",
    "\n",
    "plt.figure(figsize=(5,4))\n",
    "plt.scatter(X,Y, s=3)\n",
    "plt.show()"
   ]
  },
  {
   "cell_type": "code",
   "execution_count": 2,
   "metadata": {},
   "outputs": [
    {
     "data": {
      "text/plain": [
       "(100, 2)"
      ]
     },
     "execution_count": 2,
     "metadata": {},
     "output_type": "execute_result"
    }
   ],
   "source": [
    "dataX=[]\n",
    "for i in range( len(X) ):\n",
    "    dataX.append([X[i],1])\n",
    "#\n",
    "np.array(dataX).shape"
   ]
  },
  {
   "cell_type": "code",
   "execution_count": 3,
   "metadata": {},
   "outputs": [
    {
     "data": {
      "text/plain": [
       "(100, 1)"
      ]
     },
     "execution_count": 3,
     "metadata": {},
     "output_type": "execute_result"
    }
   ],
   "source": [
    "np.mat(Y).T.shape"
   ]
  },
  {
   "cell_type": "markdown",
   "metadata": {},
   "source": [
    "## 标准回归函数"
   ]
  },
  {
   "cell_type": "code",
   "execution_count": 4,
   "metadata": {},
   "outputs": [
    {
     "data": {
      "text/plain": [
       "matrix([[3.9979792 ],\n",
       "        [0.03689268]])"
      ]
     },
     "execution_count": 4,
     "metadata": {},
     "output_type": "execute_result"
    }
   ],
   "source": [
    "def standRegres(xArr, yArr):\n",
    "    X=np.mat(xArr)\n",
    "    Y=np.mat(yArr).T\n",
    "    xTx=X.T*X\n",
    "    \n",
    "    if np.linalg.det(xTx) == 0:\n",
    "        print(\"This matrix is singular, cannot do inverse\")\n",
    "        return\n",
    "    \n",
    "    w=xTx.I * (X.T*Y)\n",
    "    return w\n",
    "# test\n",
    "w=standRegres(dataX, Y)\n",
    "w"
   ]
  },
  {
   "cell_type": "markdown",
   "metadata": {},
   "source": [
    "> y=a*x+b = xT.w =[x 1].[a b]T"
   ]
  },
  {
   "cell_type": "code",
   "execution_count": 5,
   "metadata": {
    "scrolled": true
   },
   "outputs": [
    {
     "data": {
      "text/plain": [
       "[-0.10301784140354783,\n",
       " 0.10548456122663062,\n",
       " 0.21147154267171747,\n",
       " 0.1402818999556566,\n",
       " 0.28012388314179887,\n",
       " 0.28396590673729777,\n",
       " 0.301725917280031,\n",
       " 0.2396715642249161,\n",
       " 0.35127107682580855,\n",
       " 0.4280041948667729]"
      ]
     },
     "execution_count": 5,
     "metadata": {},
     "output_type": "execute_result"
    }
   ],
   "source": [
    "predY=np.mat(dataX)*w\n",
    "yHat=predY.T.tolist()[0]\n",
    "yHat[0:10]"
   ]
  },
  {
   "cell_type": "markdown",
   "metadata": {},
   "source": [
    "## plot regY"
   ]
  },
  {
   "cell_type": "code",
   "execution_count": 6,
   "metadata": {},
   "outputs": [
    {
     "data": {
      "image/png": "[encoded data removed]",
      "text/plain": [
       "<Figure size 432x288 with 1 Axes>"
      ]
     },
     "metadata": {},
     "output_type": "display_data"
    }
   ],
   "source": [
    "plt.scatter(X,Y,s=3)\n",
    "\n",
    "#这样画拟合直线，可以看到有些地方粗细不一样，因为plot是连接点的，所以要对点排序\n",
    "plt.plot(X, yHat, 'red', linewidth=0.5)\n",
    "plt.show()"
   ]
  },
  {
   "cell_type": "code",
   "execution_count": 7,
   "metadata": {},
   "outputs": [
    {
     "name": "stdout",
     "output_type": "stream",
     "text": [
      "(100, 2)\n",
      "(100, 1)\n"
     ]
    },
    {
     "data": {
      "image/png": "[encoded data removed]",
      "text/plain": [
       "<Figure size 432x288 with 1 Axes>"
      ]
     },
     "metadata": {},
     "output_type": "display_data"
    }
   ],
   "source": [
    "plt.scatter(X,Y,s=3)\n",
    "\n",
    "# 画拟合后的曲线\n",
    "Xcp=np.mat(dataX).copy() #1.复制x\n",
    "print(Xcp.shape) #100 2\n",
    "Xcp.sort(0) #2.对x排序\n",
    "yHat=Xcp*w #3. 预测y\n",
    "print(yHat.shape) #2 1\n",
    "yHat=yHat.T.tolist()[0] #获得y一列\n",
    "\n",
    "#画回归线\n",
    "plt.plot(Xcp[:,0], yHat, 'red', linewidth=0.5) #粗细一致了\n",
    "plt.show()"
   ]
  },
  {
   "cell_type": "markdown",
   "metadata": {},
   "source": [
    "## 评价回归效果：相关系数"
   ]
  },
  {
   "cell_type": "code",
   "execution_count": 8,
   "metadata": {},
   "outputs": [
    {
     "data": {
      "text/plain": [
       "array([[1.       , 0.9734068],\n",
       "       [0.9734068, 1.       ]])"
      ]
     },
     "execution_count": 8,
     "metadata": {},
     "output_type": "execute_result"
    }
   ],
   "source": [
    "# 2个行向量的相关系数\n",
    "np.corrcoef( (np.mat(dataX)*w).T,  np.mat(Y) ) #预测值, 真实值"
   ]
  },
  {
   "cell_type": "raw",
   "metadata": {},
   "source": [
    "# cor(X,Y)\n",
    "#XX, XY\n",
    "#YX, YY\n",
    "\n",
    "#cor(X,Y)=cor(Y,X)\n",
    "#相关系数为 0.9734068"
   ]
  },
  {
   "cell_type": "markdown",
   "metadata": {},
   "source": [
    "> 线性回归的常见问题是：欠拟合现象"
   ]
  },
  {
   "cell_type": "markdown",
   "metadata": {},
   "source": [
    "# 局部加权线性回归"
   ]
  },
  {
   "cell_type": "markdown",
   "metadata": {},
   "source": [
    "> 在模型中引入一些偏差，从而降低预测的均方误差。"
   ]
  },
  {
   "cell_type": "markdown",
   "metadata": {},
   "source": [
    "## 局部加权线性回归 Locally Weighted Linear Regression, LWLR"
   ]
  },
  {
   "cell_type": "code",
   "execution_count": 72,
   "metadata": {},
   "outputs": [
    {
     "data": {
      "text/plain": [
       "matrix([[-0.08634431]])"
      ]
     },
     "execution_count": 72,
     "metadata": {},
     "output_type": "execute_result"
    }
   ],
   "source": [
    "# 给于附近的点一定的权重；\n",
    "import numpy as np\n",
    "def lwlr(testPoint, xArr, yArr, k=1.0):\n",
    "    xMat=np.mat(xArr);\n",
    "    yMat=np.mat(yArr).T;\n",
    "    m=np.shape(xMat)[0]\n",
    "    weights=np.mat(np.eye((m))) #创建对角矩阵，做权重矩阵\n",
    "    \n",
    "    # 计算权重\n",
    "    for j in range(m):\n",
    "        diffMat=testPoint - xMat[j, :]\n",
    "        # 权重值以指数衰减\n",
    "        weights[j,j]=np.exp(diffMat*diffMat.T/(-2*k**2) )\n",
    "    \n",
    "    xTx=xMat.T * (weights * xMat)\n",
    "    if np.linalg.det(xTx) == 0.0:\n",
    "        print('This matrix is singular, cannot do inverse')\n",
    "        return;\n",
    "    \n",
    "    ws=xTx.I * (xMat.T*(weights*yMat))\n",
    "    return testPoint*ws;\n",
    "\n",
    "\n",
    "#\n",
    "def lwlrTest(testArr, xArr, yArr, k=1.0):\n",
    "    m=np.shape( testArr)[0]\n",
    "    yHat=np.zeros(m)\n",
    "    for i in range(m):\n",
    "        yHat[i]=lwlr(testArr[i], xArr, yArr, k)\n",
    "    return yHat\n",
    "# test：单点估计\n",
    "lwlr(dataX[0], dataX, Y, 1.0 )"
   ]
  },
  {
   "cell_type": "code",
   "execution_count": 73,
   "metadata": {},
   "outputs": [
    {
     "data": {
      "text/plain": [
       "matrix([[-0.14015998]])"
      ]
     },
     "execution_count": 73,
     "metadata": {},
     "output_type": "execute_result"
    }
   ],
   "source": [
    "lwlr(dataX[0], dataX, Y, 0.02 )"
   ]
  },
  {
   "cell_type": "markdown",
   "metadata": {},
   "source": [
    "## 对所有点估计"
   ]
  },
  {
   "cell_type": "code",
   "execution_count": 112,
   "metadata": {},
   "outputs": [
    {
     "name": "stdout",
     "output_type": "stream",
     "text": [
      "(100,)\n"
     ]
    },
    {
     "data": {
      "text/plain": [
       "array([-0.13998491,  0.15737778,  0.39817247,  0.32249822,  0.59510212,\n",
       "        0.6008564 ,  0.63216325,  0.51353383,  0.69599164,  0.71916543,\n",
       "        0.71715138,  0.7435635 ,  0.66890407,  0.61766155,  0.54989891,\n",
       "        0.58812329,  0.57332541,  0.54433453,  0.3832315 ,  0.38871518,\n",
       "        0.56873356,  0.6209046 ,  0.50454795,  0.50160347,  0.65896148,\n",
       "        0.83816152,  1.04053354,  1.27088492,  1.02295029,  1.24995619,\n",
       "        1.45276136,  1.21724007,  1.48745128,  1.79120679,  1.80797227,\n",
       "        1.78216656,  1.92615425,  1.77330293,  1.80723459,  1.80226315,\n",
       "        1.84630826,  1.75724809,  1.71371826,  1.64506849,  1.73309557,\n",
       "        1.5970522 ,  1.53164998,  1.60028873,  1.50726491,  1.77030704,\n",
       "        1.60030553,  1.69358003,  1.7138    ,  1.78042593,  2.09217195,\n",
       "        2.20978596,  2.10678159,  2.5736823 ,  2.57265832,  2.49684337,\n",
       "        2.58740706,  2.87401551,  2.95131724,  2.98692528,  2.84773668,\n",
       "        2.98323499,  3.03914373,  3.11216482,  3.08543146,  2.82368479,\n",
       "        2.87454757,  2.8348258 ,  2.86735798,  2.83666667,  2.89657058,\n",
       "        2.71874366,  2.8479787 ,  2.67817955,  2.93364558,  2.77663117,\n",
       "        3.00193755,  3.09094379,  2.93692876,  3.32239849,  3.48342203,\n",
       "        3.56941997,  3.6810881 ,  3.88138209,  3.85375216,  3.80913586,\n",
       "        3.8132065 ,  4.17316207,  4.24479372,  4.17207526,  4.23060374,\n",
       "        4.15190155,  4.24586564,  4.2217779 ,  4.23336831,  3.93572822])"
      ]
     },
     "execution_count": 112,
     "metadata": {},
     "output_type": "execute_result"
    }
   ],
   "source": [
    "# 对所有点估计\n",
    "yHat=lwlrTest(dataX, dataX, Y, 0.007)\n",
    "print(yHat.shape)\n",
    "yHat"
   ]
  },
  {
   "cell_type": "markdown",
   "metadata": {},
   "source": [
    "## 画图 k=0.007"
   ]
  },
  {
   "cell_type": "code",
   "execution_count": 117,
   "metadata": {},
   "outputs": [
    {
     "name": "stdout",
     "output_type": "stream",
     "text": [
      "(100, 1)\n",
      "[[ 1]\n",
      " [ 3]\n",
      " [ 2]\n",
      " [ 7]\n",
      " [ 4]\n",
      " [ 5]\n",
      " [ 6]\n",
      " [ 8]\n",
      " [10]]\n",
      "(100, 2)\n"
     ]
    },
    {
     "data": {
      "text/plain": [
       "matrix([[0.01715664, 1.        ],\n",
       "        [0.02586037, 1.        ],\n",
       "        [0.04366678, 1.        ],\n",
       "        [0.05072035, 1.        ],\n",
       "        [0.06083854, 1.        ],\n",
       "        [0.06179953, 1.        ],\n",
       "        [0.06624178, 1.        ],\n",
       "        [0.07863433, 1.        ],\n",
       "        [0.09386976, 1.        ]])"
      ]
     },
     "execution_count": 117,
     "metadata": {},
     "output_type": "execute_result"
    }
   ],
   "source": [
    "# 排序\n",
    "xMat=np.mat(dataX)\n",
    "sortInd=xMat[:,0].argsort(0) #返回的是排序序号\n",
    "print( sortInd.shape )\n",
    "print( sortInd[1:10,] )\n",
    "#\n",
    "xSort=xMat[sortInd][:,0,:] #这个排序看不懂 //todo\n",
    "print( xSort.shape )\n",
    "xSort[1:10, :]"
   ]
  },
  {
   "cell_type": "code",
   "execution_count": 124,
   "metadata": {},
   "outputs": [
    {
     "name": "stdout",
     "output_type": "stream",
     "text": [
      "(100, 1, 2)\n"
     ]
    },
    {
     "data": {
      "text/plain": [
       "matrix([[[0.01715664, 1.        ]],\n",
       "\n",
       "        [[0.02586037, 1.        ]],\n",
       "\n",
       "        [[0.04366678, 1.        ]],\n",
       "\n",
       "        [[0.05072035, 1.        ]],\n",
       "\n",
       "        [[0.06083854, 1.        ]],\n",
       "\n",
       "        [[0.06179953, 1.        ]],\n",
       "\n",
       "        [[0.06624178, 1.        ]],\n",
       "\n",
       "        [[0.07863433, 1.        ]],\n",
       "\n",
       "        [[0.09386976, 1.        ]]])"
      ]
     },
     "execution_count": 124,
     "metadata": {},
     "output_type": "execute_result"
    }
   ],
   "source": [
    "# test\n",
    "print(xMat[sortInd].shape)\n",
    "xMat[sortInd][1:10,:,:] #中间维度多余"
   ]
  },
  {
   "cell_type": "code",
   "execution_count": 114,
   "metadata": {},
   "outputs": [
    {
     "data": {
      "image/png": "[encoded data removed]",
      "text/plain": [
       "<Figure size 432x288 with 1 Axes>"
      ]
     },
     "metadata": {},
     "output_type": "display_data"
    }
   ],
   "source": [
    "import matplotlib.pyplot as plt\n",
    "fig=plt.figure()\n",
    "ax=fig.add_subplot(111)\n",
    "\n",
    "ax.scatter(X, Y, s=3)\n",
    "ax.plot(xSort[:,0], yHat[sortInd], c='red')\n",
    "#ax.scatter(xMat[:,0].flatten().A[0], np.mat(yHat).T.flatten().A[0], s=2, c='red')\n",
    "plt.title('k=0.007')\n",
    "plt.show()"
   ]
  },
  {
   "cell_type": "markdown",
   "metadata": {},
   "source": [
    "## k=0.02 接近数据点的曲线"
   ]
  },
  {
   "cell_type": "code",
   "execution_count": 145,
   "metadata": {},
   "outputs": [
    {
     "data": {
      "image/png": "[encoded data removed]",
      "text/plain": [
       "<Figure size 432x288 with 1 Axes>"
      ]
     },
     "metadata": {},
     "output_type": "display_data"
    }
   ],
   "source": [
    "def test(k=0.007):\n",
    "    yHat=lwlrTest(dataX, dataX, Y, k)\n",
    "    \n",
    "    #计算误差\n",
    "    rssError= ( (Y-yHat.T)**2 ).sum()\n",
    "\n",
    "    import matplotlib.pyplot as plt\n",
    "    fig=plt.figure()\n",
    "    ax=fig.add_subplot(111)\n",
    "\n",
    "    ax.scatter(X, Y, s=3)\n",
    "    ax.plot(xSort[:,0], yHat[sortInd], c='red')\n",
    "    #ax.scatter(xMat[:,0].flatten().A[0], np.mat(yHat).T.flatten().A[0], s=2, c='red')\n",
    "    plt.title('k='+str(k)+\"; rssError=\"+str(rssError) )\n",
    "    plt.show()\n",
    "# test\n",
    "test(0.02)"
   ]
  },
  {
   "cell_type": "markdown",
   "metadata": {},
   "source": [
    "## k=0.1 近直线"
   ]
  },
  {
   "cell_type": "code",
   "execution_count": 146,
   "metadata": {},
   "outputs": [
    {
     "data": {
      "image/png": "[encoded data removed]",
      "text/plain": [
       "<Figure size 432x288 with 1 Axes>"
      ]
     },
     "metadata": {},
     "output_type": "display_data"
    }
   ],
   "source": [
    "test(0.1)"
   ]
  },
  {
   "cell_type": "markdown",
   "metadata": {},
   "source": [
    "## k=1 直线"
   ]
  },
  {
   "cell_type": "code",
   "execution_count": 147,
   "metadata": {},
   "outputs": [
    {
     "data": {
      "image/png": "[encoded data removed]",
      "text/plain": [
       "<Figure size 432x288 with 1 Axes>"
      ]
     },
     "metadata": {},
     "output_type": "display_data"
    }
   ],
   "source": [
    "test(1)"
   ]
  },
  {
   "cell_type": "markdown",
   "metadata": {},
   "source": [
    "## k就是N(mu, sigma^2)中的sigma"
   ]
  },
  {
   "cell_type": "markdown",
   "metadata": {},
   "source": [
    "权重 核函数 w(i,i)=exp( -|x-xi|/(2*k^2) ), k是参数"
   ]
  },
  {
   "cell_type": "markdown",
   "metadata": {},
   "source": [
    "> k相当于权重分散程度。\n",
    "- k越小，正态分布越集中，只用周围的点拟合；\n",
    "- k越大，正态分布越离散，几乎使用全部数据点拟合。"
   ]
  }
 ],
 "metadata": {
  "kernelspec": {
   "display_name": "Python 3",
   "language": "python",
   "name": "python3"
  },
  "language_info": {
   "codemirror_mode": {
    "name": "ipython",
    "version": 3
   },
   "file_extension": ".py",
   "mimetype": "text/x-python",
   "name": "python",
   "nbconvert_exporter": "python",
   "pygments_lexer": "ipython3",
   "version": "3.6.4"
  },
  "toc": {
   "base_numbering": 1,
   "nav_menu": {},
   "number_sections": true,
   "sideBar": true,
   "skip_h1_title": false,
   "title_cell": "Table of Contents",
   "title_sidebar": "Contents",
   "toc_cell": false,
   "toc_position": {},
   "toc_section_display": true,
   "toc_window_display": true
  }
 },
 "nbformat": 4,
 "nbformat_minor": 2
}
