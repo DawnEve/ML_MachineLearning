{
 "cells": [
  {
   "cell_type": "markdown",
   "metadata": {},
   "source": [
    "> SVM\n",
    "\n",
    "libsvm 库直接用吧。"
   ]
  },
  {
   "cell_type": "markdown",
   "metadata": {},
   "source": [
    "# load data"
   ]
  },
  {
   "cell_type": "code",
   "execution_count": 1,
   "metadata": {},
   "outputs": [
    {
     "name": "stdout",
     "output_type": "stream",
     "text": [
      "(100, 5)\n",
      "   Sepal.Length  Sepal.Width  Petal.Length  Petal.Width Species\n",
      "1           5.1          3.5           1.4          0.2  setosa\n",
      "2           4.9          3.0           1.4          0.2  setosa\n",
      "3           4.7          3.2           1.3          0.2  setosa\n",
      "4           4.6          3.1           1.5          0.2  setosa\n",
      "5           5.0          3.6           1.4          0.2  setosa\n"
     ]
    },
    {
     "data": {
      "text/html": [
       "<div>\n",
       "<style scoped>\n",
       "    .dataframe tbody tr th:only-of-type {\n",
       "        vertical-align: middle;\n",
       "    }\n",
       "\n",
       "    .dataframe tbody tr th {\n",
       "        vertical-align: top;\n",
       "    }\n",
       "\n",
       "    .dataframe thead th {\n",
       "        text-align: right;\n",
       "    }\n",
       "</style>\n",
       "<table border=\"1\" class=\"dataframe\">\n",
       "  <thead>\n",
       "    <tr style=\"text-align: right;\">\n",
       "      <th></th>\n",
       "      <th>Sepal.Length</th>\n",
       "      <th>Sepal.Width</th>\n",
       "      <th>Petal.Length</th>\n",
       "      <th>Petal.Width</th>\n",
       "      <th>Species</th>\n",
       "    </tr>\n",
       "  </thead>\n",
       "  <tbody>\n",
       "    <tr>\n",
       "      <th>96</th>\n",
       "      <td>5.7</td>\n",
       "      <td>3.0</td>\n",
       "      <td>4.2</td>\n",
       "      <td>1.2</td>\n",
       "      <td>versicolor</td>\n",
       "    </tr>\n",
       "    <tr>\n",
       "      <th>97</th>\n",
       "      <td>5.7</td>\n",
       "      <td>2.9</td>\n",
       "      <td>4.2</td>\n",
       "      <td>1.3</td>\n",
       "      <td>versicolor</td>\n",
       "    </tr>\n",
       "    <tr>\n",
       "      <th>98</th>\n",
       "      <td>6.2</td>\n",
       "      <td>2.9</td>\n",
       "      <td>4.3</td>\n",
       "      <td>1.3</td>\n",
       "      <td>versicolor</td>\n",
       "    </tr>\n",
       "    <tr>\n",
       "      <th>99</th>\n",
       "      <td>5.1</td>\n",
       "      <td>2.5</td>\n",
       "      <td>3.0</td>\n",
       "      <td>1.1</td>\n",
       "      <td>versicolor</td>\n",
       "    </tr>\n",
       "    <tr>\n",
       "      <th>100</th>\n",
       "      <td>5.7</td>\n",
       "      <td>2.8</td>\n",
       "      <td>4.1</td>\n",
       "      <td>1.3</td>\n",
       "      <td>versicolor</td>\n",
       "    </tr>\n",
       "  </tbody>\n",
       "</table>\n",
       "</div>"
      ],
      "text/plain": [
       "     Sepal.Length  Sepal.Width  Petal.Length  Petal.Width     Species\n",
       "96            5.7          3.0           4.2          1.2  versicolor\n",
       "97            5.7          2.9           4.2          1.3  versicolor\n",
       "98            6.2          2.9           4.3          1.3  versicolor\n",
       "99            5.1          2.5           3.0          1.1  versicolor\n",
       "100           5.7          2.8           4.1          1.3  versicolor"
      ]
     },
     "execution_count": 1,
     "metadata": {},
     "output_type": "execute_result"
    }
   ],
   "source": [
    "# iris 前100行(2类)，前2列\n",
    "import numpy as np\n",
    "import pandas as pd\n",
    "def loadDataSet():\n",
    "    dt=pd.read_csv('../data/iris_data/iris.csv', index_col=0)\n",
    "    return dt.iloc[0:100,:]\n",
    "iris=loadDataSet()\n",
    "print(iris.shape) #100 5\n",
    "print(iris.head())\n",
    "iris.tail()"
   ]
  },
  {
   "cell_type": "code",
   "execution_count": 2,
   "metadata": {},
   "outputs": [
    {
     "data": {
      "text/plain": [
       "<Figure size 640x480 with 1 Axes>"
      ]
     },
     "metadata": {},
     "output_type": "display_data"
    }
   ],
   "source": [
    "colors=[]\n",
    "for item in iris['Species']:\n",
    "    if item=='setosa':\n",
    "        colors.append('red')\n",
    "    else:\n",
    "        colors.append('orange')\n",
    "import matplotlib.pyplot as plt\n",
    "plt.scatter(iris['Sepal.Length'], iris['Sepal.Width'], color=colors )\n",
    "plt.show()"
   ]
  },
  {
   "cell_type": "code",
   "execution_count": 3,
   "metadata": {},
   "outputs": [
    {
     "name": "stdout",
     "output_type": "stream",
     "text": [
      "[[5.1, 3.5], [4.9, 3.0], [4.7, 3.2], [4.6, 3.1], [5.0, 3.6], [5.4, 3.9], [4.6, 3.4], [5.0, 3.4], [4.4, 2.9], [4.9, 3.1]]\n"
     ]
    },
    {
     "data": {
      "text/plain": [
       "[-1.0, -1.0, -1.0, -1.0, -1.0, -1.0, -1.0, -1.0, -1.0, -1.0]"
      ]
     },
     "execution_count": 3,
     "metadata": {},
     "output_type": "execute_result"
    }
   ],
   "source": [
    "# 标签要数字化\n",
    "def np2Array(npArr):\n",
    "    arr=[]\n",
    "    tags=[]\n",
    "    for i in range(npArr.shape[0]):\n",
    "        arr.append([npArr.iloc[i,0], npArr.iloc[i,1]])\n",
    "        if \"setosa\"==npArr.iloc[i,-1]:\n",
    "            tags.append(-1.0)\n",
    "        else:\n",
    "            tags.append(1.0)\n",
    "    return arr,tags\n",
    "dataArr, dataTags=np2Array(iris)\n",
    "\n",
    "print(dataArr[0:10])\n",
    "dataTags[0:10] #标签使用1和-1"
   ]
  },
  {
   "cell_type": "markdown",
   "metadata": {},
   "source": [
    "# 简易版SMO算法"
   ]
  },
  {
   "cell_type": "raw",
   "metadata": {},
   "source": [
    "1996年，John Platt发布了一个称为 SMO的强大算法，用于训练SVM。\n",
    "\n",
    "SMO表示序列最小优化(Sequential minimalOptimization)."
   ]
  },
  {
   "cell_type": "markdown",
   "metadata": {},
   "source": [
    "## 辅助函数"
   ]
  },
  {
   "cell_type": "code",
   "execution_count": 4,
   "metadata": {},
   "outputs": [
    {
     "data": {
      "text/plain": [
       "37"
      ]
     },
     "execution_count": 4,
     "metadata": {},
     "output_type": "execute_result"
    }
   ],
   "source": [
    "# 获取0-m之间，和i不等的一个随机整数\n",
    "import random\n",
    "def selectJrand(i, m):\n",
    "    j=i\n",
    "    while j==i:\n",
    "        j=int(random.uniform(0,m))\n",
    "    return j\n",
    "# test\n",
    "selectJrand(50, 100)"
   ]
  },
  {
   "cell_type": "code",
   "execution_count": 5,
   "metadata": {},
   "outputs": [
    {
     "data": {
      "text/plain": [
       "100"
      ]
     },
     "execution_count": 5,
     "metadata": {},
     "output_type": "execute_result"
    }
   ],
   "source": [
    "# 矫正alpha值，位于H和L之间\n",
    "def clipAlpha(alpha, H, L):\n",
    "    if alpha>H:\n",
    "        alpha=H\n",
    "    if alpha<L:\n",
    "        alpha=L\n",
    "    return alpha\n",
    "# test\n",
    "clipAlpha(10, 200, 100)"
   ]
  },
  {
   "cell_type": "markdown",
   "metadata": {},
   "source": [
    "## 简化版SMO算法"
   ]
  },
  {
   "cell_type": "markdown",
   "metadata": {},
   "source": [
    "> 简化版的SMO算法运行很慢"
   ]
  },
  {
   "cell_type": "markdown",
   "metadata": {},
   "source": [
    "### 怎么预测一个点的分类？"
   ]
  },
  {
   "cell_type": "markdown",
   "metadata": {},
   "source": [
    "f(x)=wT.x+b=求和(i=1,n aiyixi)T*x+b    ------>       (1)"
   ]
  },
  {
   "cell_type": "code",
   "execution_count": 6,
   "metadata": {},
   "outputs": [],
   "source": [
    "dataMatrix=np.mat(dataArr) #输入数据m行2列\n",
    "labelMat=np.mat(dataTags).transpose() #输入数据的标签，转置后 1列m行. 列向量\n",
    "\n",
    "b=0 #截距初始值\n",
    "m,n=np.shape(dataMatrix) #m行 n列\n",
    "alphas=np.mat(np.zeros((m, 1))) #初始化alpha值，m行1列的0矩阵  \n",
    "# --> 可以尝试 np.ones(),底下2种矩阵算法结果一样"
   ]
  },
  {
   "cell_type": "code",
   "execution_count": 7,
   "metadata": {},
   "outputs": [
    {
     "name": "stdout",
     "output_type": "stream",
     "text": [
      "(1, 100)\n",
      "(100, 1)\n",
      "Pred= [[0.]] 0.0\n",
      "fXi 0.0\n"
     ]
    }
   ],
   "source": [
    "i=2\n",
    "print(np.multiply(alphas, labelMat).T . shape) #1x100\n",
    "print((dataMatrix*dataMatrix[i, :].T).shape) #100x1\n",
    "\n",
    "# 矩阵算法1: 按公式(1)\n",
    "pred=(np.multiply(alphas, labelMat).T * dataMatrix) * dataMatrix[i, :].T +b\n",
    "print('Pred=', pred, pred.tolist()[0][0])\n",
    "\n",
    "# 矩阵算法2: 代码中使用的方法是后两者结合，这样不用矩阵嵌套成[[0.]]了，形式上更好。\n",
    "# 由于向量乘法满足结合律，所以怎么计算都行\n",
    "fXi=float(np.multiply(alphas, labelMat).T * (dataMatrix*dataMatrix[i, :].T)) +b\n",
    "print('fXi',fXi) #0"
   ]
  },
  {
   "cell_type": "markdown",
   "metadata": {},
   "source": [
    "### smoSimple()函数的实现"
   ]
  },
  {
   "cell_type": "code",
   "execution_count": 29,
   "metadata": {
    "scrolled": true
   },
   "outputs": [],
   "source": [
    "import numpy as np\n",
    "def smoSimple(dataMatIn, classLabels, C,toler, maxIter, debug=False):\n",
    "    dataMatrix=np.mat(dataMatIn) #输入数据m行2列\n",
    "    labelMat=np.mat(classLabels).transpose() #输入数据的标签，转置后 1列m行. 列向量\n",
    "    \n",
    "    b=0 #截距初始值\n",
    "    m,n=np.shape(dataMatrix) #m行 n列\n",
    "    alphas=np.mat(np.zeros((m, 1))) #初始化alpha值，m行1列的0矩阵\n",
    "    \n",
    "    if debug:print('数据维度: ',dataMatrix.shape, labelMat.shape, alphas.shape)\n",
    "    \n",
    "    iter2=0 # 没有任何alpha值改变的情况下，循环的次数\n",
    "    while iter2<maxIter:\n",
    "        alphaPairsChanged=0 #循环前，重置alpha更新次数计数器: 0次\n",
    "        for i in range(m): #每一个点\n",
    "            # 预测值fXi，预测已知点i的分类\n",
    "            fXi=float(np.multiply(alphas, labelMat).T * (dataMatrix*dataMatrix[i, :].T)) +b\n",
    "            # 预测相对于实际的差异\n",
    "            Ei=fXi - float(labelMat[i])\n",
    "            # 如果alpha可以更改，则进入优化过程\n",
    "            if ((labelMat[i]*Ei < -toler) and (alphas[i]<C) ) or \\\n",
    "                ((labelMat[i]*Ei > toler) and (alphas[i]>0)):  ## 最开始的alpha都是0，怎么进入if的?\n",
    "                    #知道了，都是用上一个条件<C进入的\n",
    "                    # 而之后，一旦alpha小于0或者大于C，会被调整为0或C。而一旦碰到这两个边界，就不会进入if，不会被继续优化。\n",
    "                    \n",
    "                j = selectJrand(i, m) #随机选择第二个alpha一起调整，j!=i\n",
    "                # 预测j点分类\n",
    "                fXj=float(np.multiply(alphas, labelMat).T * (dataMatrix*dataMatrix[j,:].T))+b\n",
    "                # 预测相对于实际的差异\n",
    "                Ej=fXj-float(labelMat[j])\n",
    "                \n",
    "                # 记录i和j点旧的alpha\n",
    "                alphaIold=alphas[i].copy();\n",
    "                alphaJold=alphas[j].copy();\n",
    "                \n",
    "                \n",
    "                # 保证alpha在0到C之间  //------------------------------------------>>>>>todo??\n",
    "                # 为什么这样调整？是下文决定的吗？\n",
    "                if (labelMat[i] != labelMat[j]):  #(1)如果训练样本的标签类别不同\n",
    "                    L=max(0, alphas[j]-alphas[i])   # 最小值，\n",
    "                    H=min(C, C+alphas[j]-alphas[i]) # 最大值，\n",
    "                else:                             #(2) 如果训练样本i和j同类\n",
    "                    L=max(0, alphas[j]+alphas[i]-C)  #\n",
    "                    H=min(C, alphas[j]+alphas[i])\n",
    "                \n",
    "                # 如果L==H，无法调整，下一个数据点\n",
    "                if L==H:\n",
    "                    if debug:print( \"L==H\")\n",
    "                    continue;\n",
    "                \n",
    "                \n",
    "                ########################\n",
    "                # eta是优化变量 eta=-(xi-xj)^2=2*xi*xj - xi^2 * xj^2 <=0， \n",
    "                ########################\n",
    "                eta=2.0 * dataMatrix[i,:]*dataMatrix[j,:].T - \\\n",
    "                    dataMatrix[i, :]*dataMatrix[i,:].T - \\\n",
    "                    dataMatrix[j, :]*dataMatrix[j,:].T\n",
    "                if eta==0: # 当eta==0时，不好优化；先跳过去\n",
    "                    if debug:print('eta==0')\n",
    "                    continue;\n",
    "                \n",
    "                # 然后改变alphaj, 该变量是: input*delta*缩放系数\n",
    "                alphas[j] -= labelMat[j]*(Ei-Ej)/eta\n",
    "                alphas[j] = clipAlpha(alphas[j],H,L) # 对alphaj进行调整\n",
    "                if (abs(alphas[j]-alphaJold)<0.000001): #如果alphaj基本和原来基本没有变化，则继续下一个点\n",
    "                    if debug:print(\"j not moving enough\")\n",
    "                    alphas[j]=alphaJold #恢复alphaj为原样\n",
    "                    continue;\n",
    "                    \n",
    "                # 然后如果alphaj变动比较大，则同时变动alphai: 大小相同，符号相反\n",
    "                alphas[i] += labelMat[j]*labelMat[i]*(alphaJold-alphas[j])\n",
    "                \n",
    "                \n",
    "                # 这个是干啥的？\n",
    "                #########################\n",
    "                # 矫正 b 的，没看懂原理\n",
    "                #########################\n",
    "                b1=b-Ei-labelMat[i]*(alphas[i]-alphaIold)*dataMatrix[i, :]*dataMatrix[i,:].T-\\\n",
    "                        labelMat[j]*(alphas[j]-alphaJold)*dataMatrix[i, :]*dataMatrix[j,:].T\n",
    "                b2=b-Ej-labelMat[i]*(alphas[i]-alphaIold)*dataMatrix[i, :]*dataMatrix[j,:].T-\\\n",
    "                        labelMat[j]*(alphas[j]-alphaJold)*dataMatrix[j, :]*dataMatrix[j,:].T\n",
    "                # \n",
    "                if (0<alphas[i]) and (alphas[i]<C):\n",
    "                    b=b1\n",
    "                elif (0<alphas[j]) and (alphas[j]<C):\n",
    "                    b=b2\n",
    "                else:\n",
    "                    b=(b1+b2)/2.0\n",
    "                \n",
    "                # 执行到这里，说明程序更新了alphai和j\n",
    "                alphaPairsChanged += 1\n",
    "                if debug:print(\"iter: %d i:%d, pairs changed %d\" % (iter2, i, alphaPairsChanged))\n",
    "        # 如果没有更新，则迭代次数递增1，当持续空迭代max次后，循环结束\n",
    "        if alphaPairsChanged==0:\n",
    "            iter2 += 1\n",
    "        else:\n",
    "            iter2=0 #如果更新过alpha，则让迭代次数归零。\n",
    "        if debug:print(\">>> iteration number: %d\" % iter2)\n",
    "    return b.tolist()[0][0], alphas\n",
    "# test\n",
    "#smoSimple(dataMatIn, classLabels, C,toler, maxIter)\n",
    "random.seed(2020)\n",
    "np.random.seed(2020)\n",
    "b, alphas=smoSimple(dataArr, dataTags, C=200, toler=0.00001, maxIter=20)\n",
    "# C=100挺好的，10也行"
   ]
  },
  {
   "cell_type": "code",
   "execution_count": 30,
   "metadata": {},
   "outputs": [
    {
     "name": "stdout",
     "output_type": "stream",
     "text": [
      "-17.07606941387632\n"
     ]
    },
    {
     "data": {
      "text/plain": [
       "matrix([[2.77555756e-16, 4.44089210e-16, 5.55111512e-17, 1.55376758e+01,\n",
       "         1.72409811e+01, 1.56054000e+01, 2.77555756e-16, 1.71732568e+01]])"
      ]
     },
     "execution_count": 30,
     "metadata": {},
     "output_type": "execute_result"
    }
   ],
   "source": [
    "print(b)\n",
    "alphas[alphas>0]"
   ]
  },
  {
   "cell_type": "markdown",
   "metadata": {},
   "source": [
    "### 获得支持向量"
   ]
  },
  {
   "cell_type": "code",
   "execution_count": 31,
   "metadata": {
    "scrolled": true
   },
   "outputs": [
    {
     "name": "stdout",
     "output_type": "stream",
     "text": [
      "[[4.9, 2.4], [5.6, 2.9], [5.4, 3.0]]\n"
     ]
    },
    {
     "data": {
      "text/plain": [
       "[[4.9, 3.1], [5.4, 3.7], [4.9, 3.1], [5.5, 3.5], [4.5, 2.3]]"
      ]
     },
     "execution_count": 31,
     "metadata": {},
     "output_type": "execute_result"
    }
   ],
   "source": [
    "def getSupportVec(alphas):\n",
    "    setNeg=[]\n",
    "    setPos=[]\n",
    "    for i in range(100):\n",
    "        if alphas[i]>0:\n",
    "            #print(dataArr[i], dataTags[i])\n",
    "            if dataTags[i]>0:\n",
    "                setPos.append(dataArr[i])\n",
    "            else:\n",
    "                setNeg.append(dataArr[i])\n",
    "    return setPos, setNeg\n",
    "# test\n",
    "setPos,setNeg=getSupportVec(alphas)\n",
    "print(setPos)\n",
    "setNeg"
   ]
  },
  {
   "cell_type": "markdown",
   "metadata": {},
   "source": [
    "> 事实上，所有非支持向量的系数alphai=0.\n",
    "\n",
    "> f(x)=wT.x+b=求和(i=1,n, ai*yi*xi)T*x+b\n",
    "\n",
    "获取支持向量后，之后对未知数据点的预测只是用支持向量(其他点的系数alphai都是0)。\n",
    "\n",
    "对于一个新向量，计算它与支持向量的内积即可，大部分训练向量不再需要，从而大大加快了分类速度。\n",
    "\n",
    "这也是支持向量机的名字的由来。这也是SVM后续使用 核函数 进行非线性推广的基本前提。"
   ]
  },
  {
   "cell_type": "markdown",
   "metadata": {},
   "source": [
    "### 获取超平面w，并可视化"
   ]
  },
  {
   "cell_type": "markdown",
   "metadata": {},
   "source": [
    "w=alphas*y*x\n",
    "\n",
    "np.mat(dataArr).shape #(100, 2)\n",
    "\n",
    "np.multiply(alphas.T, np.mat(dataTags) ).shape #(1, 100)"
   ]
  },
  {
   "cell_type": "code",
   "execution_count": 32,
   "metadata": {},
   "outputs": [
    {
     "data": {
      "text/plain": [
       "[6.160415360845888, -5.063391178230496]"
      ]
     },
     "execution_count": 32,
     "metadata": {},
     "output_type": "execute_result"
    }
   ],
   "source": [
    "# get w\n",
    "def getW(alphas, dataArr, dataTags):\n",
    "    w=np.multiply(np.mat(alphas).T, np.mat(dataTags))*np.mat(dataArr)\n",
    "    w2=w.tolist()[0]\n",
    "    return w2\n",
    "#test\n",
    "w=getW(alphas, dataArr, dataTags)\n",
    "w"
   ]
  },
  {
   "cell_type": "code",
   "execution_count": 33,
   "metadata": {
    "scrolled": true
   },
   "outputs": [
    {
     "name": "stdout",
     "output_type": "stream",
     "text": [
      "[6.160415360845888, -5.063391178230496] -17.07606941387632\n"
     ]
    },
    {
     "data": {
      "image/png": "[encoded data removed]",
      "text/plain": [
       "<Figure size 432x288 with 1 Axes>"
      ]
     },
     "metadata": {},
     "output_type": "display_data"
    }
   ],
   "source": [
    "# plot line and dot\n",
    "def plot2(w,b):\n",
    "    print(w,b)\n",
    "    colors=[]\n",
    "    for item in iris['Species']:\n",
    "        if item=='setosa':\n",
    "            colors.append('blue')\n",
    "        else:\n",
    "            colors.append('red')\n",
    "    import matplotlib.pyplot as plt\n",
    "    plt.scatter(iris['Sepal.Length'], iris['Sepal.Width'], color=colors,s=20 )\n",
    "    \n",
    "    # 画出支持向量点\n",
    "    setPos,setNeg=getSupportVec(alphas)\n",
    "    def getXY(pos):\n",
    "        x=[];y=[]\n",
    "        for i in range(len(pos)):\n",
    "            p=pos[i]\n",
    "            x.append(p[0])\n",
    "            y.append(p[1])\n",
    "        return x,y\n",
    "    X,Y=getXY(setPos)\n",
    "    plt.scatter(X,Y, color=\"yellow\", s=10)\n",
    "    X,Y=getXY(setNeg)\n",
    "    plt.scatter(X,Y, color=\"cyan\", s=10)\n",
    "    \n",
    "    # 分割线\n",
    "    x=np.linspace(4.5, 6.5, 100)\n",
    "    y=(-b-w[0]*x)/w[1]\n",
    "    plt.plot(x,y, 'k--')\n",
    "    # \n",
    "    \n",
    "    plt.show()\n",
    "# test\n",
    "plot2(w,b)"
   ]
  },
  {
   "cell_type": "markdown",
   "metadata": {},
   "source": [
    "> 上图可见，用的C过大，导致过拟合了：支持向量不都是距离分割线最近的点了。"
   ]
  },
  {
   "cell_type": "markdown",
   "metadata": {},
   "source": [
    "### 使用模型：预测一个未知点的类别"
   ]
  },
  {
   "cell_type": "code",
   "execution_count": 34,
   "metadata": {},
   "outputs": [
    {
     "name": "stdout",
     "output_type": "stream",
     "text": [
      "   Sepal.Length  Sepal.Width  Petal.Length  Petal.Width Species\n",
      "1           5.1          3.5           1.4          0.2  setosa\n",
      "2           4.9          3.0           1.4          0.2  setosa\n",
      "3           4.7          3.2           1.3          0.2  setosa\n"
     ]
    },
    {
     "data": {
      "text/html": [
       "<div>\n",
       "<style scoped>\n",
       "    .dataframe tbody tr th:only-of-type {\n",
       "        vertical-align: middle;\n",
       "    }\n",
       "\n",
       "    .dataframe tbody tr th {\n",
       "        vertical-align: top;\n",
       "    }\n",
       "\n",
       "    .dataframe thead th {\n",
       "        text-align: right;\n",
       "    }\n",
       "</style>\n",
       "<table border=\"1\" class=\"dataframe\">\n",
       "  <thead>\n",
       "    <tr style=\"text-align: right;\">\n",
       "      <th></th>\n",
       "      <th>Sepal.Length</th>\n",
       "      <th>Sepal.Width</th>\n",
       "      <th>Petal.Length</th>\n",
       "      <th>Petal.Width</th>\n",
       "      <th>Species</th>\n",
       "    </tr>\n",
       "  </thead>\n",
       "  <tbody>\n",
       "    <tr>\n",
       "      <th>96</th>\n",
       "      <td>5.7</td>\n",
       "      <td>3.0</td>\n",
       "      <td>4.2</td>\n",
       "      <td>1.2</td>\n",
       "      <td>versicolor</td>\n",
       "    </tr>\n",
       "    <tr>\n",
       "      <th>97</th>\n",
       "      <td>5.7</td>\n",
       "      <td>2.9</td>\n",
       "      <td>4.2</td>\n",
       "      <td>1.3</td>\n",
       "      <td>versicolor</td>\n",
       "    </tr>\n",
       "    <tr>\n",
       "      <th>98</th>\n",
       "      <td>6.2</td>\n",
       "      <td>2.9</td>\n",
       "      <td>4.3</td>\n",
       "      <td>1.3</td>\n",
       "      <td>versicolor</td>\n",
       "    </tr>\n",
       "    <tr>\n",
       "      <th>99</th>\n",
       "      <td>5.1</td>\n",
       "      <td>2.5</td>\n",
       "      <td>3.0</td>\n",
       "      <td>1.1</td>\n",
       "      <td>versicolor</td>\n",
       "    </tr>\n",
       "  </tbody>\n",
       "</table>\n",
       "</div>"
      ],
      "text/plain": [
       "    Sepal.Length  Sepal.Width  Petal.Length  Petal.Width     Species\n",
       "96           5.7          3.0           4.2          1.2  versicolor\n",
       "97           5.7          2.9           4.2          1.3  versicolor\n",
       "98           6.2          2.9           4.3          1.3  versicolor\n",
       "99           5.1          2.5           3.0          1.1  versicolor"
      ]
     },
     "execution_count": 34,
     "metadata": {},
     "output_type": "execute_result"
    }
   ],
   "source": [
    "# f(x)=w^T.x+b\n",
    "\n",
    "print(iris.iloc[0:3,:])\n",
    "iris.iloc[95:99,:]"
   ]
  },
  {
   "cell_type": "code",
   "execution_count": 35,
   "metadata": {},
   "outputs": [
    {
     "name": "stdout",
     "output_type": "stream",
     "text": [
      "[6.160415360845888, -5.063391178230496] -17.07606941387632\n"
     ]
    }
   ],
   "source": [
    "print(w,b)"
   ]
  },
  {
   "cell_type": "code",
   "execution_count": 36,
   "metadata": {},
   "outputs": [
    {
     "name": "stdout",
     "output_type": "stream",
     "text": [
      "[[-3.3798202]]\n"
     ]
    },
    {
     "data": {
      "text/plain": [
       "'setosa'"
      ]
     },
     "execution_count": 36,
     "metadata": {},
     "output_type": "execute_result"
    }
   ],
   "source": [
    "def clisifySVM(x, w,b):\n",
    "    rs=np.mat(w)*np.mat(x).T+b\n",
    "    rs.tolist()[0][0]\n",
    "    print(rs)\n",
    "    if rs<=0:\n",
    "        return 'setosa'\n",
    "    else:\n",
    "        return \"versicolor\"\n",
    "# test\n",
    "clisifySVM([5.1,3.5 ],w,b)"
   ]
  },
  {
   "cell_type": "code",
   "execution_count": 37,
   "metadata": {},
   "outputs": [
    {
     "name": "stdout",
     "output_type": "stream",
     "text": [
      "[[2.84812461]]\n"
     ]
    },
    {
     "data": {
      "text/plain": [
       "'versicolor'"
      ]
     },
     "execution_count": 37,
     "metadata": {},
     "output_type": "execute_result"
    }
   ],
   "source": [
    "clisifySVM([5.7,3.0],w,b)"
   ]
  },
  {
   "cell_type": "markdown",
   "metadata": {},
   "source": [
    "## 松弛变量C (slack variable): 错判罚分"
   ]
  },
  {
   "cell_type": "markdown",
   "metadata": {},
   "source": [
    "如果数据不是完全线性可分的，也就是怎么划分，都会有少量点是错判的，怎么办？\n",
    "\n",
    "引入惩罚函数，就是这个点到其正确位置的距离。\n",
    "\n",
    "> The C parameter allows you to decide how much you want to penalize misclassified points.\n",
    "\n",
    "> 常数C是为了平衡“最大化间隔”和“保证大部分店的函数间隔小于1.0”这两个目标的权重。\n",
    "\n",
    "low C: prioritize simplicity(soft margin) 分错的点多\n",
    "\n",
    "high C: prioritize making few mistakes.分错的点少，但是过拟合的情况比较严重。\n",
    "\n",
    "怎么选合适的C参数呢？反复尝试，做k-C.V曲线、可视化。"
   ]
  },
  {
   "cell_type": "markdown",
   "metadata": {},
   "source": [
    "### large C=20，错判点少"
   ]
  },
  {
   "cell_type": "code",
   "execution_count": 38,
   "metadata": {},
   "outputs": [
    {
     "name": "stdout",
     "output_type": "stream",
     "text": [
      "-17.210272150254823\n"
     ]
    }
   ],
   "source": [
    "b, alphas=smoSimple(dataArr, dataTags, C=20, toler=0.00001, maxIter=40)\n",
    "# C=100挺好的，10也行\n",
    "print(b)"
   ]
  },
  {
   "cell_type": "code",
   "execution_count": 39,
   "metadata": {},
   "outputs": [
    {
     "name": "stdout",
     "output_type": "stream",
     "text": [
      "[6.279404189743104, -5.232836824785984] -17.210272150254823\n"
     ]
    },
    {
     "data": {
      "image/png": "[encoded data removed]",
      "text/plain": [
       "<Figure size 432x288 with 1 Axes>"
      ]
     },
     "metadata": {},
     "output_type": "display_data"
    }
   ],
   "source": [
    "w=getW(alphas, dataArr, dataTags)\n",
    "plot2(w,b)"
   ]
  },
  {
   "cell_type": "markdown",
   "metadata": {},
   "source": [
    "### too small C=0.02，错判点多"
   ]
  },
  {
   "cell_type": "code",
   "execution_count": 40,
   "metadata": {},
   "outputs": [
    {
     "name": "stdout",
     "output_type": "stream",
     "text": [
      "-3.6153604047425514\n"
     ]
    }
   ],
   "source": [
    "b, alphas=smoSimple(dataArr, dataTags, C=0.20, toler=0.00001, maxIter=40)\n",
    "# C=100挺好的，10也行\n",
    "print(b)"
   ]
  },
  {
   "cell_type": "code",
   "execution_count": 41,
   "metadata": {},
   "outputs": [
    {
     "name": "stdout",
     "output_type": "stream",
     "text": [
      "[1.5384597744803385, -1.5384655074192572] -3.6153604047425514\n"
     ]
    },
    {
     "data": {
      "image/png": "[encoded data removed]",
      "text/plain": [
       "<Figure size 432x288 with 1 Axes>"
      ]
     },
     "metadata": {},
     "output_type": "display_data"
    }
   ],
   "source": [
    "w=getW(alphas, dataArr, dataTags)\n",
    "plot2(w,b)"
   ]
  },
  {
   "cell_type": "markdown",
   "metadata": {},
   "source": [
    "### 耗时分析"
   ]
  },
  {
   "cell_type": "code",
   "execution_count": 46,
   "metadata": {},
   "outputs": [
    {
     "name": "stdout",
     "output_type": "stream",
     "text": [
      ">> 0 0.2 [1.538467767765654, -1.5384615384615223] -3.6154157619052163 1.19 seconds elapsed;\n",
      ">> 1 0.7 [2.222227805329583, -2.222221524333753] -5.000035173576563 2.15 seconds elapsed;\n",
      ">> 2 1.2 [2.339046760620678, -2.6180215818249373] -4.3840845246030495 3.66 seconds elapsed;\n",
      ">> 3 1.7 [2.8285814429769953, -2.8535726803720944] -6.279338039554916 5.58 seconds elapsed;\n",
      ">> 4 2.2 [2.883792696938934, -2.883792696938833] -6.497861012041542 6.85 seconds elapsed;\n",
      ">> 5 2.7 [3.2400000000000735, -3.23999999999992] -7.424000000000657 8.41 seconds elapsed;\n",
      ">> 6 3.2 [3.333322749369852, -3.333322749369921] -7.666639148361408 9.94 seconds elapsed;\n",
      ">> 7 3.7 [3.3333472726458973, -3.3333472726464026] -7.666694545290042 11.95 seconds elapsed;\n",
      ">> 8 4.2 [3.3333407100527204, -3.3333296449739596] -7.666719041373324 15.6 seconds elapsed;\n",
      ">> 9 4.7 [3.319529203400575, -3.3402353982998667] -7.568657344143611 17.59 seconds elapsed;\n",
      ">> 10 5.2 [3.3469968408410757, -3.3469968408412463] -7.69399368168167 20.56 seconds elapsed;\n",
      ">> 11 5.7 [3.419999999999898, -3.420000000000105] -7.83999999999912 22.42 seconds elapsed;\n",
      ">> 12 6.2 [3.5077671253603206, -3.859362035817206] -6.820111555167217 25.7 seconds elapsed;\n",
      ">> 13 6.7 [3.388405349081779, -3.7272458839899656] -6.657796088924795 27.3 seconds elapsed;\n",
      ">> 14 7.2 [3.93027892992891, -3.9800796942654206] -8.69123526111375 28.94 seconds elapsed;\n",
      ">> 15 7.7 [3.9961402481615513, -3.996140248161645] -8.992280496322815 29.98 seconds elapsed;\n",
      ">> 16 8.2 [3.9999867431589604, -3.999986743159324] -8.999973486316714 32.81 seconds elapsed;\n",
      ">> 17 8.7 [3.9716303298138698, -3.971630329814008] -8.943260659627292 33.82 seconds elapsed;\n",
      ">> 18 9.2 [4.00000662053241, -4.00000662053262] -9.000013241064146 38.92 seconds elapsed;\n",
      ">> 19 9.7 [4.002695266781447, -4.002695266781535] -9.006738166953356 40.33 seconds elapsed;\n"
     ]
    }
   ],
   "source": [
    "import time\n",
    "start=time.time()\n",
    "penalty=0.20\n",
    "for i in range(20):\n",
    "    b, alphas=smoSimple(dataArr, dataTags, C=penalty, toler=0.00001, maxIter=40)\n",
    "    w=getW(alphas, dataArr, dataTags)\n",
    "    print('>>', i,penalty, w,b, round(time.time()-start,2), \"seconds elapsed;\" )\n",
    "    #\n",
    "    penalty += 0.50\n",
    "# about 40 seconds;"
   ]
  },
  {
   "cell_type": "markdown",
   "metadata": {},
   "source": [
    "# 更完整的SMO算法实现：更快"
   ]
  },
  {
   "cell_type": "markdown",
   "metadata": {},
   "source": [
    "> 完整版的改进是，选择alpha的方式，应用了一些能提速的启发方法。"
   ]
  },
  {
   "cell_type": "markdown",
   "metadata": {},
   "source": [
    "## 用于清理代码的数据结构"
   ]
  },
  {
   "cell_type": "code",
   "execution_count": 274,
   "metadata": {},
   "outputs": [],
   "source": [
    "import numpy as np\n",
    "\n",
    "class optStruct:\n",
    "    def __init__(self, dataMatIn, classLabels, C, toler):\n",
    "        self.X=dataMatIn\n",
    "        self.labelMat=classLabels\n",
    "        self.C=C\n",
    "        self.tol=toler\n",
    "        self.m=np.shape(dataMatIn)[0]\n",
    "        self.alphas=np.mat(np.zeros((self.m, 1)))\n",
    "        self.b=0\n",
    "        self.eCache=np.mat( np.zeros( (self.m,2) ) ) # 误差缓存\n",
    "        # 第一列，是eCache是否有效的标志位\n",
    "        # 第二列，是实际的E值\n",
    "\n",
    "# 计算Error值，并返回\n",
    "def calcEk(oS, k):\n",
    "    fXk=float(np.multiply(oS.alphas, oS.labelMat).T*(oS.X*oS.X[k,:].T)) + oS.b\n",
    "    Ek=fXk-float(oS.labelMat[k])\n",
    "    return Ek\n",
    "\n",
    "# 循环中的启发式方法,求 max(|Ei-Ej|)的j\n",
    "def selectJ(i, oS, Ei):\n",
    "    maxK=-1;  maxDeltaE=0; Ej=0;\n",
    "    oS.eCache[i]=[1, Ei] #第一位设置为可用1，\n",
    "    validEcacheList=np.nonzero(oS.eCache[:,0].A)[0] #构建了一个非零表\n",
    "\n",
    "    # \n",
    "    if len(validEcacheList)>1: \n",
    "        for k in validEcacheList: #选择改变最大的那个j\n",
    "            if k==i: continue;\n",
    "            Ek=calcEk(oS, k)\n",
    "            deltaE=abs(Ei-Ek)\n",
    "            if deltaE>maxDeltaE:\n",
    "                maxK=k; maxDeltaE=deltaE; Ej=Ek; # 选择具有最大步长的j\n",
    "        return maxK, Ej\n",
    "    else:\n",
    "        j=selectJrand(i, oS.m) # 如果是第一个，就随机选择一个\n",
    "        Ej=calcEk(oS, j)\n",
    "        return j, Ej\n",
    "\n",
    "def updateEk(oS, k):\n",
    "    Ek=calcEk(oS, k)\n",
    "    oS.eCache[k]=[1, Ek]"
   ]
  },
  {
   "cell_type": "code",
   "execution_count": 276,
   "metadata": {},
   "outputs": [
    {
     "name": "stdout",
     "output_type": "stream",
     "text": [
      "[[ 0 10]\n",
      " [ 1 50]\n",
      " [28  0]]\n"
     ]
    },
    {
     "data": {
      "text/plain": [
       "array([1, 2], dtype=int64)"
      ]
     },
     "execution_count": 276,
     "metadata": {},
     "output_type": "execute_result"
    }
   ],
   "source": [
    "# 代码解释\n",
    "A0=np.mat([[0,10], [1,50], [28,0] ])\n",
    "print(A0)\n",
    "\n",
    "B1=np.nonzero(A0[:,0])[0] #第一列，非零的行号\n",
    "B1"
   ]
  },
  {
   "cell_type": "code",
   "execution_count": 277,
   "metadata": {},
   "outputs": [
    {
     "data": {
      "text/plain": [
       "matrix([[ 1, 50],\n",
       "        [28,  0]])"
      ]
     },
     "execution_count": 277,
     "metadata": {},
     "output_type": "execute_result"
    }
   ],
   "source": [
    "A0[B1]"
   ]
  },
  {
   "cell_type": "markdown",
   "metadata": {},
   "source": [
    "## 完整的Platt SMO 算法中的优化过程"
   ]
  },
  {
   "cell_type": "code",
   "execution_count": 317,
   "metadata": {},
   "outputs": [],
   "source": [
    "# 内循环\n",
    "# 重要更新：\n",
    "#1. 使用了数据结构，在参数oS中传递\n",
    "#2. 使用selectJ()而不是selectJrand()来选择第二个要更新的alpha的值\n",
    "\n",
    "def innerL(i, oS, debug=False):\n",
    "    Ei=calcEk(oS, i)\n",
    "    if ((oS.labelMat[i] * Ei < -oS.tol) and (oS.alphas[i]<oS.C)) or \\\n",
    "       ((oS.labelMat[i] * Ei >  oS.tol) and (oS.alphas[i] > 0)):\n",
    "        #\n",
    "        j, Ej=selectJ(i, oS, Ei)\n",
    "        alphaIold=oS.alphas[i].copy()\n",
    "        alphaJold=oS.alphas[j].copy()\n",
    "        # 设置最大最小值\n",
    "        if (oS.labelMat[i] != oS.labelMat[j]):\n",
    "            L=max(0, oS.alphas[j]-oS.alphas[i])\n",
    "            H=min(oS.C, oS.C+oS.alphas[j]-oS.alphas[i])\n",
    "        else:\n",
    "            L=max(0, oS.alphas[j]+oS.alphas[i]-oS.C)\n",
    "            H=min(oS.C, oS.alphas[j]+oS.alphas[i])\n",
    "        #\n",
    "        if L==H:\n",
    "            if debug:print('L==H');\n",
    "            return 0\n",
    "        \n",
    "        \n",
    "        #########################\n",
    "        # 重点优化对象 eta ------------>> //todo 没看懂\n",
    "        #########################\n",
    "        eta=2.0*oS.X[i,:]*oS.X[j,:].T - oS.X[i,:]*oS.X[i,:].T - oS.X[j,:]*oS.X[j,:].T\n",
    "        if eta==0:\n",
    "            if debug:print(\"Eta==0\")\n",
    "            return 0\n",
    "        oS.alphas[j] -= oS.labelMat[j]*(Ei-Ej)/eta\n",
    "        oS.alphas[j]=clipAlpha(oS.alphas[j], H, L)\n",
    "        \n",
    "        # 更新误差缓存\n",
    "        updateEk(oS, j)\n",
    "        \n",
    "        # 如果alpha j变动太小，则忽略\n",
    "        if abs(oS.alphas[j]-alphaJold)<0.00001:\n",
    "            if debug:print(\"j not moving enough\")\n",
    "            #oS.alphas[j]=-alphaJold\n",
    "            return 0\n",
    "\n",
    "\n",
    "        \n",
    "        # alpha i 变动和 alpha j相同，方向相反\n",
    "        oS.alphas[i] += oS.labelMat[j]*oS.labelMat[i]*(alphaJold - oS.alphas[j])\n",
    "        updateEk(oS, i)\n",
    "        \n",
    "        \n",
    "        #########################\n",
    "        # 更新b   //todo -----> 这一步也没看懂\n",
    "        #########################\n",
    "        b1=oS.b-Ei-oS.labelMat[i]*(oS.alphas[i]-alphaIold)*oS.X[i,:]*oS.X[i,:].T-\\\n",
    "                        oS.labelMat[j]*(oS.alphas[j]-alphaJold)*oS.X[i,:]*oS.X[j,:].T\n",
    "        b2=oS.b-Ej-oS.labelMat[i]*(oS.alphas[i]-alphaIold)*oS.X[i,:]*oS.X[j,:].T-\\\n",
    "                        oS.labelMat[j]*(oS.alphas[j]-alphaJold)*oS.X[j,:]*oS.X[j,:].T\n",
    "        # \n",
    "        if (0<oS.alphas[i]) and (oS.alphas[i]<oS.C):\n",
    "            oS.b=b1\n",
    "        elif (0<oS.alphas[j]) and (oS.alphas[j]<oS.C):\n",
    "            oS.b=b2\n",
    "        else:\n",
    "            oS.b=(b1+b2)/2.0\n",
    "        \n",
    "        return 1\n",
    "    else:\n",
    "        return 0;\n",
    "#"
   ]
  },
  {
   "cell_type": "code",
   "execution_count": 333,
   "metadata": {},
   "outputs": [
    {
     "name": "stdout",
     "output_type": "stream",
     "text": [
      ">>fullSet, iter:0 i:0, pairs changed:1\n",
      ">>fullSet, iter:0 i:1, pairs changed:2\n",
      ">>fullSet, iter:0 i:2, pairs changed:2\n",
      ">>fullSet, iter:0 i:3, pairs changed:2\n",
      ">>fullSet, iter:0 i:4, pairs changed:2\n",
      ">>fullSet, iter:0 i:5, pairs changed:3\n",
      ">>fullSet, iter:0 i:6, pairs changed:3\n",
      ">>fullSet, iter:0 i:7, pairs changed:3\n",
      ">>fullSet, iter:0 i:8, pairs changed:3\n",
      ">>fullSet, iter:0 i:9, pairs changed:3\n",
      ">>fullSet, iter:0 i:10, pairs changed:4\n",
      ">>fullSet, iter:0 i:11, pairs changed:4\n",
      ">>fullSet, iter:0 i:12, pairs changed:4\n",
      ">>fullSet, iter:0 i:13, pairs changed:4\n",
      ">>fullSet, iter:0 i:14, pairs changed:4\n",
      ">>fullSet, iter:0 i:15, pairs changed:4\n",
      ">>fullSet, iter:0 i:16, pairs changed:4\n",
      ">>fullSet, iter:0 i:17, pairs changed:4\n",
      ">>fullSet, iter:0 i:18, pairs changed:4\n",
      ">>fullSet, iter:0 i:19, pairs changed:4\n",
      ">>fullSet, iter:0 i:20, pairs changed:4\n",
      ">>fullSet, iter:0 i:21, pairs changed:4\n",
      ">>fullSet, iter:0 i:22, pairs changed:4\n",
      ">>fullSet, iter:0 i:23, pairs changed:4\n",
      ">>fullSet, iter:0 i:24, pairs changed:4\n",
      ">>fullSet, iter:0 i:25, pairs changed:4\n",
      ">>fullSet, iter:0 i:26, pairs changed:4\n",
      ">>fullSet, iter:0 i:27, pairs changed:4\n",
      ">>fullSet, iter:0 i:28, pairs changed:4\n",
      ">>fullSet, iter:0 i:29, pairs changed:4\n",
      ">>fullSet, iter:0 i:30, pairs changed:4\n",
      ">>fullSet, iter:0 i:31, pairs changed:4\n",
      ">>fullSet, iter:0 i:32, pairs changed:4\n",
      ">>fullSet, iter:0 i:33, pairs changed:4\n",
      ">>fullSet, iter:0 i:34, pairs changed:4\n",
      ">>fullSet, iter:0 i:35, pairs changed:4\n",
      ">>fullSet, iter:0 i:36, pairs changed:4\n",
      ">>fullSet, iter:0 i:37, pairs changed:4\n",
      ">>fullSet, iter:0 i:38, pairs changed:4\n",
      ">>fullSet, iter:0 i:39, pairs changed:4\n",
      ">>fullSet, iter:0 i:40, pairs changed:4\n",
      ">>fullSet, iter:0 i:41, pairs changed:4\n",
      ">>fullSet, iter:0 i:42, pairs changed:4\n",
      ">>fullSet, iter:0 i:43, pairs changed:4\n",
      ">>fullSet, iter:0 i:44, pairs changed:4\n",
      ">>fullSet, iter:0 i:45, pairs changed:4\n",
      ">>fullSet, iter:0 i:46, pairs changed:4\n",
      ">>fullSet, iter:0 i:47, pairs changed:4\n",
      ">>fullSet, iter:0 i:48, pairs changed:4\n",
      ">>fullSet, iter:0 i:49, pairs changed:4\n",
      ">>fullSet, iter:0 i:50, pairs changed:4\n",
      ">>fullSet, iter:0 i:51, pairs changed:4\n",
      ">>fullSet, iter:0 i:52, pairs changed:4\n",
      ">>fullSet, iter:0 i:53, pairs changed:5\n",
      ">>fullSet, iter:0 i:54, pairs changed:5\n",
      ">>fullSet, iter:0 i:55, pairs changed:6\n",
      ">>fullSet, iter:0 i:56, pairs changed:6\n",
      ">>fullSet, iter:0 i:57, pairs changed:7\n",
      ">>fullSet, iter:0 i:58, pairs changed:7\n",
      ">>fullSet, iter:0 i:59, pairs changed:8\n",
      ">>fullSet, iter:0 i:60, pairs changed:8\n",
      ">>fullSet, iter:0 i:61, pairs changed:8\n",
      ">>fullSet, iter:0 i:62, pairs changed:8\n",
      ">>fullSet, iter:0 i:63, pairs changed:8\n",
      ">>fullSet, iter:0 i:64, pairs changed:8\n",
      ">>fullSet, iter:0 i:65, pairs changed:8\n",
      ">>fullSet, iter:0 i:66, pairs changed:8\n",
      ">>fullSet, iter:0 i:67, pairs changed:9\n",
      ">>fullSet, iter:0 i:68, pairs changed:9\n",
      ">>fullSet, iter:0 i:69, pairs changed:9\n",
      ">>fullSet, iter:0 i:70, pairs changed:9\n",
      ">>fullSet, iter:0 i:71, pairs changed:9\n",
      ">>fullSet, iter:0 i:72, pairs changed:9\n",
      ">>fullSet, iter:0 i:73, pairs changed:9\n",
      ">>fullSet, iter:0 i:74, pairs changed:9\n",
      ">>fullSet, iter:0 i:75, pairs changed:9\n",
      ">>fullSet, iter:0 i:76, pairs changed:9\n",
      ">>fullSet, iter:0 i:77, pairs changed:9\n",
      ">>fullSet, iter:0 i:78, pairs changed:9\n",
      ">>fullSet, iter:0 i:79, pairs changed:9\n",
      ">>fullSet, iter:0 i:80, pairs changed:9\n",
      ">>fullSet, iter:0 i:81, pairs changed:9\n",
      ">>fullSet, iter:0 i:82, pairs changed:9\n",
      ">>fullSet, iter:0 i:83, pairs changed:9\n",
      ">>fullSet, iter:0 i:84, pairs changed:10\n",
      ">>fullSet, iter:0 i:85, pairs changed:10\n",
      ">>fullSet, iter:0 i:86, pairs changed:10\n",
      ">>fullSet, iter:0 i:87, pairs changed:10\n",
      ">>fullSet, iter:0 i:88, pairs changed:10\n",
      ">>fullSet, iter:0 i:89, pairs changed:10\n",
      ">>fullSet, iter:0 i:90, pairs changed:10\n",
      ">>fullSet, iter:0 i:91, pairs changed:10\n",
      ">>fullSet, iter:0 i:92, pairs changed:10\n",
      ">>fullSet, iter:0 i:93, pairs changed:11\n",
      ">>fullSet, iter:0 i:94, pairs changed:11\n",
      ">>fullSet, iter:0 i:95, pairs changed:11\n",
      ">>fullSet, iter:0 i:96, pairs changed:11\n",
      ">>fullSet, iter:0 i:97, pairs changed:11\n",
      ">>fullSet, iter:0 i:98, pairs changed:12\n",
      ">>fullSet, iter:0 i:99, pairs changed:12\n",
      ">>>> iteration number: 1\n",
      ">>non-bound, iter:1 i:1, pairs changed:1\n",
      ">>non-bound, iter:1 i:5, pairs changed:1\n",
      ">>non-bound, iter:1 i:10, pairs changed:1\n",
      ">>non-bound, iter:1 i:14, pairs changed:2\n",
      ">>non-bound, iter:1 i:18, pairs changed:2\n",
      ">>non-bound, iter:1 i:36, pairs changed:2\n",
      ">>non-bound, iter:1 i:41, pairs changed:3\n",
      ">>non-bound, iter:1 i:55, pairs changed:3\n",
      ">>non-bound, iter:1 i:57, pairs changed:3\n",
      ">>non-bound, iter:1 i:59, pairs changed:3\n",
      ">>non-bound, iter:1 i:84, pairs changed:3\n",
      ">>non-bound, iter:1 i:93, pairs changed:3\n",
      ">>non-bound, iter:1 i:98, pairs changed:3\n",
      ">>>> iteration number: 2\n",
      ">>non-bound, iter:2 i:1, pairs changed:0\n",
      ">>non-bound, iter:2 i:10, pairs changed:0\n",
      ">>non-bound, iter:2 i:14, pairs changed:0\n",
      ">>non-bound, iter:2 i:18, pairs changed:0\n",
      ">>non-bound, iter:2 i:36, pairs changed:0\n",
      ">>non-bound, iter:2 i:41, pairs changed:0\n",
      ">>non-bound, iter:2 i:55, pairs changed:0\n",
      ">>non-bound, iter:2 i:57, pairs changed:0\n",
      ">>non-bound, iter:2 i:59, pairs changed:0\n",
      ">>non-bound, iter:2 i:84, pairs changed:0\n",
      ">>non-bound, iter:2 i:93, pairs changed:0\n",
      ">>non-bound, iter:2 i:98, pairs changed:0\n",
      ">>>> iteration number: 3\n",
      ">>fullSet, iter:3 i:0, pairs changed:0\n",
      ">>fullSet, iter:3 i:1, pairs changed:0\n",
      ">>fullSet, iter:3 i:2, pairs changed:0\n",
      ">>fullSet, iter:3 i:3, pairs changed:0\n",
      ">>fullSet, iter:3 i:4, pairs changed:0\n",
      ">>fullSet, iter:3 i:5, pairs changed:0\n",
      ">>fullSet, iter:3 i:6, pairs changed:0\n",
      ">>fullSet, iter:3 i:7, pairs changed:0\n",
      ">>fullSet, iter:3 i:8, pairs changed:0\n",
      ">>fullSet, iter:3 i:9, pairs changed:0\n",
      ">>fullSet, iter:3 i:10, pairs changed:0\n",
      ">>fullSet, iter:3 i:11, pairs changed:0\n",
      ">>fullSet, iter:3 i:12, pairs changed:0\n",
      ">>fullSet, iter:3 i:13, pairs changed:0\n",
      ">>fullSet, iter:3 i:14, pairs changed:0\n",
      ">>fullSet, iter:3 i:15, pairs changed:0\n",
      ">>fullSet, iter:3 i:16, pairs changed:0\n",
      ">>fullSet, iter:3 i:17, pairs changed:0\n",
      ">>fullSet, iter:3 i:18, pairs changed:0\n",
      ">>fullSet, iter:3 i:19, pairs changed:0\n",
      ">>fullSet, iter:3 i:20, pairs changed:0\n",
      ">>fullSet, iter:3 i:21, pairs changed:0\n",
      ">>fullSet, iter:3 i:22, pairs changed:0\n",
      ">>fullSet, iter:3 i:23, pairs changed:0\n",
      ">>fullSet, iter:3 i:24, pairs changed:0\n",
      ">>fullSet, iter:3 i:25, pairs changed:0\n",
      ">>fullSet, iter:3 i:26, pairs changed:0\n",
      ">>fullSet, iter:3 i:27, pairs changed:0\n",
      ">>fullSet, iter:3 i:28, pairs changed:0\n",
      ">>fullSet, iter:3 i:29, pairs changed:0\n",
      ">>fullSet, iter:3 i:30, pairs changed:0\n",
      ">>fullSet, iter:3 i:31, pairs changed:0\n",
      ">>fullSet, iter:3 i:32, pairs changed:0\n",
      ">>fullSet, iter:3 i:33, pairs changed:0\n",
      ">>fullSet, iter:3 i:34, pairs changed:0\n",
      ">>fullSet, iter:3 i:35, pairs changed:0\n",
      ">>fullSet, iter:3 i:36, pairs changed:0\n",
      ">>fullSet, iter:3 i:37, pairs changed:0\n",
      ">>fullSet, iter:3 i:38, pairs changed:0\n",
      ">>fullSet, iter:3 i:39, pairs changed:0\n",
      ">>fullSet, iter:3 i:40, pairs changed:0\n",
      ">>fullSet, iter:3 i:41, pairs changed:0\n",
      ">>fullSet, iter:3 i:42, pairs changed:0\n",
      ">>fullSet, iter:3 i:43, pairs changed:0\n",
      ">>fullSet, iter:3 i:44, pairs changed:0\n",
      ">>fullSet, iter:3 i:45, pairs changed:0\n",
      ">>fullSet, iter:3 i:46, pairs changed:0\n",
      ">>fullSet, iter:3 i:47, pairs changed:0\n",
      ">>fullSet, iter:3 i:48, pairs changed:0\n",
      ">>fullSet, iter:3 i:49, pairs changed:0\n",
      ">>fullSet, iter:3 i:50, pairs changed:0\n",
      ">>fullSet, iter:3 i:51, pairs changed:0\n",
      ">>fullSet, iter:3 i:52, pairs changed:0\n",
      ">>fullSet, iter:3 i:53, pairs changed:0\n",
      ">>fullSet, iter:3 i:54, pairs changed:0\n",
      ">>fullSet, iter:3 i:55, pairs changed:0\n",
      ">>fullSet, iter:3 i:56, pairs changed:0\n",
      ">>fullSet, iter:3 i:57, pairs changed:0\n",
      ">>fullSet, iter:3 i:58, pairs changed:0\n",
      ">>fullSet, iter:3 i:59, pairs changed:0\n",
      ">>fullSet, iter:3 i:60, pairs changed:0\n",
      ">>fullSet, iter:3 i:61, pairs changed:0\n",
      ">>fullSet, iter:3 i:62, pairs changed:0\n",
      ">>fullSet, iter:3 i:63, pairs changed:0\n",
      ">>fullSet, iter:3 i:64, pairs changed:0\n",
      ">>fullSet, iter:3 i:65, pairs changed:0\n",
      ">>fullSet, iter:3 i:66, pairs changed:0\n",
      ">>fullSet, iter:3 i:67, pairs changed:0\n",
      ">>fullSet, iter:3 i:68, pairs changed:0\n",
      ">>fullSet, iter:3 i:69, pairs changed:0\n",
      ">>fullSet, iter:3 i:70, pairs changed:0\n",
      ">>fullSet, iter:3 i:71, pairs changed:0\n",
      ">>fullSet, iter:3 i:72, pairs changed:0\n",
      ">>fullSet, iter:3 i:73, pairs changed:0\n",
      ">>fullSet, iter:3 i:74, pairs changed:0\n",
      ">>fullSet, iter:3 i:75, pairs changed:0\n",
      ">>fullSet, iter:3 i:76, pairs changed:0\n",
      ">>fullSet, iter:3 i:77, pairs changed:0\n",
      ">>fullSet, iter:3 i:78, pairs changed:0\n",
      ">>fullSet, iter:3 i:79, pairs changed:0\n",
      ">>fullSet, iter:3 i:80, pairs changed:0\n",
      ">>fullSet, iter:3 i:81, pairs changed:0\n",
      ">>fullSet, iter:3 i:82, pairs changed:0\n",
      ">>fullSet, iter:3 i:83, pairs changed:0\n",
      ">>fullSet, iter:3 i:84, pairs changed:0\n",
      ">>fullSet, iter:3 i:85, pairs changed:0\n",
      ">>fullSet, iter:3 i:86, pairs changed:0\n",
      ">>fullSet, iter:3 i:87, pairs changed:0\n",
      ">>fullSet, iter:3 i:88, pairs changed:0\n",
      ">>fullSet, iter:3 i:89, pairs changed:0\n",
      ">>fullSet, iter:3 i:90, pairs changed:0\n",
      ">>fullSet, iter:3 i:91, pairs changed:0\n",
      ">>fullSet, iter:3 i:92, pairs changed:0\n",
      ">>fullSet, iter:3 i:93, pairs changed:0\n",
      ">>fullSet, iter:3 i:94, pairs changed:0\n",
      ">>fullSet, iter:3 i:95, pairs changed:0\n",
      ">>fullSet, iter:3 i:96, pairs changed:0\n",
      ">>fullSet, iter:3 i:97, pairs changed:0\n",
      ">>fullSet, iter:3 i:98, pairs changed:0\n",
      ">>fullSet, iter:3 i:99, pairs changed:0\n",
      ">>>> iteration number: 4\n",
      "[[-12.19429009]] (100, 1)\n"
     ]
    },
    {
     "data": {
      "text/plain": [
       "matrix([[5.2783044 , 0.18309429, 1.40582145, 0.70055721, 0.44557183,\n",
       "         5.06314478, 0.49854975, 3.488837  , 2.72539722, 5.13665082,\n",
       "         0.78148735, 0.44557183]])"
      ]
     },
     "execution_count": 333,
     "metadata": {},
     "output_type": "execute_result"
    }
   ],
   "source": [
    "# 外循环\n",
    "def smoP(dataMatIn, classLabels, C, toler, maxIter, kTup=('lin',0), debug=False):\n",
    "    oS=optStruct(np.mat(dataMatIn), np.mat(classLabels).transpose(), C, toler)\n",
    "    iter2=0\n",
    "    entireSet=True\n",
    "    alphaPairsChanged=0\n",
    "    \n",
    "    #停止条件: 达到最大遍历数，或者刚遍历全局且没有可以调整的。\n",
    "    while (iter2<maxIter) and  ((alphaPairsChanged>0) or (entireSet)):\n",
    "        alphaPairsChanged=0\n",
    "        if entireSet: #遍历所有的值\n",
    "            for i in range(oS.m):\n",
    "                alphaPairsChanged += innerL(i, oS)\n",
    "                if debug:print(\">>fullSet, iter:%d i:%d, pairs changed:%d\" % (iter2, i, alphaPairsChanged))\n",
    "            iter2 += 1\n",
    "        else: # 遍历非边界值\n",
    "            nonBoundIs=np.nonzero((oS.alphas.A>0) * (oS.alphas.A<C))[0]\n",
    "            \n",
    "            for i in nonBoundIs:\n",
    "                alphaPairsChanged += innerL(i, oS)\n",
    "                if debug:print(\">>non-bound, iter:%d i:%d, pairs changed:%d\" % (iter2, i, alphaPairsChanged))\n",
    "            # 遍历计数器\n",
    "            iter2 += 1\n",
    "            \n",
    "        # 什么情况下切换两种遍历模式呢？\n",
    "        if entireSet: #如果刚全局遍历过，就切换到 非边界遍历\n",
    "            entireSet = False\n",
    "        elif alphaPairsChanged==0: # 没有变动，则切换为 全局遍历\n",
    "            entireSet=True\n",
    "        #\n",
    "        if debug:print(\">>>> iteration number: %d\" % iter2)\n",
    "    return oS.b, oS.alphas\n",
    "# test\n",
    "b,alphas=smoP(dataArr, dataTags, C=20, toler=0.000001, maxIter=40, debug=True)\n",
    "\n",
    "print(b,alphas.shape)\n",
    "alphas[alphas>0]"
   ]
  },
  {
   "cell_type": "code",
   "execution_count": 313,
   "metadata": {},
   "outputs": [
    {
     "name": "stdout",
     "output_type": "stream",
     "text": [
      "[[12]\n",
      " [ 3]\n",
      " [ 4]\n",
      " [ 0]\n",
      " [ 0]\n",
      " [20]]\n",
      "[1 2]\n"
     ]
    }
   ],
   "source": [
    "def test():\n",
    "    a=np.mat([12,3,4,0,0,20]).T\n",
    "    print(a)\n",
    "    #print(a.A, a.A>10, a.A<10)\n",
    "    #print(a, a>10, a<10)\n",
    "    c=np.nonzero((a.A>0) * (a.A<10))[0]\n",
    "    print(c)\n",
    "    #return a[c]\n",
    "test()"
   ]
  },
  {
   "cell_type": "markdown",
   "metadata": {},
   "source": [
    "### 获取w"
   ]
  },
  {
   "cell_type": "code",
   "execution_count": 334,
   "metadata": {},
   "outputs": [
    {
     "name": "stdout",
     "output_type": "stream",
     "text": [
      "[[ 3.79273006]\n",
      " [-2.55347617]] -12.194290086266923\n"
     ]
    },
    {
     "data": {
      "image/png": "[encoded data removed]",
      "text/plain": [
       "<Figure size 432x288 with 1 Axes>"
      ]
     },
     "metadata": {},
     "output_type": "display_data"
    }
   ],
   "source": [
    "def calcWs(alphas, dataArr, classLabels):\n",
    "    X=np.mat(dataArr);\n",
    "    labelMat=np.mat(classLabels).transpose()\n",
    "    m,n=np.shape(X)\n",
    "    w=np.zeros((n,1))\n",
    "    for i in range(m):\n",
    "        w += np.multiply(alphas[i]*labelMat[i], X[i,:].T)\n",
    "    return w\n",
    "# test\n",
    "ws=calcWs(alphas, dataArr, dataTags)\n",
    "#print(ws)\n",
    "\n",
    "plot2(ws,b.tolist()[0][0])"
   ]
  },
  {
   "cell_type": "code",
   "execution_count": 215,
   "metadata": {},
   "outputs": [
    {
     "data": {
      "text/plain": [
       "[13.57105237405381, -8.235424235970662]"
      ]
     },
     "execution_count": 215,
     "metadata": {},
     "output_type": "execute_result"
    }
   ],
   "source": [
    "# 之前的函数计算w:\n",
    "getW(alphas, dataArr, dataTags)"
   ]
  },
  {
   "cell_type": "markdown",
   "metadata": {},
   "source": [
    "### 不同的C的结果很不稳定"
   ]
  },
  {
   "cell_type": "markdown",
   "metadata": {},
   "source": [
    "貌似: 训练策略不同，C的范围也不同。\n",
    "    \n",
    "完整方法C在20-40时效果较好。"
   ]
  },
  {
   "cell_type": "code",
   "execution_count": null,
   "metadata": {
    "scrolled": false
   },
   "outputs": [],
   "source": [
    "Cs=20\n",
    "for i in range(20):\n",
    "    Cs+=1\n",
    "    b,alphas=smoP(dataArr, dataTags, C=Cs, toler=0.001, maxIter=40)\n",
    "    ws=calcWs(alphas, dataArr, dataTags)\n",
    "    plot2(ws,b.tolist()[0][0])\n",
    "    print(i,'>>C=',Cs, '; b=',b, '; w=',ws.T, '\\n', \"=\"*20,'\\n')"
   ]
  },
  {
   "cell_type": "markdown",
   "metadata": {},
   "source": [
    "### 对新的结果判别"
   ]
  },
  {
   "cell_type": "code",
   "execution_count": 335,
   "metadata": {
    "scrolled": true
   },
   "outputs": [
    {
     "name": "stdout",
     "output_type": "stream",
     "text": [
      "   Sepal.Length  Sepal.Width  Petal.Length  Petal.Width Species\n",
      "1           5.1          3.5           1.4          0.2  setosa\n",
      "2           4.9          3.0           1.4          0.2  setosa\n",
      "3           4.7          3.2           1.3          0.2  setosa\n",
      "4           4.6          3.1           1.5          0.2  setosa\n",
      "5           5.0          3.6           1.4          0.2  setosa\n"
     ]
    },
    {
     "data": {
      "text/html": [
       "<div>\n",
       "<style scoped>\n",
       "    .dataframe tbody tr th:only-of-type {\n",
       "        vertical-align: middle;\n",
       "    }\n",
       "\n",
       "    .dataframe tbody tr th {\n",
       "        vertical-align: top;\n",
       "    }\n",
       "\n",
       "    .dataframe thead th {\n",
       "        text-align: right;\n",
       "    }\n",
       "</style>\n",
       "<table border=\"1\" class=\"dataframe\">\n",
       "  <thead>\n",
       "    <tr style=\"text-align: right;\">\n",
       "      <th></th>\n",
       "      <th>Sepal.Length</th>\n",
       "      <th>Sepal.Width</th>\n",
       "      <th>Petal.Length</th>\n",
       "      <th>Petal.Width</th>\n",
       "      <th>Species</th>\n",
       "    </tr>\n",
       "  </thead>\n",
       "  <tbody>\n",
       "    <tr>\n",
       "      <th>97</th>\n",
       "      <td>5.7</td>\n",
       "      <td>2.9</td>\n",
       "      <td>4.2</td>\n",
       "      <td>1.3</td>\n",
       "      <td>versicolor</td>\n",
       "    </tr>\n",
       "    <tr>\n",
       "      <th>98</th>\n",
       "      <td>6.2</td>\n",
       "      <td>2.9</td>\n",
       "      <td>4.3</td>\n",
       "      <td>1.3</td>\n",
       "      <td>versicolor</td>\n",
       "    </tr>\n",
       "    <tr>\n",
       "      <th>99</th>\n",
       "      <td>5.1</td>\n",
       "      <td>2.5</td>\n",
       "      <td>3.0</td>\n",
       "      <td>1.1</td>\n",
       "      <td>versicolor</td>\n",
       "    </tr>\n",
       "  </tbody>\n",
       "</table>\n",
       "</div>"
      ],
      "text/plain": [
       "    Sepal.Length  Sepal.Width  Petal.Length  Petal.Width     Species\n",
       "97           5.7          2.9           4.2          1.3  versicolor\n",
       "98           6.2          2.9           4.3          1.3  versicolor\n",
       "99           5.1          2.5           3.0          1.1  versicolor"
      ]
     },
     "execution_count": 335,
     "metadata": {},
     "output_type": "execute_result"
    }
   ],
   "source": [
    "print(iris.head())\n",
    "\n",
    "iris.iloc[96:99,:]"
   ]
  },
  {
   "cell_type": "code",
   "execution_count": 336,
   "metadata": {},
   "outputs": [
    {
     "data": {
      "text/plain": [
       "matrix([[-1.2703413]])"
      ]
     },
     "execution_count": 336,
     "metadata": {},
     "output_type": "execute_result"
    }
   ],
   "source": [
    "ws.T*np.mat([4.9,3.0]).T+b"
   ]
  },
  {
   "cell_type": "code",
   "execution_count": 337,
   "metadata": {},
   "outputs": [
    {
     "data": {
      "text/plain": [
       "matrix([[3.9155554]])"
      ]
     },
     "execution_count": 337,
     "metadata": {},
     "output_type": "execute_result"
    }
   ],
   "source": [
    "np.mat([6.2, 2.9])*ws+b"
   ]
  },
  {
   "cell_type": "markdown",
   "metadata": {},
   "source": [
    "### 耗时分析"
   ]
  },
  {
   "cell_type": "code",
   "execution_count": 338,
   "metadata": {},
   "outputs": [
    {
     "name": "stdout",
     "output_type": "stream",
     "text": [
      ">> 0 20 [2.866833421198237, -2.385355763560696] [[-8.41443214]] 0.1 seconds elapsed;\n",
      ">> 1 20.5 [2.866833421198237, -2.385355763560696] [[-8.41443214]] 0.23 seconds elapsed;\n",
      ">> 2 21.0 [2.866833421198237, -2.385355763560696] [[-8.41443214]] 0.32 seconds elapsed;\n",
      ">> 3 21.5 [3.462566376203945, -3.1976935866147507] [[-8.29211064]] 0.41 seconds elapsed;\n",
      ">> 4 22.0 [2.866833421198237, -2.385355763560696] [[-8.41443214]] 0.5 seconds elapsed;\n",
      ">> 5 22.5 [2.2181317538873966, -2.4605003693178666] [[-5.32244204]] 0.87 seconds elapsed;\n",
      ">> 6 23.0 [2.866833421198237, -2.385355763560696] [[-8.41443214]] 0.97 seconds elapsed;\n",
      ">> 7 23.5 [2.866833421198237, -2.385355763560696] [[-8.41443214]] 1.07 seconds elapsed;\n",
      ">> 8 24.0 [4.551956792225347, -3.7607715576328076] [[-12.87306191]] 1.17 seconds elapsed;\n",
      ">> 9 24.5 [2.866833421198237, -2.385355763560696] [[-8.41443214]] 1.34 seconds elapsed;\n",
      ">> 10 25.0 [2.866833421198237, -2.385355763560696] [[-8.41443214]] 1.43 seconds elapsed;\n",
      ">> 11 25.5 [2.866833421198237, -2.385355763560696] [[-8.41443214]] 1.53 seconds elapsed;\n",
      ">> 12 26.0 [2.866833421198237, -2.385355763560696] [[-8.41443214]] 1.63 seconds elapsed;\n",
      ">> 13 26.5 [2.866833421198237, -2.385355763560696] [[-8.41443214]] 1.73 seconds elapsed;\n",
      ">> 14 27.0 [2.2181317538873966, -2.4605003693178666] [[-5.32244204]] 2.1 seconds elapsed;\n",
      ">> 15 27.5 [1.9815967930441254, -2.3006141511708065] [[-3.18835032]] 2.21 seconds elapsed;\n",
      ">> 16 28.0 [3.7233316961885876, -1.7243833152650403] [[-13.10580535]] 2.51 seconds elapsed;\n",
      ">> 17 28.5 [3.5315655362314673, -2.8383837817559887] [[-10.12954498]] 2.6 seconds elapsed;\n",
      ">> 18 29.0 [2.866833421198237, -2.385355763560696] [[-8.41443214]] 2.69 seconds elapsed;\n",
      ">> 19 29.5 [2.866833421198237, -2.385355763560696] [[-8.41443214]] 2.79 seconds elapsed;\n"
     ]
    }
   ],
   "source": [
    "import time\n",
    "start=time.time()\n",
    "penalty=20\n",
    "for i in range(20):\n",
    "    b, alphas=smoP(dataArr, dataTags, C=penalty, toler=0.00001, maxIter=40)\n",
    "    w=getW(alphas, dataArr, dataTags)\n",
    "    print('>>', i,penalty, w,b, round(time.time()-start,2), \"seconds elapsed;\" )\n",
    "    #\n",
    "    penalty += 0.50\n",
    "# about 40 seconds;"
   ]
  },
  {
   "cell_type": "markdown",
   "metadata": {},
   "source": [
    "> 简化版 40.33s vs 完整版 2.79s, 确实速度够快。"
   ]
  },
  {
   "cell_type": "markdown",
   "metadata": {},
   "source": [
    "# 核函数 kernel trick"
   ]
  },
  {
   "cell_type": "markdown",
   "metadata": {},
   "source": [
    "> 将内积替换为核函数的方式成为核技巧(kernel trick)\n",
    "\n",
    "例子: 径向基核函数、线性核函数、多项式核函数。"
   ]
  },
  {
   "cell_type": "code",
   "execution_count": 339,
   "metadata": {},
   "outputs": [],
   "source": [
    "import numpy as np\n",
    "\n",
    "# 用核函数转换矩阵，把矩阵内积-> 核函数\n",
    "def kernelTrans(X, A, kTup):\n",
    "    m,n=np.shape(X)\n",
    "    K=np.mat(np.zeros((m,1))) #核矩阵\n",
    "    if kTup[0]==\"lin\":\n",
    "        K=X * A.T\n",
    "    elif kTup[0]==\"rbf\":\n",
    "        for j in range(m):\n",
    "            deltaRow=X[j, :]-A\n",
    "            K[j]=deltaRow*deltaRow.T\n",
    "        K=np.exp(K / (-2*kTup[1]**2)) #元素间的除法\n",
    "    ############\n",
    "    # 可以继续写 elif 语句，扩充可用的核函数。 //todo ---> 怎么写更健壮？不修改该函数同时还能引入新的核函数？\n",
    "    ############\n",
    "    else:\n",
    "        raise NameError('Error: That Kernel is not recognized: %s', kTup[0])\n",
    "    return K\n",
    "\n",
    "\n",
    "# 数据结构，使用核函数填充矩阵K\n",
    "class optStruct2:\n",
    "    def __init__(self, dataMatIn, classLabels, C, toler, kTup):\n",
    "        self.X=dataMatIn\n",
    "        self.labelMat=classLabels\n",
    "        self.C=C\n",
    "        self.tol=toler\n",
    "        self.m=np.shape(dataMatIn)[0]\n",
    "        self.alphas=np.mat(np.zeros((self.m, 1)))\n",
    "        self.b=0\n",
    "        self.eCache=np.mat( np.zeros( (self.m,2) ) ) # 误差缓存\n",
    "        # 第一列，是eCache是否有效的标志位\n",
    "        # 第二列，是实际的E值\n",
    "        \n",
    "        self.K=np.mat(np.zeros((self.m, self.m))) #构建一个方阵\n",
    "        for i in range(self.m):\n",
    "            self.K[:, i]=kernelTrans(self.X, self.X[i,:], kTup) #填充其第i列"
   ]
  },
  {
   "cell_type": "code",
   "execution_count": 340,
   "metadata": {},
   "outputs": [],
   "source": [
    "## 对于需要改进的函数calcEk2，重新命名为2号\n",
    "\n",
    "# 计算Error值，并返回\n",
    "def calcEk2(oS, k):\n",
    "    fXk=float(np.multiply(oS.alphas, oS.labelMat).T* oS.K[:, k]) + oS.b\n",
    "    Ek=fXk-float(oS.labelMat[k])\n",
    "    return Ek\n",
    "\n",
    "\n",
    "#\n",
    "# 不需要改，但是因为 calcEk2 改名而要修改\n",
    "# 循环中的启发式方法,求 max(|Ei-Ej|)的j\n",
    "def selectJ2(i, oS, Ei):\n",
    "    maxK=-1;  maxDeltaE=0; Ej=0;\n",
    "    oS.eCache[i]=[1, Ei] #第一位设置为可用1，\n",
    "    validEcacheList=np.nonzero(oS.eCache[:,0].A)[0] #构建了一个非零表\n",
    "\n",
    "    # \n",
    "    if len(validEcacheList)>1: \n",
    "        for k in validEcacheList: #选择改变最大的那个j\n",
    "            if k==i: continue;\n",
    "            Ek=calcEk2(oS, k)\n",
    "            deltaE=abs(Ei-Ek)\n",
    "            if deltaE>maxDeltaE:\n",
    "                maxK=k; maxDeltaE=deltaE; Ej=Ek; # 选择具有最大步长的j\n",
    "        return maxK, Ej\n",
    "    else:\n",
    "        j=selectJrand(i, oS.m) # 如果是第一个，就随机选择一个\n",
    "        Ej=calcEk2(oS, j)\n",
    "        return j, Ej\n",
    "\n",
    "# 不需要改，但是因为 calcEk2 改名而要修改\n",
    "def updateEk2(oS, k):\n",
    "    Ek=calcEk2(oS, k)\n",
    "    oS.eCache[k]=[1, Ek]"
   ]
  },
  {
   "cell_type": "code",
   "execution_count": 342,
   "metadata": {},
   "outputs": [],
   "source": [
    "## 对于需要改进的函数 innerL2，重新命名为2号\n",
    "# 调用的函数名都要更新为2: calcEk2, selectJ2, updateEk2\n",
    "def innerL2(i, oS, debug=False):\n",
    "    Ei=calcEk2(oS, i)\n",
    "    if ((oS.labelMat[i] * Ei < -oS.tol) and (oS.alphas[i]<oS.C)) or \\\n",
    "       ((oS.labelMat[i] * Ei >  oS.tol) and (oS.alphas[i] > 0)):\n",
    "        #\n",
    "        j, Ej=selectJ2(i, oS, Ei)\n",
    "        alphaIold=oS.alphas[i].copy()\n",
    "        alphaJold=oS.alphas[j].copy()\n",
    "        # 设置最大最小值\n",
    "        if (oS.labelMat[i] != oS.labelMat[j]):\n",
    "            L=max(0, oS.alphas[j]-oS.alphas[i])\n",
    "            H=min(oS.C, oS.C+oS.alphas[j]-oS.alphas[i])\n",
    "        else:\n",
    "            L=max(0, oS.alphas[j]+oS.alphas[i]-oS.C)\n",
    "            H=min(oS.C, oS.alphas[j]+oS.alphas[i])\n",
    "        #\n",
    "        if L==H:\n",
    "            if debug:print('L==H');\n",
    "            return 0\n",
    "        \n",
    "        \n",
    "        #########################\n",
    "        # 重点优化对象 eta ------------>> //todo 没看懂\n",
    "        #########################\n",
    "        eta=2.0*oS.K[i,j] - oS.K[i,i] - oS.K[j,j]\n",
    "        if eta==0:\n",
    "            if debug:print(\"Eta==0\")\n",
    "            return 0\n",
    "        oS.alphas[j] -= oS.labelMat[j]*(Ei-Ej)/eta\n",
    "        oS.alphas[j]=clipAlpha(oS.alphas[j], H, L)\n",
    "\n",
    "        \n",
    "        # 如果alpha j变动太小，则忽略\n",
    "        if abs(oS.alphas[j]-alphaJold)<0.00001:\n",
    "            if debug:print(\"j not moving enough\")\n",
    "            oS.alphas[j]=-alphaJold\n",
    "            return 0\n",
    "\n",
    "        \n",
    "        # 更新误差缓存\n",
    "        updateEk2(oS, j)\n",
    "        \n",
    "        # alpha i 变动和 alpha j相同，方向相反\n",
    "        oS.alphas[i] += oS.labelMat[j]*oS.labelMat[i]*(alphaJold - oS.alphas[j])\n",
    "        updateEk2(oS, i)\n",
    "        \n",
    "        \n",
    "        #########################\n",
    "        # 更新b   //todo -----> 这一步也没看懂\n",
    "        #########################\n",
    "        b1=oS.b-Ei-oS.labelMat[i]*(oS.alphas[i]-alphaIold)*oS.K[i,i]-\\\n",
    "                        oS.labelMat[j]*(oS.alphas[j]-alphaJold)*oS.K[i,j]\n",
    "        b2=oS.b-Ej-oS.labelMat[i]*(oS.alphas[i]-alphaIold)*oS.K[i,j]-\\\n",
    "                        oS.labelMat[j]*(oS.alphas[j]-alphaJold)*oS.K[j,j]\n",
    "        # \n",
    "        if (0<oS.alphas[i]) and (oS.alphas[i]<oS.C):\n",
    "            oS.b=b1\n",
    "        elif (0<oS.alphas[j]) and (oS.alphas[j]<oS.C):\n",
    "            oS.b=b2\n",
    "        else:\n",
    "            oS.b=(b1+b2)/2.0\n",
    "        \n",
    "        return 1\n",
    "    else:\n",
    "        return 0;\n",
    "#"
   ]
  },
  {
   "cell_type": "code",
   "execution_count": 381,
   "metadata": {},
   "outputs": [
    {
     "name": "stdout",
     "output_type": "stream",
     "text": [
      ">>fullSet, iter:0 i:0, pairs changed:1\n",
      ">>fullSet, iter:0 i:1, pairs changed:1\n",
      ">>fullSet, iter:0 i:2, pairs changed:1\n",
      ">>fullSet, iter:0 i:3, pairs changed:1\n",
      ">>fullSet, iter:0 i:4, pairs changed:1\n",
      ">>fullSet, iter:0 i:5, pairs changed:2\n",
      ">>fullSet, iter:0 i:6, pairs changed:2\n",
      ">>fullSet, iter:0 i:7, pairs changed:2\n",
      ">>fullSet, iter:0 i:8, pairs changed:2\n",
      ">>fullSet, iter:0 i:9, pairs changed:2\n",
      ">>fullSet, iter:0 i:10, pairs changed:3\n",
      ">>fullSet, iter:0 i:11, pairs changed:3\n",
      ">>fullSet, iter:0 i:12, pairs changed:3\n",
      ">>fullSet, iter:0 i:13, pairs changed:3\n",
      ">>fullSet, iter:0 i:14, pairs changed:3\n",
      ">>fullSet, iter:0 i:15, pairs changed:3\n",
      ">>fullSet, iter:0 i:16, pairs changed:3\n",
      ">>fullSet, iter:0 i:17, pairs changed:3\n",
      ">>fullSet, iter:0 i:18, pairs changed:3\n",
      ">>fullSet, iter:0 i:19, pairs changed:3\n",
      ">>fullSet, iter:0 i:20, pairs changed:3\n",
      ">>fullSet, iter:0 i:21, pairs changed:3\n",
      ">>fullSet, iter:0 i:22, pairs changed:3\n",
      ">>fullSet, iter:0 i:23, pairs changed:3\n",
      ">>fullSet, iter:0 i:24, pairs changed:3\n",
      ">>fullSet, iter:0 i:25, pairs changed:3\n",
      ">>fullSet, iter:0 i:26, pairs changed:3\n",
      ">>fullSet, iter:0 i:27, pairs changed:3\n",
      ">>fullSet, iter:0 i:28, pairs changed:3\n",
      ">>fullSet, iter:0 i:29, pairs changed:3\n",
      ">>fullSet, iter:0 i:30, pairs changed:3\n",
      ">>fullSet, iter:0 i:31, pairs changed:3\n",
      ">>fullSet, iter:0 i:32, pairs changed:3\n",
      ">>fullSet, iter:0 i:33, pairs changed:3\n",
      ">>fullSet, iter:0 i:34, pairs changed:3\n",
      ">>fullSet, iter:0 i:35, pairs changed:3\n",
      ">>fullSet, iter:0 i:36, pairs changed:3\n",
      ">>fullSet, iter:0 i:37, pairs changed:3\n",
      ">>fullSet, iter:0 i:38, pairs changed:3\n",
      ">>fullSet, iter:0 i:39, pairs changed:3\n",
      ">>fullSet, iter:0 i:40, pairs changed:3\n",
      ">>fullSet, iter:0 i:41, pairs changed:3\n",
      ">>fullSet, iter:0 i:42, pairs changed:3\n",
      ">>fullSet, iter:0 i:43, pairs changed:3\n",
      ">>fullSet, iter:0 i:44, pairs changed:3\n",
      ">>fullSet, iter:0 i:45, pairs changed:3\n",
      ">>fullSet, iter:0 i:46, pairs changed:3\n",
      ">>fullSet, iter:0 i:47, pairs changed:3\n",
      ">>fullSet, iter:0 i:48, pairs changed:3\n",
      ">>fullSet, iter:0 i:49, pairs changed:3\n",
      ">>fullSet, iter:0 i:50, pairs changed:3\n",
      ">>fullSet, iter:0 i:51, pairs changed:4\n",
      ">>fullSet, iter:0 i:52, pairs changed:4\n",
      ">>fullSet, iter:0 i:53, pairs changed:5\n",
      ">>fullSet, iter:0 i:54, pairs changed:5\n",
      ">>fullSet, iter:0 i:55, pairs changed:6\n",
      ">>fullSet, iter:0 i:56, pairs changed:7\n",
      ">>fullSet, iter:0 i:57, pairs changed:8\n",
      ">>fullSet, iter:0 i:58, pairs changed:8\n",
      ">>fullSet, iter:0 i:59, pairs changed:8\n",
      ">>fullSet, iter:0 i:60, pairs changed:8\n",
      ">>fullSet, iter:0 i:61, pairs changed:8\n",
      ">>fullSet, iter:0 i:62, pairs changed:8\n",
      ">>fullSet, iter:0 i:63, pairs changed:8\n",
      ">>fullSet, iter:0 i:64, pairs changed:8\n",
      ">>fullSet, iter:0 i:65, pairs changed:8\n",
      ">>fullSet, iter:0 i:66, pairs changed:8\n",
      ">>fullSet, iter:0 i:67, pairs changed:8\n",
      ">>fullSet, iter:0 i:68, pairs changed:8\n",
      ">>fullSet, iter:0 i:69, pairs changed:8\n",
      ">>fullSet, iter:0 i:70, pairs changed:8\n",
      ">>fullSet, iter:0 i:71, pairs changed:8\n",
      ">>fullSet, iter:0 i:72, pairs changed:8\n",
      ">>fullSet, iter:0 i:73, pairs changed:8\n",
      ">>fullSet, iter:0 i:74, pairs changed:8\n",
      ">>fullSet, iter:0 i:75, pairs changed:8\n",
      ">>fullSet, iter:0 i:76, pairs changed:8\n",
      ">>fullSet, iter:0 i:77, pairs changed:8\n",
      ">>fullSet, iter:0 i:78, pairs changed:8\n",
      ">>fullSet, iter:0 i:79, pairs changed:8\n",
      ">>fullSet, iter:0 i:80, pairs changed:8\n",
      ">>fullSet, iter:0 i:81, pairs changed:8\n",
      ">>fullSet, iter:0 i:82, pairs changed:8\n",
      ">>fullSet, iter:0 i:83, pairs changed:8\n",
      ">>fullSet, iter:0 i:84, pairs changed:8\n",
      ">>fullSet, iter:0 i:85, pairs changed:8\n",
      ">>fullSet, iter:0 i:86, pairs changed:8\n",
      ">>fullSet, iter:0 i:87, pairs changed:8\n",
      ">>fullSet, iter:0 i:88, pairs changed:8\n",
      ">>fullSet, iter:0 i:89, pairs changed:8\n",
      ">>fullSet, iter:0 i:90, pairs changed:8\n",
      ">>fullSet, iter:0 i:91, pairs changed:8\n",
      ">>fullSet, iter:0 i:92, pairs changed:8\n",
      ">>fullSet, iter:0 i:93, pairs changed:8\n",
      ">>fullSet, iter:0 i:94, pairs changed:8\n",
      ">>fullSet, iter:0 i:95, pairs changed:8\n",
      ">>fullSet, iter:0 i:96, pairs changed:8\n",
      ">>fullSet, iter:0 i:97, pairs changed:8\n",
      ">>fullSet, iter:0 i:98, pairs changed:8\n",
      ">>fullSet, iter:0 i:99, pairs changed:8\n",
      ">>>> iteration number: 1\n",
      ">>non-bound, iter:1 i:5, pairs changed:0\n",
      ">>non-bound, iter:1 i:10, pairs changed:0\n",
      ">>non-bound, iter:1 i:18, pairs changed:0\n",
      ">>non-bound, iter:1 i:20, pairs changed:0\n",
      ">>non-bound, iter:1 i:51, pairs changed:1\n",
      ">>non-bound, iter:1 i:55, pairs changed:2\n",
      ">>non-bound, iter:1 i:56, pairs changed:2\n",
      ">>non-bound, iter:1 i:57, pairs changed:2\n",
      ">>>> iteration number: 2\n",
      ">>non-bound, iter:2 i:5, pairs changed:1\n",
      ">>non-bound, iter:2 i:10, pairs changed:1\n",
      ">>non-bound, iter:2 i:18, pairs changed:1\n",
      ">>non-bound, iter:2 i:20, pairs changed:2\n",
      ">>non-bound, iter:2 i:56, pairs changed:3\n",
      ">>non-bound, iter:2 i:57, pairs changed:3\n",
      ">>non-bound, iter:2 i:84, pairs changed:3\n",
      ">>non-bound, iter:2 i:85, pairs changed:3\n",
      ">>>> iteration number: 3\n",
      ">>non-bound, iter:3 i:5, pairs changed:0\n",
      ">>non-bound, iter:3 i:10, pairs changed:0\n",
      ">>non-bound, iter:3 i:18, pairs changed:0\n",
      ">>non-bound, iter:3 i:20, pairs changed:0\n",
      ">>non-bound, iter:3 i:57, pairs changed:0\n",
      ">>non-bound, iter:3 i:84, pairs changed:0\n",
      ">>non-bound, iter:3 i:85, pairs changed:0\n",
      ">>>> iteration number: 4\n",
      ">>fullSet, iter:4 i:0, pairs changed:0\n",
      ">>fullSet, iter:4 i:1, pairs changed:0\n",
      ">>fullSet, iter:4 i:2, pairs changed:0\n",
      ">>fullSet, iter:4 i:3, pairs changed:0\n",
      ">>fullSet, iter:4 i:4, pairs changed:0\n",
      ">>fullSet, iter:4 i:5, pairs changed:0\n",
      ">>fullSet, iter:4 i:6, pairs changed:0\n",
      ">>fullSet, iter:4 i:7, pairs changed:0\n",
      ">>fullSet, iter:4 i:8, pairs changed:0\n",
      ">>fullSet, iter:4 i:9, pairs changed:0\n",
      ">>fullSet, iter:4 i:10, pairs changed:0\n",
      ">>fullSet, iter:4 i:11, pairs changed:0\n",
      ">>fullSet, iter:4 i:12, pairs changed:0\n",
      ">>fullSet, iter:4 i:13, pairs changed:0\n",
      ">>fullSet, iter:4 i:14, pairs changed:0\n",
      ">>fullSet, iter:4 i:15, pairs changed:0\n",
      ">>fullSet, iter:4 i:16, pairs changed:0\n",
      ">>fullSet, iter:4 i:17, pairs changed:0\n",
      ">>fullSet, iter:4 i:18, pairs changed:0\n",
      ">>fullSet, iter:4 i:19, pairs changed:0\n",
      ">>fullSet, iter:4 i:20, pairs changed:0\n",
      ">>fullSet, iter:4 i:21, pairs changed:0\n",
      ">>fullSet, iter:4 i:22, pairs changed:0\n",
      ">>fullSet, iter:4 i:23, pairs changed:0\n",
      ">>fullSet, iter:4 i:24, pairs changed:0\n",
      ">>fullSet, iter:4 i:25, pairs changed:0\n",
      ">>fullSet, iter:4 i:26, pairs changed:0\n",
      ">>fullSet, iter:4 i:27, pairs changed:0\n",
      ">>fullSet, iter:4 i:28, pairs changed:0\n",
      ">>fullSet, iter:4 i:29, pairs changed:0\n",
      ">>fullSet, iter:4 i:30, pairs changed:0\n",
      ">>fullSet, iter:4 i:31, pairs changed:0\n",
      ">>fullSet, iter:4 i:32, pairs changed:0\n",
      ">>fullSet, iter:4 i:33, pairs changed:0\n",
      ">>fullSet, iter:4 i:34, pairs changed:0\n",
      ">>fullSet, iter:4 i:35, pairs changed:0\n",
      ">>fullSet, iter:4 i:36, pairs changed:0\n",
      ">>fullSet, iter:4 i:37, pairs changed:0\n",
      ">>fullSet, iter:4 i:38, pairs changed:0\n",
      ">>fullSet, iter:4 i:39, pairs changed:0\n",
      ">>fullSet, iter:4 i:40, pairs changed:0\n",
      ">>fullSet, iter:4 i:41, pairs changed:1\n",
      ">>fullSet, iter:4 i:42, pairs changed:1\n",
      ">>fullSet, iter:4 i:43, pairs changed:1\n",
      ">>fullSet, iter:4 i:44, pairs changed:1\n",
      ">>fullSet, iter:4 i:45, pairs changed:1\n",
      ">>fullSet, iter:4 i:46, pairs changed:1\n",
      ">>fullSet, iter:4 i:47, pairs changed:1\n",
      ">>fullSet, iter:4 i:48, pairs changed:1\n",
      ">>fullSet, iter:4 i:49, pairs changed:1\n",
      ">>fullSet, iter:4 i:50, pairs changed:1\n",
      ">>fullSet, iter:4 i:51, pairs changed:1\n",
      ">>fullSet, iter:4 i:52, pairs changed:1\n",
      ">>fullSet, iter:4 i:53, pairs changed:1\n",
      ">>fullSet, iter:4 i:54, pairs changed:1\n",
      ">>fullSet, iter:4 i:55, pairs changed:1\n",
      ">>fullSet, iter:4 i:56, pairs changed:1\n",
      ">>fullSet, iter:4 i:57, pairs changed:1\n",
      ">>fullSet, iter:4 i:58, pairs changed:1\n",
      ">>fullSet, iter:4 i:59, pairs changed:1\n",
      ">>fullSet, iter:4 i:60, pairs changed:1\n",
      ">>fullSet, iter:4 i:61, pairs changed:1\n",
      ">>fullSet, iter:4 i:62, pairs changed:1\n",
      ">>fullSet, iter:4 i:63, pairs changed:1\n",
      ">>fullSet, iter:4 i:64, pairs changed:1\n",
      ">>fullSet, iter:4 i:65, pairs changed:1\n",
      ">>fullSet, iter:4 i:66, pairs changed:1\n",
      ">>fullSet, iter:4 i:67, pairs changed:1\n",
      ">>fullSet, iter:4 i:68, pairs changed:1\n",
      ">>fullSet, iter:4 i:69, pairs changed:1\n",
      ">>fullSet, iter:4 i:70, pairs changed:1\n",
      ">>fullSet, iter:4 i:71, pairs changed:1\n",
      ">>fullSet, iter:4 i:72, pairs changed:1\n",
      ">>fullSet, iter:4 i:73, pairs changed:1\n",
      ">>fullSet, iter:4 i:74, pairs changed:1\n",
      ">>fullSet, iter:4 i:75, pairs changed:1\n",
      ">>fullSet, iter:4 i:76, pairs changed:1\n",
      ">>fullSet, iter:4 i:77, pairs changed:1\n",
      ">>fullSet, iter:4 i:78, pairs changed:1\n",
      ">>fullSet, iter:4 i:79, pairs changed:1\n",
      ">>fullSet, iter:4 i:80, pairs changed:1\n",
      ">>fullSet, iter:4 i:81, pairs changed:1\n",
      ">>fullSet, iter:4 i:82, pairs changed:1\n",
      ">>fullSet, iter:4 i:83, pairs changed:1\n",
      ">>fullSet, iter:4 i:84, pairs changed:1\n",
      ">>fullSet, iter:4 i:85, pairs changed:1\n",
      ">>fullSet, iter:4 i:86, pairs changed:1\n",
      ">>fullSet, iter:4 i:87, pairs changed:1\n",
      ">>fullSet, iter:4 i:88, pairs changed:1\n",
      ">>fullSet, iter:4 i:89, pairs changed:1\n",
      ">>fullSet, iter:4 i:90, pairs changed:1\n",
      ">>fullSet, iter:4 i:91, pairs changed:1\n",
      ">>fullSet, iter:4 i:92, pairs changed:1\n",
      ">>fullSet, iter:4 i:93, pairs changed:1\n",
      ">>fullSet, iter:4 i:94, pairs changed:1\n",
      ">>fullSet, iter:4 i:95, pairs changed:1\n",
      ">>fullSet, iter:4 i:96, pairs changed:1\n",
      ">>fullSet, iter:4 i:97, pairs changed:1\n",
      ">>fullSet, iter:4 i:98, pairs changed:1\n",
      ">>fullSet, iter:4 i:99, pairs changed:1\n",
      ">>>> iteration number: 5\n",
      ">>non-bound, iter:5 i:5, pairs changed:0\n",
      ">>non-bound, iter:5 i:10, pairs changed:0\n",
      ">>non-bound, iter:5 i:18, pairs changed:0\n",
      ">>non-bound, iter:5 i:20, pairs changed:0\n",
      ">>non-bound, iter:5 i:41, pairs changed:0\n",
      ">>non-bound, iter:5 i:57, pairs changed:0\n",
      ">>non-bound, iter:5 i:84, pairs changed:0\n",
      ">>non-bound, iter:5 i:85, pairs changed:0\n",
      ">>>> iteration number: 6\n",
      ">>fullSet, iter:6 i:0, pairs changed:0\n",
      ">>fullSet, iter:6 i:1, pairs changed:0\n",
      ">>fullSet, iter:6 i:2, pairs changed:0\n",
      ">>fullSet, iter:6 i:3, pairs changed:0\n",
      ">>fullSet, iter:6 i:4, pairs changed:0\n",
      ">>fullSet, iter:6 i:5, pairs changed:0\n",
      ">>fullSet, iter:6 i:6, pairs changed:0\n",
      ">>fullSet, iter:6 i:7, pairs changed:0\n",
      ">>fullSet, iter:6 i:8, pairs changed:0\n",
      ">>fullSet, iter:6 i:9, pairs changed:0\n",
      ">>fullSet, iter:6 i:10, pairs changed:0\n",
      ">>fullSet, iter:6 i:11, pairs changed:0\n",
      ">>fullSet, iter:6 i:12, pairs changed:0\n",
      ">>fullSet, iter:6 i:13, pairs changed:0\n",
      ">>fullSet, iter:6 i:14, pairs changed:0\n",
      ">>fullSet, iter:6 i:15, pairs changed:0\n",
      ">>fullSet, iter:6 i:16, pairs changed:0\n",
      ">>fullSet, iter:6 i:17, pairs changed:0\n",
      ">>fullSet, iter:6 i:18, pairs changed:0\n",
      ">>fullSet, iter:6 i:19, pairs changed:0\n",
      ">>fullSet, iter:6 i:20, pairs changed:0\n",
      ">>fullSet, iter:6 i:21, pairs changed:0\n",
      ">>fullSet, iter:6 i:22, pairs changed:0\n",
      ">>fullSet, iter:6 i:23, pairs changed:0\n",
      ">>fullSet, iter:6 i:24, pairs changed:0\n",
      ">>fullSet, iter:6 i:25, pairs changed:0\n",
      ">>fullSet, iter:6 i:26, pairs changed:0\n",
      ">>fullSet, iter:6 i:27, pairs changed:0\n"
     ]
    },
    {
     "name": "stdout",
     "output_type": "stream",
     "text": [
      ">>fullSet, iter:6 i:28, pairs changed:0\n",
      ">>fullSet, iter:6 i:29, pairs changed:0\n",
      ">>fullSet, iter:6 i:30, pairs changed:0\n",
      ">>fullSet, iter:6 i:31, pairs changed:0\n",
      ">>fullSet, iter:6 i:32, pairs changed:0\n",
      ">>fullSet, iter:6 i:33, pairs changed:0\n",
      ">>fullSet, iter:6 i:34, pairs changed:0\n",
      ">>fullSet, iter:6 i:35, pairs changed:0\n",
      ">>fullSet, iter:6 i:36, pairs changed:0\n",
      ">>fullSet, iter:6 i:37, pairs changed:0\n",
      ">>fullSet, iter:6 i:38, pairs changed:0\n",
      ">>fullSet, iter:6 i:39, pairs changed:0\n",
      ">>fullSet, iter:6 i:40, pairs changed:0\n",
      ">>fullSet, iter:6 i:41, pairs changed:0\n",
      ">>fullSet, iter:6 i:42, pairs changed:0\n",
      ">>fullSet, iter:6 i:43, pairs changed:0\n",
      ">>fullSet, iter:6 i:44, pairs changed:0\n",
      ">>fullSet, iter:6 i:45, pairs changed:0\n",
      ">>fullSet, iter:6 i:46, pairs changed:0\n",
      ">>fullSet, iter:6 i:47, pairs changed:0\n",
      ">>fullSet, iter:6 i:48, pairs changed:0\n",
      ">>fullSet, iter:6 i:49, pairs changed:0\n",
      ">>fullSet, iter:6 i:50, pairs changed:0\n",
      ">>fullSet, iter:6 i:51, pairs changed:0\n",
      ">>fullSet, iter:6 i:52, pairs changed:0\n",
      ">>fullSet, iter:6 i:53, pairs changed:0\n",
      ">>fullSet, iter:6 i:54, pairs changed:0\n",
      ">>fullSet, iter:6 i:55, pairs changed:0\n",
      ">>fullSet, iter:6 i:56, pairs changed:0\n",
      ">>fullSet, iter:6 i:57, pairs changed:0\n",
      ">>fullSet, iter:6 i:58, pairs changed:0\n",
      ">>fullSet, iter:6 i:59, pairs changed:0\n",
      ">>fullSet, iter:6 i:60, pairs changed:0\n",
      ">>fullSet, iter:6 i:61, pairs changed:0\n",
      ">>fullSet, iter:6 i:62, pairs changed:0\n",
      ">>fullSet, iter:6 i:63, pairs changed:0\n",
      ">>fullSet, iter:6 i:64, pairs changed:0\n",
      ">>fullSet, iter:6 i:65, pairs changed:0\n",
      ">>fullSet, iter:6 i:66, pairs changed:0\n",
      ">>fullSet, iter:6 i:67, pairs changed:0\n",
      ">>fullSet, iter:6 i:68, pairs changed:0\n",
      ">>fullSet, iter:6 i:69, pairs changed:0\n",
      ">>fullSet, iter:6 i:70, pairs changed:0\n",
      ">>fullSet, iter:6 i:71, pairs changed:0\n",
      ">>fullSet, iter:6 i:72, pairs changed:0\n",
      ">>fullSet, iter:6 i:73, pairs changed:0\n",
      ">>fullSet, iter:6 i:74, pairs changed:0\n",
      ">>fullSet, iter:6 i:75, pairs changed:0\n",
      ">>fullSet, iter:6 i:76, pairs changed:0\n",
      ">>fullSet, iter:6 i:77, pairs changed:0\n",
      ">>fullSet, iter:6 i:78, pairs changed:0\n",
      ">>fullSet, iter:6 i:79, pairs changed:0\n",
      ">>fullSet, iter:6 i:80, pairs changed:0\n",
      ">>fullSet, iter:6 i:81, pairs changed:0\n",
      ">>fullSet, iter:6 i:82, pairs changed:0\n",
      ">>fullSet, iter:6 i:83, pairs changed:0\n",
      ">>fullSet, iter:6 i:84, pairs changed:0\n",
      ">>fullSet, iter:6 i:85, pairs changed:0\n",
      ">>fullSet, iter:6 i:86, pairs changed:0\n",
      ">>fullSet, iter:6 i:87, pairs changed:0\n",
      ">>fullSet, iter:6 i:88, pairs changed:0\n",
      ">>fullSet, iter:6 i:89, pairs changed:0\n",
      ">>fullSet, iter:6 i:90, pairs changed:0\n",
      ">>fullSet, iter:6 i:91, pairs changed:0\n",
      ">>fullSet, iter:6 i:92, pairs changed:0\n",
      ">>fullSet, iter:6 i:93, pairs changed:0\n",
      ">>fullSet, iter:6 i:94, pairs changed:0\n",
      ">>fullSet, iter:6 i:95, pairs changed:0\n",
      ">>fullSet, iter:6 i:96, pairs changed:0\n",
      ">>fullSet, iter:6 i:97, pairs changed:0\n",
      ">>fullSet, iter:6 i:98, pairs changed:0\n",
      ">>fullSet, iter:6 i:99, pairs changed:0\n",
      ">>>> iteration number: 7\n",
      "[[-10.80246856]] (100, 1)\n"
     ]
    },
    {
     "data": {
      "text/plain": [
       "matrix([[0.89061713, 0.15100293, 1.04363043, 5.23483282, 0.66567632,\n",
       "         0.73923822, 2.01168858, 5.23483282]])"
      ]
     },
     "execution_count": 381,
     "metadata": {},
     "output_type": "execute_result"
    }
   ],
   "source": [
    "# 不需要改，但是因为 innerL2 改名而要修改\n",
    "# 更新函数名 optStruct2，innerL2，\n",
    "\n",
    "# 外循环\n",
    "def smoP2(dataMatIn, classLabels, C, toler, maxIter, kTup=('lin',0), debug=False):\n",
    "    oS=optStruct2(np.mat(dataMatIn), np.mat(classLabels).transpose(), C, toler, kTup)\n",
    "    iter2=0\n",
    "    entireSet=True\n",
    "    alphaPairsChanged=0\n",
    "    \n",
    "    #停止条件: 达到最大遍历数，或者刚遍历全局且没有可以调整的。\n",
    "    while (iter2<maxIter) and  ((alphaPairsChanged>0) or (entireSet)):\n",
    "        alphaPairsChanged=0\n",
    "        if entireSet: #遍历所有的值\n",
    "            for i in range(oS.m):\n",
    "                alphaPairsChanged += innerL2(i, oS)\n",
    "                if debug:print(\">>fullSet, iter:%d i:%d, pairs changed:%d\" % (iter2, i, alphaPairsChanged))\n",
    "            iter2 += 1\n",
    "        else: # 遍历非边界值\n",
    "            nonBoundIs=np.nonzero((oS.alphas.A>0) * (oS.alphas.A<C))[0]\n",
    "            \n",
    "            for i in nonBoundIs:\n",
    "                alphaPairsChanged += innerL(i, oS)\n",
    "                if debug:print(\">>non-bound, iter:%d i:%d, pairs changed:%d\" % (iter2, i, alphaPairsChanged))\n",
    "            # 遍历计数器\n",
    "            iter2 += 1\n",
    "            \n",
    "        # 什么情况下切换两种遍历模式呢？\n",
    "        if entireSet: #如果刚全局遍历过，就切换到 非边界遍历\n",
    "            entireSet = False\n",
    "        elif alphaPairsChanged==0: # 没有变动，则切换为 全局遍历\n",
    "            entireSet=True\n",
    "        #\n",
    "        if debug:print(\">>>> iteration number: %d\" % iter2)\n",
    "    return oS.b, oS.alphas\n",
    "# test\n",
    "b,alphas=smoP2(dataArr, dataTags, C=20, toler=0.00001, maxIter=40, debug=True)\n",
    "\n",
    "print(b,alphas.shape)\n",
    "alphas[alphas>0]"
   ]
  },
  {
   "cell_type": "markdown",
   "metadata": {},
   "source": [
    "## 图示分类效果"
   ]
  },
  {
   "cell_type": "code",
   "execution_count": 607,
   "metadata": {},
   "outputs": [
    {
     "name": "stdout",
     "output_type": "stream",
     "text": [
      "[[-1.98255471]] (100, 1)\n",
      "[[ 1.18752103]\n",
      " [-1.47006581]] -1.9825547070970515\n"
     ]
    },
    {
     "data": {
      "image/png": "[encoded data removed]",
      "text/plain": [
       "<Figure size 432x288 with 1 Axes>"
      ]
     },
     "metadata": {},
     "output_type": "display_data"
    }
   ],
   "source": [
    "random.seed(2021)\n",
    "np.random.seed(2021)\n",
    "\n",
    "b,alphas=smoP2(dataArr, dataTags, C=0.94, toler=0.00001, maxIter=100)\n",
    "\n",
    "print(b,alphas.shape)\n",
    "alphas[alphas>0]\n",
    "\n",
    "ws=calcWs(alphas, dataArr, dataTags)\n",
    "#print(ws)\n",
    "\n",
    "plot2(ws, b.tolist()[0][0])"
   ]
  },
  {
   "cell_type": "markdown",
   "metadata": {},
   "source": [
    "## 使用径向基函数训练"
   ]
  },
  {
   "cell_type": "code",
   "execution_count": 633,
   "metadata": {},
   "outputs": [
    {
     "name": "stdout",
     "output_type": "stream",
     "text": [
      ">>fullSet, iter:0 i:0, pairs changed:1\n",
      ">>fullSet, iter:0 i:1, pairs changed:1\n",
      ">>fullSet, iter:0 i:2, pairs changed:1\n",
      ">>fullSet, iter:0 i:3, pairs changed:1\n",
      ">>fullSet, iter:0 i:4, pairs changed:1\n",
      ">>fullSet, iter:0 i:5, pairs changed:2\n",
      ">>fullSet, iter:0 i:6, pairs changed:2\n",
      ">>fullSet, iter:0 i:7, pairs changed:2\n",
      ">>fullSet, iter:0 i:8, pairs changed:2\n",
      ">>fullSet, iter:0 i:9, pairs changed:3\n",
      ">>fullSet, iter:0 i:10, pairs changed:4\n",
      ">>fullSet, iter:0 i:11, pairs changed:4\n",
      ">>fullSet, iter:0 i:12, pairs changed:4\n",
      ">>fullSet, iter:0 i:13, pairs changed:4\n",
      ">>fullSet, iter:0 i:14, pairs changed:5\n",
      ">>fullSet, iter:0 i:15, pairs changed:5\n",
      ">>fullSet, iter:0 i:16, pairs changed:5\n",
      ">>fullSet, iter:0 i:17, pairs changed:5\n",
      ">>fullSet, iter:0 i:18, pairs changed:6\n",
      ">>fullSet, iter:0 i:19, pairs changed:6\n",
      ">>fullSet, iter:0 i:20, pairs changed:6\n",
      ">>fullSet, iter:0 i:21, pairs changed:6\n",
      ">>fullSet, iter:0 i:22, pairs changed:6\n",
      ">>fullSet, iter:0 i:23, pairs changed:6\n",
      ">>fullSet, iter:0 i:24, pairs changed:6\n",
      ">>fullSet, iter:0 i:25, pairs changed:6\n",
      ">>fullSet, iter:0 i:26, pairs changed:6\n",
      ">>fullSet, iter:0 i:27, pairs changed:6\n",
      ">>fullSet, iter:0 i:28, pairs changed:6\n",
      ">>fullSet, iter:0 i:29, pairs changed:6\n",
      ">>fullSet, iter:0 i:30, pairs changed:6\n",
      ">>fullSet, iter:0 i:31, pairs changed:6\n",
      ">>fullSet, iter:0 i:32, pairs changed:6\n",
      ">>fullSet, iter:0 i:33, pairs changed:6\n",
      ">>fullSet, iter:0 i:34, pairs changed:6\n",
      ">>fullSet, iter:0 i:35, pairs changed:6\n",
      ">>fullSet, iter:0 i:36, pairs changed:6\n",
      ">>fullSet, iter:0 i:37, pairs changed:6\n",
      ">>fullSet, iter:0 i:38, pairs changed:6\n",
      ">>fullSet, iter:0 i:39, pairs changed:6\n",
      ">>fullSet, iter:0 i:40, pairs changed:6\n",
      ">>fullSet, iter:0 i:41, pairs changed:6\n",
      ">>fullSet, iter:0 i:42, pairs changed:6\n",
      ">>fullSet, iter:0 i:43, pairs changed:6\n",
      ">>fullSet, iter:0 i:44, pairs changed:6\n",
      ">>fullSet, iter:0 i:45, pairs changed:6\n",
      ">>fullSet, iter:0 i:46, pairs changed:6\n",
      ">>fullSet, iter:0 i:47, pairs changed:6\n",
      ">>fullSet, iter:0 i:48, pairs changed:6\n",
      ">>fullSet, iter:0 i:49, pairs changed:6\n",
      ">>fullSet, iter:0 i:50, pairs changed:6\n",
      ">>fullSet, iter:0 i:51, pairs changed:6\n",
      ">>fullSet, iter:0 i:52, pairs changed:6\n",
      ">>fullSet, iter:0 i:53, pairs changed:6\n",
      ">>fullSet, iter:0 i:54, pairs changed:6\n",
      ">>fullSet, iter:0 i:55, pairs changed:6\n",
      ">>fullSet, iter:0 i:56, pairs changed:6\n",
      ">>fullSet, iter:0 i:57, pairs changed:7\n",
      ">>fullSet, iter:0 i:58, pairs changed:7\n",
      ">>fullSet, iter:0 i:59, pairs changed:7\n",
      ">>fullSet, iter:0 i:60, pairs changed:7\n",
      ">>fullSet, iter:0 i:61, pairs changed:7\n",
      ">>fullSet, iter:0 i:62, pairs changed:7\n",
      ">>fullSet, iter:0 i:63, pairs changed:7\n",
      ">>fullSet, iter:0 i:64, pairs changed:7\n",
      ">>fullSet, iter:0 i:65, pairs changed:7\n",
      ">>fullSet, iter:0 i:66, pairs changed:7\n",
      ">>fullSet, iter:0 i:67, pairs changed:7\n",
      ">>fullSet, iter:0 i:68, pairs changed:7\n",
      ">>fullSet, iter:0 i:69, pairs changed:7\n",
      ">>fullSet, iter:0 i:70, pairs changed:7\n",
      ">>fullSet, iter:0 i:71, pairs changed:7\n",
      ">>fullSet, iter:0 i:72, pairs changed:7\n",
      ">>fullSet, iter:0 i:73, pairs changed:7\n",
      ">>fullSet, iter:0 i:74, pairs changed:7\n",
      ">>fullSet, iter:0 i:75, pairs changed:7\n",
      ">>fullSet, iter:0 i:76, pairs changed:7\n",
      ">>fullSet, iter:0 i:77, pairs changed:7\n",
      ">>fullSet, iter:0 i:78, pairs changed:7\n",
      ">>fullSet, iter:0 i:79, pairs changed:7\n",
      ">>fullSet, iter:0 i:80, pairs changed:7\n",
      ">>fullSet, iter:0 i:81, pairs changed:7\n",
      ">>fullSet, iter:0 i:82, pairs changed:7\n",
      ">>fullSet, iter:0 i:83, pairs changed:7\n",
      ">>fullSet, iter:0 i:84, pairs changed:7\n",
      ">>fullSet, iter:0 i:85, pairs changed:8\n",
      ">>fullSet, iter:0 i:86, pairs changed:8\n",
      ">>fullSet, iter:0 i:87, pairs changed:8\n",
      ">>fullSet, iter:0 i:88, pairs changed:8\n",
      ">>fullSet, iter:0 i:89, pairs changed:8\n",
      ">>fullSet, iter:0 i:90, pairs changed:8\n",
      ">>fullSet, iter:0 i:91, pairs changed:8\n",
      ">>fullSet, iter:0 i:92, pairs changed:8\n",
      ">>fullSet, iter:0 i:93, pairs changed:8\n",
      ">>fullSet, iter:0 i:94, pairs changed:8\n",
      ">>fullSet, iter:0 i:95, pairs changed:8\n",
      ">>fullSet, iter:0 i:96, pairs changed:8\n",
      ">>fullSet, iter:0 i:97, pairs changed:8\n",
      ">>fullSet, iter:0 i:98, pairs changed:8\n",
      ">>fullSet, iter:0 i:99, pairs changed:8\n",
      ">>>> iteration number: 1\n",
      ">>non-bound, iter:1 i:9, pairs changed:1\n",
      ">>non-bound, iter:1 i:10, pairs changed:2\n",
      ">>non-bound, iter:1 i:14, pairs changed:3\n",
      ">>non-bound, iter:1 i:18, pairs changed:3\n",
      ">>non-bound, iter:1 i:41, pairs changed:4\n",
      ">>non-bound, iter:1 i:57, pairs changed:4\n",
      ">>non-bound, iter:1 i:85, pairs changed:4\n",
      ">>>> iteration number: 2\n",
      ">>non-bound, iter:2 i:18, pairs changed:0\n",
      ">>non-bound, iter:2 i:41, pairs changed:0\n",
      ">>non-bound, iter:2 i:57, pairs changed:0\n",
      ">>non-bound, iter:2 i:85, pairs changed:0\n",
      ">>>> iteration number: 3\n",
      ">>fullSet, iter:3 i:0, pairs changed:0\n",
      ">>fullSet, iter:3 i:1, pairs changed:0\n",
      ">>fullSet, iter:3 i:2, pairs changed:0\n",
      ">>fullSet, iter:3 i:3, pairs changed:0\n",
      ">>fullSet, iter:3 i:4, pairs changed:0\n",
      ">>fullSet, iter:3 i:5, pairs changed:0\n",
      ">>fullSet, iter:3 i:6, pairs changed:0\n",
      ">>fullSet, iter:3 i:7, pairs changed:0\n",
      ">>fullSet, iter:3 i:8, pairs changed:0\n",
      ">>fullSet, iter:3 i:9, pairs changed:0\n",
      ">>fullSet, iter:3 i:10, pairs changed:0\n",
      ">>fullSet, iter:3 i:11, pairs changed:0\n",
      ">>fullSet, iter:3 i:12, pairs changed:0\n",
      ">>fullSet, iter:3 i:13, pairs changed:0\n",
      ">>fullSet, iter:3 i:14, pairs changed:0\n",
      ">>fullSet, iter:3 i:15, pairs changed:0\n",
      ">>fullSet, iter:3 i:16, pairs changed:0\n",
      ">>fullSet, iter:3 i:17, pairs changed:0\n",
      ">>fullSet, iter:3 i:18, pairs changed:1\n",
      ">>fullSet, iter:3 i:19, pairs changed:1\n",
      ">>fullSet, iter:3 i:20, pairs changed:2\n",
      ">>fullSet, iter:3 i:21, pairs changed:2\n",
      ">>fullSet, iter:3 i:22, pairs changed:2\n",
      ">>fullSet, iter:3 i:23, pairs changed:2\n",
      ">>fullSet, iter:3 i:24, pairs changed:2\n",
      ">>fullSet, iter:3 i:25, pairs changed:3\n",
      ">>fullSet, iter:3 i:26, pairs changed:3\n",
      ">>fullSet, iter:3 i:27, pairs changed:3\n",
      ">>fullSet, iter:3 i:28, pairs changed:3\n",
      ">>fullSet, iter:3 i:29, pairs changed:3\n",
      ">>fullSet, iter:3 i:30, pairs changed:3\n",
      ">>fullSet, iter:3 i:31, pairs changed:4\n",
      ">>fullSet, iter:3 i:32, pairs changed:4\n",
      ">>fullSet, iter:3 i:33, pairs changed:4\n",
      ">>fullSet, iter:3 i:34, pairs changed:4\n",
      ">>fullSet, iter:3 i:35, pairs changed:4\n",
      ">>fullSet, iter:3 i:36, pairs changed:4\n",
      ">>fullSet, iter:3 i:37, pairs changed:4\n",
      ">>fullSet, iter:3 i:38, pairs changed:4\n",
      ">>fullSet, iter:3 i:39, pairs changed:4\n",
      ">>fullSet, iter:3 i:40, pairs changed:4\n",
      ">>fullSet, iter:3 i:41, pairs changed:4\n",
      ">>fullSet, iter:3 i:42, pairs changed:4\n",
      ">>fullSet, iter:3 i:43, pairs changed:4\n",
      ">>fullSet, iter:3 i:44, pairs changed:4\n",
      ">>fullSet, iter:3 i:45, pairs changed:4\n",
      ">>fullSet, iter:3 i:46, pairs changed:4\n",
      ">>fullSet, iter:3 i:47, pairs changed:4\n",
      ">>fullSet, iter:3 i:48, pairs changed:4\n",
      ">>fullSet, iter:3 i:49, pairs changed:4\n",
      ">>fullSet, iter:3 i:50, pairs changed:4\n",
      ">>fullSet, iter:3 i:51, pairs changed:4\n",
      ">>fullSet, iter:3 i:52, pairs changed:4\n",
      ">>fullSet, iter:3 i:53, pairs changed:4\n",
      ">>fullSet, iter:3 i:54, pairs changed:4\n",
      ">>fullSet, iter:3 i:55, pairs changed:4\n",
      ">>fullSet, iter:3 i:56, pairs changed:4\n",
      ">>fullSet, iter:3 i:57, pairs changed:4\n",
      ">>fullSet, iter:3 i:58, pairs changed:4\n",
      ">>fullSet, iter:3 i:59, pairs changed:4\n",
      ">>fullSet, iter:3 i:60, pairs changed:4\n",
      ">>fullSet, iter:3 i:61, pairs changed:4\n",
      ">>fullSet, iter:3 i:62, pairs changed:4\n",
      ">>fullSet, iter:3 i:63, pairs changed:4\n",
      ">>fullSet, iter:3 i:64, pairs changed:4\n",
      ">>fullSet, iter:3 i:65, pairs changed:4\n",
      ">>fullSet, iter:3 i:66, pairs changed:4\n",
      ">>fullSet, iter:3 i:67, pairs changed:4\n",
      ">>fullSet, iter:3 i:68, pairs changed:4\n",
      ">>fullSet, iter:3 i:69, pairs changed:4\n",
      ">>fullSet, iter:3 i:70, pairs changed:4\n",
      ">>fullSet, iter:3 i:71, pairs changed:4\n",
      ">>fullSet, iter:3 i:72, pairs changed:4\n",
      ">>fullSet, iter:3 i:73, pairs changed:4\n",
      ">>fullSet, iter:3 i:74, pairs changed:4\n",
      ">>fullSet, iter:3 i:75, pairs changed:4\n",
      ">>fullSet, iter:3 i:76, pairs changed:4\n",
      ">>fullSet, iter:3 i:77, pairs changed:4\n",
      ">>fullSet, iter:3 i:78, pairs changed:4\n",
      ">>fullSet, iter:3 i:79, pairs changed:4\n",
      ">>fullSet, iter:3 i:80, pairs changed:4\n",
      ">>fullSet, iter:3 i:81, pairs changed:4\n",
      ">>fullSet, iter:3 i:82, pairs changed:4\n",
      ">>fullSet, iter:3 i:83, pairs changed:4\n",
      ">>fullSet, iter:3 i:84, pairs changed:5\n",
      ">>fullSet, iter:3 i:85, pairs changed:5\n",
      ">>fullSet, iter:3 i:86, pairs changed:5\n",
      ">>fullSet, iter:3 i:87, pairs changed:5\n",
      ">>fullSet, iter:3 i:88, pairs changed:5\n",
      ">>fullSet, iter:3 i:89, pairs changed:5\n",
      ">>fullSet, iter:3 i:90, pairs changed:5\n",
      ">>fullSet, iter:3 i:91, pairs changed:5\n",
      ">>fullSet, iter:3 i:92, pairs changed:5\n",
      ">>fullSet, iter:3 i:93, pairs changed:5\n",
      ">>fullSet, iter:3 i:94, pairs changed:5\n",
      ">>fullSet, iter:3 i:95, pairs changed:5\n",
      ">>fullSet, iter:3 i:96, pairs changed:5\n",
      ">>fullSet, iter:3 i:97, pairs changed:5\n",
      ">>fullSet, iter:3 i:98, pairs changed:5\n",
      ">>fullSet, iter:3 i:99, pairs changed:5\n",
      ">>>> iteration number: 4\n",
      ">>non-bound, iter:4 i:18, pairs changed:0\n",
      ">>non-bound, iter:4 i:20, pairs changed:1\n",
      ">>non-bound, iter:4 i:25, pairs changed:1\n",
      ">>non-bound, iter:4 i:31, pairs changed:1\n",
      ">>non-bound, iter:4 i:41, pairs changed:1\n",
      ">>non-bound, iter:4 i:57, pairs changed:1\n",
      ">>non-bound, iter:4 i:84, pairs changed:1\n",
      ">>non-bound, iter:4 i:85, pairs changed:1\n",
      ">>>> iteration number: 5\n",
      ">>non-bound, iter:5 i:18, pairs changed:0\n",
      ">>non-bound, iter:5 i:25, pairs changed:0\n",
      ">>non-bound, iter:5 i:31, pairs changed:0\n",
      ">>non-bound, iter:5 i:41, pairs changed:0\n",
      ">>non-bound, iter:5 i:57, pairs changed:0\n",
      ">>non-bound, iter:5 i:84, pairs changed:0\n",
      ">>non-bound, iter:5 i:85, pairs changed:0\n",
      ">>>> iteration number: 6\n",
      ">>fullSet, iter:6 i:0, pairs changed:0\n",
      ">>fullSet, iter:6 i:1, pairs changed:0\n",
      ">>fullSet, iter:6 i:2, pairs changed:0\n",
      ">>fullSet, iter:6 i:3, pairs changed:0\n",
      ">>fullSet, iter:6 i:4, pairs changed:0\n",
      ">>fullSet, iter:6 i:5, pairs changed:0\n",
      ">>fullSet, iter:6 i:6, pairs changed:0\n",
      ">>fullSet, iter:6 i:7, pairs changed:0\n",
      ">>fullSet, iter:6 i:8, pairs changed:0\n",
      ">>fullSet, iter:6 i:9, pairs changed:0\n",
      ">>fullSet, iter:6 i:10, pairs changed:0\n",
      ">>fullSet, iter:6 i:11, pairs changed:0\n",
      ">>fullSet, iter:6 i:12, pairs changed:0\n",
      ">>fullSet, iter:6 i:13, pairs changed:0\n",
      ">>fullSet, iter:6 i:14, pairs changed:0\n",
      ">>fullSet, iter:6 i:15, pairs changed:0\n",
      ">>fullSet, iter:6 i:16, pairs changed:0\n",
      ">>fullSet, iter:6 i:17, pairs changed:0\n",
      ">>fullSet, iter:6 i:18, pairs changed:0\n",
      ">>fullSet, iter:6 i:19, pairs changed:0\n",
      ">>fullSet, iter:6 i:20, pairs changed:0\n",
      ">>fullSet, iter:6 i:21, pairs changed:0\n",
      ">>fullSet, iter:6 i:22, pairs changed:0\n",
      ">>fullSet, iter:6 i:23, pairs changed:0\n",
      ">>fullSet, iter:6 i:24, pairs changed:0\n",
      ">>fullSet, iter:6 i:25, pairs changed:0\n",
      ">>fullSet, iter:6 i:26, pairs changed:0\n",
      ">>fullSet, iter:6 i:27, pairs changed:0\n",
      ">>fullSet, iter:6 i:28, pairs changed:0\n",
      ">>fullSet, iter:6 i:29, pairs changed:0\n",
      ">>fullSet, iter:6 i:30, pairs changed:0\n",
      ">>fullSet, iter:6 i:31, pairs changed:0\n",
      ">>fullSet, iter:6 i:32, pairs changed:0\n",
      ">>fullSet, iter:6 i:33, pairs changed:0\n",
      ">>fullSet, iter:6 i:34, pairs changed:0\n",
      ">>fullSet, iter:6 i:35, pairs changed:0\n",
      ">>fullSet, iter:6 i:36, pairs changed:0\n",
      ">>fullSet, iter:6 i:37, pairs changed:0\n",
      ">>fullSet, iter:6 i:38, pairs changed:0\n",
      ">>fullSet, iter:6 i:39, pairs changed:0\n",
      ">>fullSet, iter:6 i:40, pairs changed:0\n",
      ">>fullSet, iter:6 i:41, pairs changed:0\n",
      ">>fullSet, iter:6 i:42, pairs changed:0\n",
      ">>fullSet, iter:6 i:43, pairs changed:0\n",
      ">>fullSet, iter:6 i:44, pairs changed:0\n",
      ">>fullSet, iter:6 i:45, pairs changed:0\n",
      ">>fullSet, iter:6 i:46, pairs changed:0\n",
      ">>fullSet, iter:6 i:47, pairs changed:0\n",
      ">>fullSet, iter:6 i:48, pairs changed:0\n",
      ">>fullSet, iter:6 i:49, pairs changed:0\n",
      ">>fullSet, iter:6 i:50, pairs changed:1\n",
      ">>fullSet, iter:6 i:51, pairs changed:1\n",
      ">>fullSet, iter:6 i:52, pairs changed:1\n",
      ">>fullSet, iter:6 i:53, pairs changed:1\n",
      ">>fullSet, iter:6 i:54, pairs changed:1\n",
      ">>fullSet, iter:6 i:55, pairs changed:1\n",
      ">>fullSet, iter:6 i:56, pairs changed:1\n",
      ">>fullSet, iter:6 i:57, pairs changed:2\n",
      ">>fullSet, iter:6 i:58, pairs changed:2\n",
      ">>fullSet, iter:6 i:59, pairs changed:2\n",
      ">>fullSet, iter:6 i:60, pairs changed:2\n",
      ">>fullSet, iter:6 i:61, pairs changed:2\n",
      ">>fullSet, iter:6 i:62, pairs changed:2\n",
      ">>fullSet, iter:6 i:63, pairs changed:2\n",
      ">>fullSet, iter:6 i:64, pairs changed:2\n",
      ">>fullSet, iter:6 i:65, pairs changed:2\n",
      ">>fullSet, iter:6 i:66, pairs changed:2\n",
      ">>fullSet, iter:6 i:67, pairs changed:2\n",
      ">>fullSet, iter:6 i:68, pairs changed:2\n",
      ">>fullSet, iter:6 i:69, pairs changed:2\n",
      ">>fullSet, iter:6 i:70, pairs changed:2\n",
      ">>fullSet, iter:6 i:71, pairs changed:2\n",
      ">>fullSet, iter:6 i:72, pairs changed:2\n",
      ">>fullSet, iter:6 i:73, pairs changed:2\n",
      ">>fullSet, iter:6 i:74, pairs changed:2\n",
      ">>fullSet, iter:6 i:75, pairs changed:2\n",
      ">>fullSet, iter:6 i:76, pairs changed:2\n",
      ">>fullSet, iter:6 i:77, pairs changed:2\n",
      ">>fullSet, iter:6 i:78, pairs changed:2\n",
      ">>fullSet, iter:6 i:79, pairs changed:2\n",
      ">>fullSet, iter:6 i:80, pairs changed:2\n",
      ">>fullSet, iter:6 i:81, pairs changed:2\n",
      ">>fullSet, iter:6 i:82, pairs changed:2\n",
      ">>fullSet, iter:6 i:83, pairs changed:2\n",
      ">>fullSet, iter:6 i:84, pairs changed:3\n",
      ">>fullSet, iter:6 i:85, pairs changed:3\n",
      ">>fullSet, iter:6 i:86, pairs changed:3\n",
      ">>fullSet, iter:6 i:87, pairs changed:3\n",
      ">>fullSet, iter:6 i:88, pairs changed:3\n",
      ">>fullSet, iter:6 i:89, pairs changed:3\n",
      ">>fullSet, iter:6 i:90, pairs changed:3\n",
      ">>fullSet, iter:6 i:91, pairs changed:3\n",
      ">>fullSet, iter:6 i:92, pairs changed:3\n",
      ">>fullSet, iter:6 i:93, pairs changed:3\n",
      ">>fullSet, iter:6 i:94, pairs changed:3\n",
      ">>fullSet, iter:6 i:95, pairs changed:3\n",
      ">>fullSet, iter:6 i:96, pairs changed:3\n",
      ">>fullSet, iter:6 i:97, pairs changed:3\n",
      ">>fullSet, iter:6 i:98, pairs changed:3\n",
      ">>fullSet, iter:6 i:99, pairs changed:3\n",
      ">>>> iteration number: 7\n",
      ">>non-bound, iter:7 i:18, pairs changed:1\n",
      ">>non-bound, iter:7 i:20, pairs changed:1\n",
      ">>non-bound, iter:7 i:25, pairs changed:1\n",
      ">>non-bound, iter:7 i:31, pairs changed:1\n",
      ">>non-bound, iter:7 i:41, pairs changed:1\n",
      ">>non-bound, iter:7 i:50, pairs changed:1\n",
      ">>non-bound, iter:7 i:57, pairs changed:1\n",
      ">>non-bound, iter:7 i:84, pairs changed:1\n",
      ">>non-bound, iter:7 i:85, pairs changed:1\n",
      ">>>> iteration number: 8\n",
      ">>non-bound, iter:8 i:18, pairs changed:0\n",
      ">>non-bound, iter:8 i:20, pairs changed:0\n",
      ">>non-bound, iter:8 i:25, pairs changed:0\n",
      ">>non-bound, iter:8 i:31, pairs changed:0\n",
      ">>non-bound, iter:8 i:41, pairs changed:0\n",
      ">>non-bound, iter:8 i:57, pairs changed:0\n",
      ">>non-bound, iter:8 i:84, pairs changed:0\n",
      ">>non-bound, iter:8 i:85, pairs changed:0\n",
      ">>>> iteration number: 9\n",
      ">>fullSet, iter:9 i:0, pairs changed:0\n",
      ">>fullSet, iter:9 i:1, pairs changed:0\n",
      ">>fullSet, iter:9 i:2, pairs changed:0\n",
      ">>fullSet, iter:9 i:3, pairs changed:0\n",
      ">>fullSet, iter:9 i:4, pairs changed:0\n",
      ">>fullSet, iter:9 i:5, pairs changed:0\n",
      ">>fullSet, iter:9 i:6, pairs changed:0\n",
      ">>fullSet, iter:9 i:7, pairs changed:0\n",
      ">>fullSet, iter:9 i:8, pairs changed:0\n",
      ">>fullSet, iter:9 i:9, pairs changed:0\n",
      ">>fullSet, iter:9 i:10, pairs changed:0\n",
      ">>fullSet, iter:9 i:11, pairs changed:0\n",
      ">>fullSet, iter:9 i:12, pairs changed:0\n",
      ">>fullSet, iter:9 i:13, pairs changed:0\n",
      ">>fullSet, iter:9 i:14, pairs changed:0\n",
      ">>fullSet, iter:9 i:15, pairs changed:0\n",
      ">>fullSet, iter:9 i:16, pairs changed:0\n",
      ">>fullSet, iter:9 i:17, pairs changed:0\n",
      ">>fullSet, iter:9 i:18, pairs changed:0\n",
      ">>fullSet, iter:9 i:19, pairs changed:0\n",
      ">>fullSet, iter:9 i:20, pairs changed:0\n",
      ">>fullSet, iter:9 i:21, pairs changed:0\n",
      ">>fullSet, iter:9 i:22, pairs changed:0\n",
      ">>fullSet, iter:9 i:23, pairs changed:0\n",
      ">>fullSet, iter:9 i:24, pairs changed:0\n",
      ">>fullSet, iter:9 i:25, pairs changed:0\n",
      ">>fullSet, iter:9 i:26, pairs changed:0\n",
      ">>fullSet, iter:9 i:27, pairs changed:0\n",
      ">>fullSet, iter:9 i:28, pairs changed:0\n",
      ">>fullSet, iter:9 i:29, pairs changed:0\n",
      ">>fullSet, iter:9 i:30, pairs changed:0\n",
      ">>fullSet, iter:9 i:31, pairs changed:0\n",
      ">>fullSet, iter:9 i:32, pairs changed:0\n",
      ">>fullSet, iter:9 i:33, pairs changed:0\n",
      ">>fullSet, iter:9 i:34, pairs changed:0\n",
      ">>fullSet, iter:9 i:35, pairs changed:0\n",
      ">>fullSet, iter:9 i:36, pairs changed:0\n",
      ">>fullSet, iter:9 i:37, pairs changed:0\n",
      ">>fullSet, iter:9 i:38, pairs changed:0\n",
      ">>fullSet, iter:9 i:39, pairs changed:0\n",
      ">>fullSet, iter:9 i:40, pairs changed:0\n",
      ">>fullSet, iter:9 i:41, pairs changed:1\n",
      ">>fullSet, iter:9 i:42, pairs changed:1\n",
      ">>fullSet, iter:9 i:43, pairs changed:1\n",
      ">>fullSet, iter:9 i:44, pairs changed:1\n",
      ">>fullSet, iter:9 i:45, pairs changed:1\n",
      ">>fullSet, iter:9 i:46, pairs changed:1\n",
      ">>fullSet, iter:9 i:47, pairs changed:1\n",
      ">>fullSet, iter:9 i:48, pairs changed:1\n",
      ">>fullSet, iter:9 i:49, pairs changed:1\n",
      ">>fullSet, iter:9 i:50, pairs changed:1\n",
      ">>fullSet, iter:9 i:51, pairs changed:1\n",
      ">>fullSet, iter:9 i:52, pairs changed:1\n",
      ">>fullSet, iter:9 i:53, pairs changed:1\n",
      ">>fullSet, iter:9 i:54, pairs changed:1\n",
      ">>fullSet, iter:9 i:55, pairs changed:1\n",
      ">>fullSet, iter:9 i:56, pairs changed:1\n",
      ">>fullSet, iter:9 i:57, pairs changed:1\n",
      ">>fullSet, iter:9 i:58, pairs changed:1\n",
      ">>fullSet, iter:9 i:59, pairs changed:1\n",
      ">>fullSet, iter:9 i:60, pairs changed:1\n",
      ">>fullSet, iter:9 i:61, pairs changed:1\n",
      ">>fullSet, iter:9 i:62, pairs changed:1\n",
      ">>fullSet, iter:9 i:63, pairs changed:1\n",
      ">>fullSet, iter:9 i:64, pairs changed:1\n",
      ">>fullSet, iter:9 i:65, pairs changed:1\n",
      ">>fullSet, iter:9 i:66, pairs changed:1\n",
      ">>fullSet, iter:9 i:67, pairs changed:1\n",
      ">>fullSet, iter:9 i:68, pairs changed:1\n",
      ">>fullSet, iter:9 i:69, pairs changed:1\n",
      ">>fullSet, iter:9 i:70, pairs changed:1\n",
      ">>fullSet, iter:9 i:71, pairs changed:1\n",
      ">>fullSet, iter:9 i:72, pairs changed:1\n",
      ">>fullSet, iter:9 i:73, pairs changed:1\n",
      ">>fullSet, iter:9 i:74, pairs changed:1\n",
      ">>fullSet, iter:9 i:75, pairs changed:1\n",
      ">>fullSet, iter:9 i:76, pairs changed:1\n",
      ">>fullSet, iter:9 i:77, pairs changed:1\n",
      ">>fullSet, iter:9 i:78, pairs changed:1\n",
      ">>fullSet, iter:9 i:79, pairs changed:1\n",
      ">>fullSet, iter:9 i:80, pairs changed:1\n",
      ">>fullSet, iter:9 i:81, pairs changed:1\n",
      ">>fullSet, iter:9 i:82, pairs changed:1\n",
      ">>fullSet, iter:9 i:83, pairs changed:1\n",
      ">>fullSet, iter:9 i:84, pairs changed:1\n",
      ">>fullSet, iter:9 i:85, pairs changed:2\n",
      ">>fullSet, iter:9 i:86, pairs changed:2\n",
      ">>fullSet, iter:9 i:87, pairs changed:2\n",
      ">>fullSet, iter:9 i:88, pairs changed:2\n",
      ">>fullSet, iter:9 i:89, pairs changed:2\n",
      ">>fullSet, iter:9 i:90, pairs changed:2\n",
      ">>fullSet, iter:9 i:91, pairs changed:2\n",
      ">>fullSet, iter:9 i:92, pairs changed:2\n",
      ">>fullSet, iter:9 i:93, pairs changed:2\n",
      ">>fullSet, iter:9 i:94, pairs changed:2\n",
      ">>fullSet, iter:9 i:95, pairs changed:2\n",
      ">>fullSet, iter:9 i:96, pairs changed:2\n",
      ">>fullSet, iter:9 i:97, pairs changed:2\n",
      ">>fullSet, iter:9 i:98, pairs changed:2\n",
      ">>fullSet, iter:9 i:99, pairs changed:2\n",
      ">>>> iteration number: 10\n",
      ">>non-bound, iter:10 i:18, pairs changed:0\n",
      ">>non-bound, iter:10 i:20, pairs changed:0\n",
      ">>non-bound, iter:10 i:25, pairs changed:0\n",
      ">>non-bound, iter:10 i:31, pairs changed:0\n"
     ]
    },
    {
     "name": "stdout",
     "output_type": "stream",
     "text": [
      ">>non-bound, iter:10 i:41, pairs changed:0\n",
      ">>non-bound, iter:10 i:57, pairs changed:0\n",
      ">>non-bound, iter:10 i:84, pairs changed:0\n",
      ">>non-bound, iter:10 i:85, pairs changed:0\n",
      ">>>> iteration number: 11\n",
      ">>fullSet, iter:11 i:0, pairs changed:0\n",
      ">>fullSet, iter:11 i:1, pairs changed:0\n",
      ">>fullSet, iter:11 i:2, pairs changed:0\n",
      ">>fullSet, iter:11 i:3, pairs changed:0\n",
      ">>fullSet, iter:11 i:4, pairs changed:0\n",
      ">>fullSet, iter:11 i:5, pairs changed:0\n",
      ">>fullSet, iter:11 i:6, pairs changed:0\n",
      ">>fullSet, iter:11 i:7, pairs changed:0\n",
      ">>fullSet, iter:11 i:8, pairs changed:0\n",
      ">>fullSet, iter:11 i:9, pairs changed:0\n",
      ">>fullSet, iter:11 i:10, pairs changed:0\n",
      ">>fullSet, iter:11 i:11, pairs changed:0\n",
      ">>fullSet, iter:11 i:12, pairs changed:0\n",
      ">>fullSet, iter:11 i:13, pairs changed:0\n",
      ">>fullSet, iter:11 i:14, pairs changed:0\n",
      ">>fullSet, iter:11 i:15, pairs changed:0\n",
      ">>fullSet, iter:11 i:16, pairs changed:0\n",
      ">>fullSet, iter:11 i:17, pairs changed:0\n",
      ">>fullSet, iter:11 i:18, pairs changed:0\n",
      ">>fullSet, iter:11 i:19, pairs changed:0\n",
      ">>fullSet, iter:11 i:20, pairs changed:0\n",
      ">>fullSet, iter:11 i:21, pairs changed:0\n",
      ">>fullSet, iter:11 i:22, pairs changed:0\n",
      ">>fullSet, iter:11 i:23, pairs changed:0\n",
      ">>fullSet, iter:11 i:24, pairs changed:0\n",
      ">>fullSet, iter:11 i:25, pairs changed:0\n",
      ">>fullSet, iter:11 i:26, pairs changed:0\n",
      ">>fullSet, iter:11 i:27, pairs changed:0\n",
      ">>fullSet, iter:11 i:28, pairs changed:0\n",
      ">>fullSet, iter:11 i:29, pairs changed:0\n",
      ">>fullSet, iter:11 i:30, pairs changed:0\n",
      ">>fullSet, iter:11 i:31, pairs changed:0\n",
      ">>fullSet, iter:11 i:32, pairs changed:0\n",
      ">>fullSet, iter:11 i:33, pairs changed:0\n",
      ">>fullSet, iter:11 i:34, pairs changed:0\n",
      ">>fullSet, iter:11 i:35, pairs changed:0\n",
      ">>fullSet, iter:11 i:36, pairs changed:0\n",
      ">>fullSet, iter:11 i:37, pairs changed:0\n",
      ">>fullSet, iter:11 i:38, pairs changed:0\n",
      ">>fullSet, iter:11 i:39, pairs changed:0\n",
      ">>fullSet, iter:11 i:40, pairs changed:0\n",
      ">>fullSet, iter:11 i:41, pairs changed:0\n",
      ">>fullSet, iter:11 i:42, pairs changed:0\n",
      ">>fullSet, iter:11 i:43, pairs changed:0\n",
      ">>fullSet, iter:11 i:44, pairs changed:0\n",
      ">>fullSet, iter:11 i:45, pairs changed:0\n",
      ">>fullSet, iter:11 i:46, pairs changed:0\n",
      ">>fullSet, iter:11 i:47, pairs changed:0\n",
      ">>fullSet, iter:11 i:48, pairs changed:0\n",
      ">>fullSet, iter:11 i:49, pairs changed:0\n",
      ">>fullSet, iter:11 i:50, pairs changed:0\n",
      ">>fullSet, iter:11 i:51, pairs changed:0\n",
      ">>fullSet, iter:11 i:52, pairs changed:0\n",
      ">>fullSet, iter:11 i:53, pairs changed:0\n",
      ">>fullSet, iter:11 i:54, pairs changed:0\n",
      ">>fullSet, iter:11 i:55, pairs changed:0\n",
      ">>fullSet, iter:11 i:56, pairs changed:0\n",
      ">>fullSet, iter:11 i:57, pairs changed:0\n",
      ">>fullSet, iter:11 i:58, pairs changed:0\n",
      ">>fullSet, iter:11 i:59, pairs changed:0\n",
      ">>fullSet, iter:11 i:60, pairs changed:0\n",
      ">>fullSet, iter:11 i:61, pairs changed:0\n",
      ">>fullSet, iter:11 i:62, pairs changed:0\n",
      ">>fullSet, iter:11 i:63, pairs changed:0\n",
      ">>fullSet, iter:11 i:64, pairs changed:0\n",
      ">>fullSet, iter:11 i:65, pairs changed:0\n",
      ">>fullSet, iter:11 i:66, pairs changed:0\n",
      ">>fullSet, iter:11 i:67, pairs changed:0\n",
      ">>fullSet, iter:11 i:68, pairs changed:0\n",
      ">>fullSet, iter:11 i:69, pairs changed:0\n",
      ">>fullSet, iter:11 i:70, pairs changed:0\n",
      ">>fullSet, iter:11 i:71, pairs changed:0\n",
      ">>fullSet, iter:11 i:72, pairs changed:0\n",
      ">>fullSet, iter:11 i:73, pairs changed:0\n",
      ">>fullSet, iter:11 i:74, pairs changed:0\n",
      ">>fullSet, iter:11 i:75, pairs changed:0\n",
      ">>fullSet, iter:11 i:76, pairs changed:0\n",
      ">>fullSet, iter:11 i:77, pairs changed:0\n",
      ">>fullSet, iter:11 i:78, pairs changed:0\n",
      ">>fullSet, iter:11 i:79, pairs changed:0\n",
      ">>fullSet, iter:11 i:80, pairs changed:0\n",
      ">>fullSet, iter:11 i:81, pairs changed:0\n",
      ">>fullSet, iter:11 i:82, pairs changed:0\n",
      ">>fullSet, iter:11 i:83, pairs changed:0\n",
      ">>fullSet, iter:11 i:84, pairs changed:0\n",
      ">>fullSet, iter:11 i:85, pairs changed:0\n",
      ">>fullSet, iter:11 i:86, pairs changed:0\n",
      ">>fullSet, iter:11 i:87, pairs changed:0\n",
      ">>fullSet, iter:11 i:88, pairs changed:0\n",
      ">>fullSet, iter:11 i:89, pairs changed:0\n",
      ">>fullSet, iter:11 i:90, pairs changed:0\n",
      ">>fullSet, iter:11 i:91, pairs changed:0\n",
      ">>fullSet, iter:11 i:92, pairs changed:0\n",
      ">>fullSet, iter:11 i:93, pairs changed:0\n",
      ">>fullSet, iter:11 i:94, pairs changed:0\n",
      ">>fullSet, iter:11 i:95, pairs changed:0\n",
      ">>fullSet, iter:11 i:96, pairs changed:0\n",
      ">>fullSet, iter:11 i:97, pairs changed:0\n",
      ">>fullSet, iter:11 i:98, pairs changed:0\n",
      ">>fullSet, iter:11 i:99, pairs changed:0\n",
      ">>>> iteration number: 12\n",
      "[[-1.42080546]] (100, 1)\n"
     ]
    },
    {
     "data": {
      "text/plain": [
       "matrix([[ 0.8663508 ,  3.38306606, 12.3322466 ,  3.34124947, 23.95278476,\n",
       "         33.99497602,  5.5293836 ,  4.35133807]])"
      ]
     },
     "execution_count": 633,
     "metadata": {},
     "output_type": "execute_result"
    }
   ],
   "source": [
    "b,alphas=smoP2(dataArr, dataTags, C=50, toler=0.00001, maxIter=40, kTup=['rbf', 1.5], debug=True)\n",
    "\n",
    "print(b,alphas.shape)\n",
    "alphas[alphas>0]"
   ]
  },
  {
   "cell_type": "code",
   "execution_count": 634,
   "metadata": {},
   "outputs": [
    {
     "name": "stdout",
     "output_type": "stream",
     "text": [
      "[[11.84381451]\n",
      " [-5.27230791]] -1.4208054595815982\n"
     ]
    },
    {
     "data": {
      "image/png": "[encoded data removed]",
      "text/plain": [
       "<Figure size 432x288 with 1 Axes>"
      ]
     },
     "metadata": {},
     "output_type": "display_data"
    }
   ],
   "source": [
    "ws=calcWs(alphas, dataArr, dataTags)\n",
    "#print(ws)\n",
    "\n",
    "plot2(ws,b.tolist()[0][0])"
   ]
  },
  {
   "cell_type": "markdown",
   "metadata": {},
   "source": [
    "> 核函数求的的分界面是不是不适合可视化？"
   ]
  },
  {
   "cell_type": "markdown",
   "metadata": {},
   "source": [
    "## 测试集中使用核函数"
   ]
  },
  {
   "cell_type": "code",
   "execution_count": 635,
   "metadata": {},
   "outputs": [
    {
     "name": "stdout",
     "output_type": "stream",
     "text": [
      "   Sepal.Length  Sepal.Width  Petal.Length  Petal.Width Species\n",
      "1           5.1          3.5           1.4          0.2  setosa\n",
      "2           4.9          3.0           1.4          0.2  setosa\n",
      "3           4.7          3.2           1.3          0.2  setosa\n",
      "4           4.6          3.1           1.5          0.2  setosa\n",
      "5           5.0          3.6           1.4          0.2  setosa\n"
     ]
    },
    {
     "data": {
      "text/html": [
       "<div>\n",
       "<style scoped>\n",
       "    .dataframe tbody tr th:only-of-type {\n",
       "        vertical-align: middle;\n",
       "    }\n",
       "\n",
       "    .dataframe tbody tr th {\n",
       "        vertical-align: top;\n",
       "    }\n",
       "\n",
       "    .dataframe thead th {\n",
       "        text-align: right;\n",
       "    }\n",
       "</style>\n",
       "<table border=\"1\" class=\"dataframe\">\n",
       "  <thead>\n",
       "    <tr style=\"text-align: right;\">\n",
       "      <th></th>\n",
       "      <th>Sepal.Length</th>\n",
       "      <th>Sepal.Width</th>\n",
       "      <th>Petal.Length</th>\n",
       "      <th>Petal.Width</th>\n",
       "      <th>Species</th>\n",
       "    </tr>\n",
       "  </thead>\n",
       "  <tbody>\n",
       "    <tr>\n",
       "      <th>91</th>\n",
       "      <td>5.5</td>\n",
       "      <td>2.6</td>\n",
       "      <td>4.4</td>\n",
       "      <td>1.2</td>\n",
       "      <td>versicolor</td>\n",
       "    </tr>\n",
       "    <tr>\n",
       "      <th>92</th>\n",
       "      <td>6.1</td>\n",
       "      <td>3.0</td>\n",
       "      <td>4.6</td>\n",
       "      <td>1.4</td>\n",
       "      <td>versicolor</td>\n",
       "    </tr>\n",
       "    <tr>\n",
       "      <th>93</th>\n",
       "      <td>5.8</td>\n",
       "      <td>2.6</td>\n",
       "      <td>4.0</td>\n",
       "      <td>1.2</td>\n",
       "      <td>versicolor</td>\n",
       "    </tr>\n",
       "    <tr>\n",
       "      <th>94</th>\n",
       "      <td>5.0</td>\n",
       "      <td>2.3</td>\n",
       "      <td>3.3</td>\n",
       "      <td>1.0</td>\n",
       "      <td>versicolor</td>\n",
       "    </tr>\n",
       "    <tr>\n",
       "      <th>95</th>\n",
       "      <td>5.6</td>\n",
       "      <td>2.7</td>\n",
       "      <td>4.2</td>\n",
       "      <td>1.3</td>\n",
       "      <td>versicolor</td>\n",
       "    </tr>\n",
       "  </tbody>\n",
       "</table>\n",
       "</div>"
      ],
      "text/plain": [
       "    Sepal.Length  Sepal.Width  Petal.Length  Petal.Width     Species\n",
       "91           5.5          2.6           4.4          1.2  versicolor\n",
       "92           6.1          3.0           4.6          1.4  versicolor\n",
       "93           5.8          2.6           4.0          1.2  versicolor\n",
       "94           5.0          2.3           3.3          1.0  versicolor\n",
       "95           5.6          2.7           4.2          1.3  versicolor"
      ]
     },
     "execution_count": 635,
     "metadata": {},
     "output_type": "execute_result"
    }
   ],
   "source": [
    "print(iris.head())\n",
    "iris.iloc[90:95,:]"
   ]
  },
  {
   "cell_type": "code",
   "execution_count": 646,
   "metadata": {},
   "outputs": [
    {
     "data": {
      "text/plain": [
       "matrix([[-1.97370383]])"
      ]
     },
     "execution_count": 646,
     "metadata": {},
     "output_type": "execute_result"
    }
   ],
   "source": [
    "def testRbf(newX, alphas, w, b, dataArr, dataTags, ki=1.5):\n",
    "    X=np.mat(dataArr)\n",
    "    T=np.mat(dataTags).T\n",
    "    svInd=np.nonzero(alphas.A>0)[0]\n",
    "    sVs=X[svInd]\n",
    "    m,n=np.shape(X)\n",
    "\n",
    "    # 核函数结果\n",
    "    kerValue = kernelTrans(sVs, np.mat(newX), ['rbf', ki])\n",
    "    #返回内积\n",
    "    value = np.multiply(alphas[svInd], T[svInd]).T * kerValue+b\n",
    "    return value\n",
    "\n",
    "# test\n",
    "testRbf([5.1,3.5], alphas, ws, b, dataArr, dataTags)"
   ]
  },
  {
   "cell_type": "code",
   "execution_count": 637,
   "metadata": {},
   "outputs": [
    {
     "data": {
      "text/plain": [
       "matrix([[2.13877273]])"
      ]
     },
     "execution_count": 637,
     "metadata": {},
     "output_type": "execute_result"
    }
   ],
   "source": [
    "testRbf([5.6,\t2.7], alphas, ws, b, dataArr, dataTags)"
   ]
  },
  {
   "cell_type": "code",
   "execution_count": 645,
   "metadata": {},
   "outputs": [
    {
     "name": "stdout",
     "output_type": "stream",
     "text": [
      "100 100 100.0 %\n"
     ]
    }
   ],
   "source": [
    "# 分类效果很好：100%正确\n",
    "correctCount=0\n",
    "n=len(dataArr)\n",
    "for i in range(n):\n",
    "    pred=np.sign(testRbf(dataArr[i], alphas, ws, b, dataArr, dataTags) )\n",
    "    real=dataTags[i]\n",
    "    if pred==real:\n",
    "        correctCount+=1\n",
    "print(correctCount, n, round(correctCount/n*100,2),\"%\" )"
   ]
  },
  {
   "cell_type": "markdown",
   "metadata": {},
   "source": [
    "### 测试不同的sigma参数"
   ]
  },
  {
   "cell_type": "code",
   "execution_count": 668,
   "metadata": {},
   "outputs": [
    {
     "name": "stdout",
     "output_type": "stream",
     "text": [
      ">>>> i= 0 ; sigma= 0.1 errorRate 0.0\n",
      ">>>> i= 0 ; sigma= 0.1 errorRate 0.0\n",
      ">>>> i= 0 ; sigma= 0.1 errorRate 0.0\n",
      ">>>> i= 0 ; sigma= 0.1 errorRate 0.0\n",
      ">>>> i= 0 ; sigma= 0.1 errorRate 0.0\n",
      ">>>> i= 0 ; sigma= 0.1 errorRate 0.0\n",
      ">>>> i= 0 ; sigma= 0.1 errorRate 0.0\n",
      ">>>> i= 0 ; sigma= 0.1 errorRate 0.0\n",
      ">>>> i= 0 ; sigma= 0.1 errorRate 0.0\n",
      ">>>> i= 0 ; sigma= 0.1 errorRate 0.0\n",
      ">>>> i= 1 ; sigma= 5 errorRate 50.0\n",
      ">>>> i= 1 ; sigma= 5 errorRate 50.0\n",
      ">>>> i= 1 ; sigma= 5 errorRate 50.0\n",
      ">>>> i= 1 ; sigma= 5 errorRate 50.0\n",
      ">>>> i= 1 ; sigma= 5 errorRate 50.0\n",
      ">>>> i= 1 ; sigma= 5 errorRate 50.0\n",
      ">>>> i= 1 ; sigma= 5 errorRate 50.0\n",
      ">>>> i= 1 ; sigma= 5 errorRate 50.0\n",
      ">>>> i= 1 ; sigma= 5 errorRate 50.0\n",
      ">>>> i= 1 ; sigma= 5 errorRate 3.0\n",
      ">>>> i= 2 ; sigma= 10 errorRate 6.0\n",
      ">>>> i= 2 ; sigma= 10 errorRate 50.0\n",
      ">>>> i= 2 ; sigma= 10 errorRate 1.0\n",
      ">>>> i= 2 ; sigma= 10 errorRate 50.0\n",
      ">>>> i= 2 ; sigma= 10 errorRate 0.0\n",
      ">>>> i= 2 ; sigma= 10 errorRate 50.0\n",
      ">>>> i= 2 ; sigma= 10 errorRate 50.0\n",
      ">>>> i= 2 ; sigma= 10 errorRate 50.0\n",
      ">>>> i= 2 ; sigma= 10 errorRate 50.0\n",
      ">>>> i= 2 ; sigma= 10 errorRate 50.0\n",
      ">>>> i= 3 ; sigma= 50 errorRate 20.0\n",
      ">>>> i= 3 ; sigma= 50 errorRate 7.0\n",
      ">>>> i= 3 ; sigma= 50 errorRate 20.0\n",
      ">>>> i= 3 ; sigma= 50 errorRate 7.0\n",
      ">>>> i= 3 ; sigma= 50 errorRate 20.0\n",
      ">>>> i= 3 ; sigma= 50 errorRate 26.0\n",
      ">>>> i= 3 ; sigma= 50 errorRate 20.0\n",
      ">>>> i= 3 ; sigma= 50 errorRate 20.0\n",
      ">>>> i= 3 ; sigma= 50 errorRate 26.0\n",
      ">>>> i= 3 ; sigma= 50 errorRate 26.0\n",
      ">>>> i= 4 ; sigma= 100 errorRate 20.0\n",
      ">>>> i= 4 ; sigma= 100 errorRate 13.0\n",
      ">>>> i= 4 ; sigma= 100 errorRate 20.0\n",
      ">>>> i= 4 ; sigma= 100 errorRate 13.0\n",
      ">>>> i= 4 ; sigma= 100 errorRate 20.0\n",
      ">>>> i= 4 ; sigma= 100 errorRate 11.0\n",
      ">>>> i= 4 ; sigma= 100 errorRate 26.0\n",
      ">>>> i= 4 ; sigma= 100 errorRate 20.0\n",
      ">>>> i= 4 ; sigma= 100 errorRate 26.0\n",
      ">>>> i= 4 ; sigma= 100 errorRate 20.0\n"
     ]
    }
   ],
   "source": [
    "def testK(k2=1.5):\n",
    "    b,alphas=smoP2(dataArr, dataTags, C=50, toler=0.00001, maxIter=40, kTup=['rbf', k2])\n",
    "    ws=calcWs(alphas, dataArr, dataTags)\n",
    "    \n",
    "    # 分类效果很好：100%正确\n",
    "    errorCount=0\n",
    "    n=len(dataArr)\n",
    "    for i in range(n):\n",
    "        pred=np.sign(testRbf(dataArr[i], alphas, ws, b, dataArr, dataTags, ki=k2) )\n",
    "        if pred!=dataTags[i]:\n",
    "            errorCount+=1\n",
    "    return round(errorCount/n*100,2)\n",
    "\n",
    "# test\n",
    "kernalParas=[0.1, 5, 10, 50, 100]\n",
    "for i in range(len(kernalParas)):\n",
    "    sigma=kernalParas[i]\n",
    "    for j in range(10): #重复三次\n",
    "        print('>>>> i=',i, \"; sigma=\",sigma, 'errorRate', testK(sigma))"
   ]
  },
  {
   "cell_type": "code",
   "execution_count": 677,
   "metadata": {},
   "outputs": [
    {
     "name": "stdout",
     "output_type": "stream",
     "text": [
      "0.40765900000000016\n"
     ]
    },
    {
     "data": {
      "text/plain": [
       "0.22689900000000005"
      ]
     },
     "execution_count": 677,
     "metadata": {},
     "output_type": "execute_result"
    }
   ],
   "source": [
    "print(np.var( np.array(dataArr)[:,0] ))\n",
    "np.var( np.array(dataArr)[:,1] )"
   ]
  },
  {
   "cell_type": "markdown",
   "metadata": {},
   "source": [
    "> 貌似原始数据的var附近取值sigma，结果会比较稳定"
   ]
  },
  {
   "cell_type": "code",
   "execution_count": 679,
   "metadata": {},
   "outputs": [
    {
     "name": "stdout",
     "output_type": "stream",
     "text": [
      ">>>> i= 0 ; sigma= 0.1 errorRate 0.0\n",
      ">>>> i= 0 ; sigma= 0.1 errorRate 0.0\n",
      ">>>> i= 0 ; sigma= 0.1 errorRate 0.0\n",
      ">>>> i= 0 ; sigma= 0.1 errorRate 0.0\n",
      ">>>> i= 0 ; sigma= 0.1 errorRate 0.0\n",
      ">>>> i= 0 ; sigma= 0.1 errorRate 0.0\n",
      ">>>> i= 0 ; sigma= 0.1 errorRate 0.0\n",
      ">>>> i= 0 ; sigma= 0.1 errorRate 0.0\n",
      ">>>> i= 0 ; sigma= 0.1 errorRate 0.0\n",
      ">>>> i= 0 ; sigma= 0.1 errorRate 0.0\n",
      ">>>> i= 1 ; sigma= 0.2 errorRate 0.0\n",
      ">>>> i= 1 ; sigma= 0.2 errorRate 0.0\n",
      ">>>> i= 1 ; sigma= 0.2 errorRate 28.0\n",
      ">>>> i= 1 ; sigma= 0.2 errorRate 0.0\n",
      ">>>> i= 1 ; sigma= 0.2 errorRate 28.0\n",
      ">>>> i= 1 ; sigma= 0.2 errorRate 28.0\n",
      ">>>> i= 1 ; sigma= 0.2 errorRate 0.0\n",
      ">>>> i= 1 ; sigma= 0.2 errorRate 0.0\n",
      ">>>> i= 1 ; sigma= 0.2 errorRate 0.0\n",
      ">>>> i= 1 ; sigma= 0.2 errorRate 0.0\n",
      ">>>> i= 2 ; sigma= 0.3 errorRate 45.0\n",
      ">>>> i= 2 ; sigma= 0.3 errorRate 50.0\n",
      ">>>> i= 2 ; sigma= 0.3 errorRate 45.0\n",
      ">>>> i= 2 ; sigma= 0.3 errorRate 45.0\n",
      ">>>> i= 2 ; sigma= 0.3 errorRate 50.0\n",
      ">>>> i= 2 ; sigma= 0.3 errorRate 0.0\n",
      ">>>> i= 2 ; sigma= 0.3 errorRate 0.0\n",
      ">>>> i= 2 ; sigma= 0.3 errorRate 0.0\n",
      ">>>> i= 2 ; sigma= 0.3 errorRate 0.0\n",
      ">>>> i= 2 ; sigma= 0.3 errorRate 45.0\n",
      ">>>> i= 3 ; sigma= 0.4 errorRate 50.0\n",
      ">>>> i= 3 ; sigma= 0.4 errorRate 50.0\n",
      ">>>> i= 3 ; sigma= 0.4 errorRate 50.0\n",
      ">>>> i= 3 ; sigma= 0.4 errorRate 7.0\n",
      ">>>> i= 3 ; sigma= 0.4 errorRate 50.0\n",
      ">>>> i= 3 ; sigma= 0.4 errorRate 50.0\n",
      ">>>> i= 3 ; sigma= 0.4 errorRate 50.0\n",
      ">>>> i= 3 ; sigma= 0.4 errorRate 50.0\n",
      ">>>> i= 3 ; sigma= 0.4 errorRate 5.0\n",
      ">>>> i= 3 ; sigma= 0.4 errorRate 50.0\n",
      ">>>> i= 4 ; sigma= 0.5 errorRate 50.0\n",
      ">>>> i= 4 ; sigma= 0.5 errorRate 50.0\n",
      ">>>> i= 4 ; sigma= 0.5 errorRate 9.0\n",
      ">>>> i= 4 ; sigma= 0.5 errorRate 0.0\n",
      ">>>> i= 4 ; sigma= 0.5 errorRate 50.0\n",
      ">>>> i= 4 ; sigma= 0.5 errorRate 50.0\n",
      ">>>> i= 4 ; sigma= 0.5 errorRate 50.0\n",
      ">>>> i= 4 ; sigma= 0.5 errorRate 50.0\n",
      ">>>> i= 4 ; sigma= 0.5 errorRate 5.0\n",
      ">>>> i= 4 ; sigma= 0.5 errorRate 35.0\n",
      ">>>> i= 5 ; sigma= 0.6 errorRate 21.0\n",
      ">>>> i= 5 ; sigma= 0.6 errorRate 35.0\n",
      ">>>> i= 5 ; sigma= 0.6 errorRate 1.0\n",
      ">>>> i= 5 ; sigma= 0.6 errorRate 1.0\n",
      ">>>> i= 5 ; sigma= 0.6 errorRate 3.0\n",
      ">>>> i= 5 ; sigma= 0.6 errorRate 1.0\n",
      ">>>> i= 5 ; sigma= 0.6 errorRate 1.0\n",
      ">>>> i= 5 ; sigma= 0.6 errorRate 1.0\n",
      ">>>> i= 5 ; sigma= 0.6 errorRate 1.0\n",
      ">>>> i= 5 ; sigma= 0.6 errorRate 1.0\n"
     ]
    }
   ],
   "source": [
    "# test\n",
    "kernalParas=[0.1, 0.2, 0.3, 0.4, 0.5,0.6]\n",
    "for i in range(len(kernalParas)):\n",
    "    sigma=kernalParas[i]\n",
    "    for j in range(10): #重复三次\n",
    "        print('>>>> i=',i, \"; sigma=\",sigma, 'errorRate', testK(sigma))"
   ]
  },
  {
   "cell_type": "code",
   "execution_count": null,
   "metadata": {},
   "outputs": [],
   "source": []
  },
  {
   "cell_type": "code",
   "execution_count": null,
   "metadata": {},
   "outputs": [],
   "source": []
  },
  {
   "cell_type": "code",
   "execution_count": null,
   "metadata": {},
   "outputs": [],
   "source": []
  },
  {
   "cell_type": "code",
   "execution_count": null,
   "metadata": {},
   "outputs": [],
   "source": []
  }
 ],
 "metadata": {
  "kernelspec": {
   "display_name": "Python 3",
   "language": "python",
   "name": "python3"
  },
  "language_info": {
   "codemirror_mode": {
    "name": "ipython",
    "version": 3
   },
   "file_extension": ".py",
   "mimetype": "text/x-python",
   "name": "python",
   "nbconvert_exporter": "python",
   "pygments_lexer": "ipython3",
   "version": "3.6.4"
  },
  "toc": {
   "base_numbering": 1,
   "nav_menu": {},
   "number_sections": true,
   "sideBar": true,
   "skip_h1_title": false,
   "title_cell": "Table of Contents",
   "title_sidebar": "Contents",
   "toc_cell": false,
   "toc_position": {
    "height": "calc(100% - 180px)",
    "left": "10px",
    "top": "150px",
    "width": "245px"
   },
   "toc_section_display": true,
   "toc_window_display": true
  }
 },
 "nbformat": 4,
 "nbformat_minor": 2
}
