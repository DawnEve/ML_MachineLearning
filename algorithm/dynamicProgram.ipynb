{
 "cells": [
  {
   "cell_type": "markdown",
   "metadata": {},
   "source": [
    "# DP 动态规划"
   ]
  },
  {
   "cell_type": "markdown",
   "metadata": {},
   "source": [
    "## 上台阶问题"
   ]
  },
  {
   "cell_type": "code",
   "execution_count": 23,
   "metadata": {},
   "outputs": [
    {
     "name": "stdout",
     "output_type": "stream",
     "text": [
      "i=10, steps=1\n",
      "i=9, steps=1\n",
      "i=8, steps=2\n",
      "i=7, steps=3\n",
      "i=6, steps=5\n",
      "i=5, steps=8\n",
      "i=4, steps=13\n",
      "i=3, steps=21\n",
      "i=2, steps=34\n",
      "i=1, steps=55\n"
     ]
    }
   ],
   "source": [
    "# max=10\n",
    "def dp(n):\n",
    "    results=[0]*11\n",
    "    for j in range(10):\n",
    "        i=10-j\n",
    "        #print('>>i=', i, results)\n",
    "        if i>= (10-1):\n",
    "            results[i]=1\n",
    "        else:\n",
    "            results[i]=results[i+1]+results[i+2]\n",
    "        if i==n:\n",
    "            break;\n",
    "    return results[n]\n",
    "# test\n",
    "for j in range(10):\n",
    "    i=10-j\n",
    "    print('i=%d, steps=%d' % (i, dp(i) ) )"
   ]
  },
  {
   "cell_type": "markdown",
   "metadata": {},
   "source": [
    "## 斐波那契数列"
   ]
  },
  {
   "cell_type": "code",
   "execution_count": 28,
   "metadata": {},
   "outputs": [
    {
     "name": "stdout",
     "output_type": "stream",
     "text": [
      "0\n",
      "1\n",
      "1\n",
      "2\n",
      "3\n",
      "5\n",
      "8\n",
      "13\n",
      "21\n",
      "34\n",
      "55\n",
      "89\n",
      "144\n",
      "233\n",
      "377\n",
      "610\n",
      "987\n",
      "1597\n",
      "2584\n",
      "4181\n"
     ]
    }
   ],
   "source": [
    "def fib(n):\n",
    "    results=list(range(n+1))\n",
    "    for i in range( n+1 ):\n",
    "        if i<2:\n",
    "            results[i]=i\n",
    "        else:\n",
    "            results[i] = results[i-1] + results[i-2] \n",
    "    return results[-1]\n",
    "# test\n",
    "for i in range(20):\n",
    "    print(fib(i))"
   ]
  },
  {
   "cell_type": "markdown",
   "metadata": {},
   "source": [
    "## 走迷宫问题"
   ]
  },
  {
   "cell_type": "code",
   "execution_count": 74,
   "metadata": {},
   "outputs": [
    {
     "name": "stdout",
     "output_type": "stream",
     "text": [
      "[[0, 0, 0], [0, 0, 0], [0, 0, 0], [0, 0, 0], [0, 0, 0], [0, 0, 0], [0, 0, 0]]\n"
     ]
    },
    {
     "data": {
      "text/plain": [
       "[[0, 0, 0], [0, 0, 512], [0, 0, 0], [0, 0, 0], [0, 0, 0], [0, 0, 0], [0, 0, 0]]"
      ]
     },
     "execution_count": 74,
     "metadata": {},
     "output_type": "execute_result"
    }
   ],
   "source": [
    "# m行 n列\n",
    "def walk(m,n):\n",
    "    #results=[[0]*n]*m\n",
    "    results=[[0 for i in range(n)] for j in range(m)]\n",
    "    return results\n",
    "# test\n",
    "a=walk(7,3)\n",
    "\n",
    "print(a)\n",
    "a[1][2]=512\n",
    "a"
   ]
  },
  {
   "cell_type": "code",
   "execution_count": null,
   "metadata": {},
   "outputs": [],
   "source": []
  },
  {
   "cell_type": "code",
   "execution_count": 76,
   "metadata": {},
   "outputs": [
    {
     "name": "stdout",
     "output_type": "stream",
     "text": [
      ">> i=1, j=1 [[1, 1, 1], [1, 2, 1], [1, 1, 1], [1, 1, 1], [1, 1, 1], [1, 1, 1], [1, 1, 1]]\n",
      ">> i=1, j=2 [[1, 1, 1], [1, 2, 3], [1, 1, 1], [1, 1, 1], [1, 1, 1], [1, 1, 1], [1, 1, 1]]\n",
      ">> i=2, j=1 [[1, 1, 1], [1, 2, 3], [1, 3, 1], [1, 1, 1], [1, 1, 1], [1, 1, 1], [1, 1, 1]]\n",
      ">> i=2, j=2 [[1, 1, 1], [1, 2, 3], [1, 3, 6], [1, 1, 1], [1, 1, 1], [1, 1, 1], [1, 1, 1]]\n",
      ">> i=3, j=1 [[1, 1, 1], [1, 2, 3], [1, 3, 6], [1, 4, 1], [1, 1, 1], [1, 1, 1], [1, 1, 1]]\n",
      ">> i=3, j=2 [[1, 1, 1], [1, 2, 3], [1, 3, 6], [1, 4, 10], [1, 1, 1], [1, 1, 1], [1, 1, 1]]\n",
      ">> i=4, j=1 [[1, 1, 1], [1, 2, 3], [1, 3, 6], [1, 4, 10], [1, 5, 1], [1, 1, 1], [1, 1, 1]]\n",
      ">> i=4, j=2 [[1, 1, 1], [1, 2, 3], [1, 3, 6], [1, 4, 10], [1, 5, 15], [1, 1, 1], [1, 1, 1]]\n",
      ">> i=5, j=1 [[1, 1, 1], [1, 2, 3], [1, 3, 6], [1, 4, 10], [1, 5, 15], [1, 6, 1], [1, 1, 1]]\n",
      ">> i=5, j=2 [[1, 1, 1], [1, 2, 3], [1, 3, 6], [1, 4, 10], [1, 5, 15], [1, 6, 21], [1, 1, 1]]\n",
      ">> i=6, j=1 [[1, 1, 1], [1, 2, 3], [1, 3, 6], [1, 4, 10], [1, 5, 15], [1, 6, 21], [1, 7, 1]]\n",
      ">> i=6, j=2 [[1, 1, 1], [1, 2, 3], [1, 3, 6], [1, 4, 10], [1, 5, 15], [1, 6, 21], [1, 7, 28]]\n"
     ]
    },
    {
     "data": {
      "text/plain": [
       "28"
      ]
     },
     "execution_count": 76,
     "metadata": {},
     "output_type": "execute_result"
    }
   ],
   "source": [
    "def walk(m,n):\n",
    "    results=[[1 for i in range(n)] for j in range(m)] #[[1]*n]*m\n",
    "    \n",
    "    for i in range(1,m):\n",
    "        for j in range(1,n):\n",
    "            if results[i][j] == 1: #如果是初始值，则更新\n",
    "                results[i][j]=results[i-1][j] + results[i][j-1]\n",
    "            print('>> i=%d, j=%d' %(i,j),results)\n",
    "    return results[-1][-1]\n",
    "# test\n",
    "walk(7,3)"
   ]
  },
  {
   "cell_type": "code",
   "execution_count": 45,
   "metadata": {},
   "outputs": [
    {
     "name": "stdout",
     "output_type": "stream",
     "text": [
      ">> i=1, j=1 \n",
      " [[1. 1. 1.]\n",
      " [1. 2. 1.]\n",
      " [1. 1. 1.]\n",
      " [1. 1. 1.]\n",
      " [1. 1. 1.]\n",
      " [1. 1. 1.]\n",
      " [1. 1. 1.]]\n",
      ">> i=1, j=2 \n",
      " [[1. 1. 1.]\n",
      " [1. 2. 3.]\n",
      " [1. 1. 1.]\n",
      " [1. 1. 1.]\n",
      " [1. 1. 1.]\n",
      " [1. 1. 1.]\n",
      " [1. 1. 1.]]\n",
      ">> i=2, j=1 \n",
      " [[1. 1. 1.]\n",
      " [1. 2. 3.]\n",
      " [1. 3. 1.]\n",
      " [1. 1. 1.]\n",
      " [1. 1. 1.]\n",
      " [1. 1. 1.]\n",
      " [1. 1. 1.]]\n",
      ">> i=2, j=2 \n",
      " [[1. 1. 1.]\n",
      " [1. 2. 3.]\n",
      " [1. 3. 6.]\n",
      " [1. 1. 1.]\n",
      " [1. 1. 1.]\n",
      " [1. 1. 1.]\n",
      " [1. 1. 1.]]\n",
      ">> i=3, j=1 \n",
      " [[1. 1. 1.]\n",
      " [1. 2. 3.]\n",
      " [1. 3. 6.]\n",
      " [1. 4. 1.]\n",
      " [1. 1. 1.]\n",
      " [1. 1. 1.]\n",
      " [1. 1. 1.]]\n",
      ">> i=3, j=2 \n",
      " [[ 1.  1.  1.]\n",
      " [ 1.  2.  3.]\n",
      " [ 1.  3.  6.]\n",
      " [ 1.  4. 10.]\n",
      " [ 1.  1.  1.]\n",
      " [ 1.  1.  1.]\n",
      " [ 1.  1.  1.]]\n",
      ">> i=4, j=1 \n",
      " [[ 1.  1.  1.]\n",
      " [ 1.  2.  3.]\n",
      " [ 1.  3.  6.]\n",
      " [ 1.  4. 10.]\n",
      " [ 1.  5.  1.]\n",
      " [ 1.  1.  1.]\n",
      " [ 1.  1.  1.]]\n",
      ">> i=4, j=2 \n",
      " [[ 1.  1.  1.]\n",
      " [ 1.  2.  3.]\n",
      " [ 1.  3.  6.]\n",
      " [ 1.  4. 10.]\n",
      " [ 1.  5. 15.]\n",
      " [ 1.  1.  1.]\n",
      " [ 1.  1.  1.]]\n",
      ">> i=5, j=1 \n",
      " [[ 1.  1.  1.]\n",
      " [ 1.  2.  3.]\n",
      " [ 1.  3.  6.]\n",
      " [ 1.  4. 10.]\n",
      " [ 1.  5. 15.]\n",
      " [ 1.  6.  1.]\n",
      " [ 1.  1.  1.]]\n",
      ">> i=5, j=2 \n",
      " [[ 1.  1.  1.]\n",
      " [ 1.  2.  3.]\n",
      " [ 1.  3.  6.]\n",
      " [ 1.  4. 10.]\n",
      " [ 1.  5. 15.]\n",
      " [ 1.  6. 21.]\n",
      " [ 1.  1.  1.]]\n",
      ">> i=6, j=1 \n",
      " [[ 1.  1.  1.]\n",
      " [ 1.  2.  3.]\n",
      " [ 1.  3.  6.]\n",
      " [ 1.  4. 10.]\n",
      " [ 1.  5. 15.]\n",
      " [ 1.  6. 21.]\n",
      " [ 1.  7.  1.]]\n",
      ">> i=6, j=2 \n",
      " [[ 1.  1.  1.]\n",
      " [ 1.  2.  3.]\n",
      " [ 1.  3.  6.]\n",
      " [ 1.  4. 10.]\n",
      " [ 1.  5. 15.]\n",
      " [ 1.  6. 21.]\n",
      " [ 1.  7. 28.]]\n"
     ]
    },
    {
     "data": {
      "text/plain": [
       "28.0"
      ]
     },
     "execution_count": 45,
     "metadata": {},
     "output_type": "execute_result"
    }
   ],
   "source": [
    "import numpy as np\n",
    "def walk(m,n):\n",
    "    results=np.ones( (m,n) )\n",
    "    \n",
    "    for i in range(1,m):\n",
    "        for j in range(1,n):\n",
    "            if results[i][j]==1: #如果是初始值，则更新\n",
    "                results[i][j]=results[i-1][j] + results[i][j-1]\n",
    "            print('>> i=%d, j=%d \\n' %(i,j),results)\n",
    "    return results[-1][-1]\n",
    "# test\n",
    "walk(7,3)"
   ]
  },
  {
   "cell_type": "code",
   "execution_count": null,
   "metadata": {},
   "outputs": [],
   "source": []
  }
 ],
 "metadata": {
  "kernelspec": {
   "display_name": "Python 3",
   "language": "python",
   "name": "python3"
  },
  "language_info": {
   "codemirror_mode": {
    "name": "ipython",
    "version": 3
   },
   "file_extension": ".py",
   "mimetype": "text/x-python",
   "name": "python",
   "nbconvert_exporter": "python",
   "pygments_lexer": "ipython3",
   "version": "3.6.4"
  },
  "toc": {
   "base_numbering": 1,
   "nav_menu": {},
   "number_sections": true,
   "sideBar": true,
   "skip_h1_title": false,
   "title_cell": "Table of Contents",
   "title_sidebar": "Contents",
   "toc_cell": false,
   "toc_position": {},
   "toc_section_display": true,
   "toc_window_display": true
  }
 },
 "nbformat": 4,
 "nbformat_minor": 2
}
