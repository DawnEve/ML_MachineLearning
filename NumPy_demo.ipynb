{
 "cells": [
  {
   "cell_type": "code",
   "execution_count": 12,
   "metadata": {},
   "outputs": [
    {
     "name": "stdout",
     "output_type": "stream",
     "text": [
      "[1, 2, 3, 4]\n",
      "[1 2 3 4]\n",
      "1> 4\n",
      "2> (4,)\n",
      "3> 1\n",
      "4> int32\n"
     ]
    }
   ],
   "source": [
    "\n",
    "#推荐 https://www.yiibai.com/numpy/\n",
    "#https://www.jianshu.com/p/83c8ef18a1e8\n",
    "# NumPy 通常与 SciPy（Scientific Python）和 Matplotlib（绘图库）一起使用。\n",
    "\n",
    "#NumPy是Python语言的一个扩充程序库。支持高级大量的维度数组与矩阵运算，\n",
    "#此外也针对数组运算提供大量的数学函数库。Numpy内部解除了Python的PIL(全局解释器锁),\n",
    "#运算效率极好,是大量机器学习框架的基础库!\n",
    "\n",
    "# pip install numpy\n",
    "\n",
    "import numpy as np\n",
    "a=[1,2,3,4]\n",
    "b=np.array(a)\n",
    "print(a)\n",
    "print(b)\n",
    "\n",
    "print(\"1>\",b.size) #数组元素个数\n",
    "print(\"2>\",b.shape) #数组形状\n",
    "print(\"3>\",b.ndim) #数组维度\n",
    "print(\"4>\",b.dtype) #数组元素类型"
   ]
  },
  {
   "cell_type": "code",
   "execution_count": 13,
   "metadata": {},
   "outputs": [
    {
     "data": {
      "text/plain": [
       "array([False, False,  True,  True])"
      ]
     },
     "execution_count": 13,
     "metadata": {},
     "output_type": "execute_result"
    }
   ],
   "source": [
    "#np的运算\n",
    "b>2"
   ]
  },
  {
   "cell_type": "code",
   "execution_count": null,
   "metadata": {},
   "outputs": [],
   "source": []
  }
 ],
 "metadata": {
  "kernelspec": {
   "display_name": "Python 3",
   "language": "python",
   "name": "python3"
  },
  "language_info": {
   "codemirror_mode": {
    "name": "ipython",
    "version": 3
   },
   "file_extension": ".py",
   "mimetype": "text/x-python",
   "name": "python",
   "nbconvert_exporter": "python",
   "pygments_lexer": "ipython3",
   "version": "3.6.4"
  }
 },
 "nbformat": 4,
 "nbformat_minor": 2
}
