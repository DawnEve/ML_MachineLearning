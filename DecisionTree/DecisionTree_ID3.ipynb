{
 "cells": [
  {
   "cell_type": "markdown",
   "metadata": {},
   "source": [
    "# functions of ID3"
   ]
  },
  {
   "cell_type": "markdown",
   "metadata": {},
   "source": [
    "## calc shannon entropy"
   ]
  },
  {
   "cell_type": "code",
   "execution_count": 4,
   "metadata": {},
   "outputs": [
    {
     "name": "stdout",
     "output_type": "stream",
     "text": [
      "[[1, 1, 'yes'], [1, 1, 'yes'], [1, 0, 'no'], [0, 1, 'no'], [0, 1, 'no']]\n",
      "['no surfacing', 'flippers']\n"
     ]
    }
   ],
   "source": [
    "from math import log\n",
    "\n",
    "def calcShannonEnt(dataSet):\n",
    "    numEntries=len(dataSet) # 数据集大小\n",
    "    \n",
    "    # get freq count for each class, using dict\n",
    "    labelCounts={}\n",
    "    for featVec in dataSet:\n",
    "        currentLabel=featVec[-1] # the last item is the class name\n",
    "        if currentLabel not in labelCounts.keys():\n",
    "            labelCounts[currentLabel]=0\n",
    "        labelCounts[currentLabel]+=1\n",
    "    \n",
    "    # get shannon index for each class\n",
    "    shannonEnt=0.0\n",
    "    for key in labelCounts:\n",
    "        prob=float(labelCounts[key])/numEntries\n",
    "        shannonEnt -= prob*log(prob, 2) # -p*log2(p)\n",
    "    return shannonEnt\n",
    "\n",
    "# test\n",
    "def createDataSet():\n",
    "    dataSet=[[1,1,'yes'],\n",
    "            [1,1,'yes'],\n",
    "            [1,0,'no'],\n",
    "            [0,1,'no'],\n",
    "            [0,1,'no']]\n",
    "    labels=['no surfacing', 'flippers']\n",
    "    return dataSet, labels\n",
    "myDat, labels=createDataSet()\n",
    "print(myDat)\n",
    "print(labels)"
   ]
  },
  {
   "cell_type": "code",
   "execution_count": 5,
   "metadata": {},
   "outputs": [
    {
     "data": {
      "text/plain": [
       "0.9709505944546686"
      ]
     },
     "execution_count": 5,
     "metadata": {},
     "output_type": "execute_result"
    }
   ],
   "source": [
    "calcShannonEnt(myDat)"
   ]
  },
  {
   "cell_type": "code",
   "execution_count": 6,
   "metadata": {},
   "outputs": [
    {
     "name": "stdout",
     "output_type": "stream",
     "text": [
      "[[1, 1, 'maybe'], [1, 1, 'yes'], [1, 0, 'no'], [0, 1, 'no'], [0, 1, 'no']]\n"
     ]
    },
    {
     "data": {
      "text/plain": [
       "1.3709505944546687"
      ]
     },
     "execution_count": 6,
     "metadata": {},
     "output_type": "execute_result"
    }
   ],
   "source": [
    "# change a value, and get shannon again\n",
    "myDat[0][-1]='maybe'\n",
    "print(myDat)\n",
    "calcShannonEnt(myDat)"
   ]
  },
  {
   "cell_type": "markdown",
   "metadata": {},
   "source": [
    "## split dataSet"
   ]
  },
  {
   "cell_type": "code",
   "execution_count": 13,
   "metadata": {},
   "outputs": [
    {
     "name": "stdout",
     "output_type": "stream",
     "text": [
      "[[1, 1, 'maybe'], [1, 1, 'yes'], [1, 0, 'no'], [0, 1, 'no'], [0, 1, 'no']]\n",
      "[[1, 'maybe'], [1, 'yes'], [0, 'no']]\n"
     ]
    },
    {
     "data": {
      "text/plain": [
       "[[1, 'no'], [1, 'no']]"
      ]
     },
     "execution_count": 13,
     "metadata": {},
     "output_type": "execute_result"
    }
   ],
   "source": [
    "def splitDataSet(dataSet, axis, value):\n",
    "    retDataSet=[]\n",
    "    for featVec in dataSet:\n",
    "        if featVec[axis]==value:\n",
    "            subVec=featVec[:axis] + featVec[axis+1:] # 相当于去掉了该位置的数字\n",
    "            #subVec.extend()\n",
    "            retDataSet.append(subVec)\n",
    "    return retDataSet\n",
    "# test\n",
    "print(myDat)\n",
    "print( splitDataSet(myDat, 0, 1) )\n",
    "splitDataSet(myDat, 0, 0)"
   ]
  },
  {
   "cell_type": "markdown",
   "metadata": {},
   "source": [
    "## choose best feature to split"
   ]
  },
  {
   "cell_type": "code",
   "execution_count": 25,
   "metadata": {},
   "outputs": [
    {
     "name": "stdout",
     "output_type": "stream",
     "text": [
      "=======> i= 0 0.4199730940219749 0.9709505944546686 0.5509775004326937\n",
      "=======> i= 1 0.17095059445466854 0.9709505944546686 0.8\n"
     ]
    },
    {
     "data": {
      "text/plain": [
       "0"
      ]
     },
     "execution_count": 25,
     "metadata": {},
     "output_type": "execute_result"
    }
   ],
   "source": [
    "def chooseBestFeatureToSplit(dataSet):\n",
    "    numFeatures=len(dataSet[0])-1\n",
    "    baseEntropy=calcShannonEnt(dataSet)\n",
    "    bestInfoGain=0.0; bestFeature=-1\n",
    "    for i in range(numFeatures):\n",
    "        #1. get uniq label list of each feature\n",
    "        valueList=[example[i] for example in dataSet]\n",
    "        uniqValues=set(valueList)\n",
    "        \n",
    "        #2. calc entropy for each split\n",
    "        newEntropy=0.0\n",
    "        for value in uniqValues:\n",
    "            subDataSet=splitDataSet(dataSet, i, value)\n",
    "            prob=len(subDataSet)/float(len(dataSet))\n",
    "            newEntropy += prob * calcShannonEnt(subDataSet)\n",
    "        infoGain=baseEntropy-newEntropy\n",
    "        print('=======> i=',i,infoGain,baseEntropy,newEntropy)\n",
    "        \n",
    "        #record the best infoGain\n",
    "        if infoGain > bestInfoGain:\n",
    "            bestInfoGain=infoGain\n",
    "            bestFeature=i\n",
    "    return bestFeature\n",
    "# test\n",
    "myDat, labels=createDataSet()\n",
    "chooseBestFeatureToSplit(myDat)"
   ]
  },
  {
   "cell_type": "code",
   "execution_count": 18,
   "metadata": {},
   "outputs": [
    {
     "data": {
      "text/plain": [
       "[1, 1, 1, 0, 0]"
      ]
     },
     "execution_count": 18,
     "metadata": {},
     "output_type": "execute_result"
    }
   ],
   "source": [
    "[example[0] for example in myDat]"
   ]
  },
  {
   "cell_type": "code",
   "execution_count": 19,
   "metadata": {},
   "outputs": [
    {
     "data": {
      "text/plain": [
       "{0, 1}"
      ]
     },
     "execution_count": 19,
     "metadata": {},
     "output_type": "execute_result"
    }
   ],
   "source": [
    "set([example[0] for example in myDat])"
   ]
  },
  {
   "cell_type": "markdown",
   "metadata": {},
   "source": [
    "## majority class"
   ]
  },
  {
   "cell_type": "code",
   "execution_count": 27,
   "metadata": {},
   "outputs": [
    {
     "name": "stdout",
     "output_type": "stream",
     "text": [
      "['yes', 'yes', 'no', 'no', 'no']\n"
     ]
    },
    {
     "data": {
      "text/plain": [
       "'no'"
      ]
     },
     "execution_count": 27,
     "metadata": {},
     "output_type": "execute_result"
    }
   ],
   "source": [
    "def majorityCnt(classList):\n",
    "    classCount={}\n",
    "    for vote in classList:\n",
    "        if vote not in classCount:\n",
    "            classCount[vote]=0\n",
    "        classCount[vote]+=1\n",
    "    # get max\n",
    "    maxK=0; maxV=0;\n",
    "    for k,v in classCount.items():\n",
    "        if v>maxV:\n",
    "            maxK=k\n",
    "    return maxK\n",
    "# test\n",
    "test_input=[e[-1] for e in myDat]\n",
    "print(test_input)\n",
    "majorityCnt(test_input)"
   ]
  },
  {
   "cell_type": "markdown",
   "metadata": {},
   "source": [
    "## get tree"
   ]
  },
  {
   "cell_type": "code",
   "execution_count": 35,
   "metadata": {},
   "outputs": [
    {
     "name": "stdout",
     "output_type": "stream",
     "text": [
      ">>>>>> enter fn:\n",
      "=======> i= 0 0.4199730940219749 0.9709505944546686 0.5509775004326937\n",
      "=======> i= 1 0.17095059445466854 0.9709505944546686 0.8\n",
      ">>>>>> enter fn:\n",
      ">>>>>> enter fn:\n",
      "=======> i= 0 0.9182958340544896 0.9182958340544896 0.0\n",
      ">>>>>> enter fn:\n",
      ">>>>>> enter fn:\n"
     ]
    },
    {
     "data": {
      "text/plain": [
       "{'no surfacing': {0: 'no', 1: {'flippers': {0: 'no', 1: 'yes'}}}}"
      ]
     },
     "execution_count": 35,
     "metadata": {},
     "output_type": "execute_result"
    }
   ],
   "source": [
    "def createTree(dataSet, labels):\n",
    "    print('>>>>>> enter fn:')\n",
    "    classList=[e[-1] for e in dataSet]\n",
    "    \n",
    "    #1. 类别相同则停止划分\n",
    "    if classList.count(classList[0]) == len(classList):\n",
    "        return classList[0]\n",
    "    \n",
    "    #2. 使用完特征时，返回出现最多的类别\n",
    "    if len(dataSet[0])==1:\n",
    "        return majorityCnt(classList)\n",
    "    \n",
    "    #3. 建树\n",
    "    bestFeat=chooseBestFeatureToSplit(dataSet) #选择最佳分类的feature编号\n",
    "    bestFeatLabel=labels[bestFeat]\n",
    "    myTree={bestFeatLabel:{}}\n",
    "    del(labels[bestFeat])\n",
    "    \n",
    "    featValues=[e[bestFeat] for e in dataSet]\n",
    "    uniqueValues=set(featValues)\n",
    "    for value in uniqueValues:\n",
    "        subLabels = labels[:]\n",
    "        subDataSet=splitDataSet(dataSet, bestFeat, value)\n",
    "        myTree[bestFeatLabel][value]=createTree( subDataSet, subLabels )\n",
    "    return myTree\n",
    "#test\n",
    "myDat, labels=createDataSet()\n",
    "createTree(myDat, labels)"
   ]
  },
  {
   "cell_type": "code",
   "execution_count": 28,
   "metadata": {},
   "outputs": [
    {
     "data": {
      "text/plain": [
       "2"
      ]
     },
     "execution_count": 28,
     "metadata": {},
     "output_type": "execute_result"
    }
   ],
   "source": [
    "a=[0,1,2,3,0,4]\n",
    "a.count(0)"
   ]
  },
  {
   "cell_type": "code",
   "execution_count": 30,
   "metadata": {},
   "outputs": [
    {
     "data": {
      "text/plain": [
       "3"
      ]
     },
     "execution_count": 30,
     "metadata": {},
     "output_type": "execute_result"
    }
   ],
   "source": [
    "len(myDat[0])"
   ]
  },
  {
   "cell_type": "markdown",
   "metadata": {},
   "source": [
    "## plot tree //todo"
   ]
  },
  {
   "cell_type": "code",
   "execution_count": null,
   "metadata": {},
   "outputs": [],
   "source": []
  },
  {
   "cell_type": "code",
   "execution_count": null,
   "metadata": {},
   "outputs": [],
   "source": []
  },
  {
   "cell_type": "code",
   "execution_count": null,
   "metadata": {},
   "outputs": [],
   "source": []
  },
  {
   "cell_type": "code",
   "execution_count": null,
   "metadata": {},
   "outputs": [],
   "source": []
  },
  {
   "cell_type": "markdown",
   "metadata": {},
   "source": [
    "# test on iris data"
   ]
  },
  {
   "cell_type": "code",
   "execution_count": 43,
   "metadata": {},
   "outputs": [
    {
     "data": {
      "text/html": [
       "<div>\n",
       "<style scoped>\n",
       "    .dataframe tbody tr th:only-of-type {\n",
       "        vertical-align: middle;\n",
       "    }\n",
       "\n",
       "    .dataframe tbody tr th {\n",
       "        vertical-align: top;\n",
       "    }\n",
       "\n",
       "    .dataframe thead th {\n",
       "        text-align: right;\n",
       "    }\n",
       "</style>\n",
       "<table border=\"1\" class=\"dataframe\">\n",
       "  <thead>\n",
       "    <tr style=\"text-align: right;\">\n",
       "      <th></th>\n",
       "      <th>Sepal.Length</th>\n",
       "      <th>Sepal.Width</th>\n",
       "      <th>Petal.Length</th>\n",
       "      <th>Petal.Width</th>\n",
       "      <th>Species</th>\n",
       "    </tr>\n",
       "  </thead>\n",
       "  <tbody>\n",
       "    <tr>\n",
       "      <th>1</th>\n",
       "      <td>5.1</td>\n",
       "      <td>3.5</td>\n",
       "      <td>1.4</td>\n",
       "      <td>0.2</td>\n",
       "      <td>setosa</td>\n",
       "    </tr>\n",
       "    <tr>\n",
       "      <th>2</th>\n",
       "      <td>4.9</td>\n",
       "      <td>3.0</td>\n",
       "      <td>1.4</td>\n",
       "      <td>0.2</td>\n",
       "      <td>setosa</td>\n",
       "    </tr>\n",
       "    <tr>\n",
       "      <th>3</th>\n",
       "      <td>4.7</td>\n",
       "      <td>3.2</td>\n",
       "      <td>1.3</td>\n",
       "      <td>0.2</td>\n",
       "      <td>setosa</td>\n",
       "    </tr>\n",
       "    <tr>\n",
       "      <th>4</th>\n",
       "      <td>4.6</td>\n",
       "      <td>3.1</td>\n",
       "      <td>1.5</td>\n",
       "      <td>0.2</td>\n",
       "      <td>setosa</td>\n",
       "    </tr>\n",
       "    <tr>\n",
       "      <th>5</th>\n",
       "      <td>5.0</td>\n",
       "      <td>3.6</td>\n",
       "      <td>1.4</td>\n",
       "      <td>0.2</td>\n",
       "      <td>setosa</td>\n",
       "    </tr>\n",
       "  </tbody>\n",
       "</table>\n",
       "</div>"
      ],
      "text/plain": [
       "   Sepal.Length  Sepal.Width  Petal.Length  Petal.Width Species\n",
       "1           5.1          3.5           1.4          0.2  setosa\n",
       "2           4.9          3.0           1.4          0.2  setosa\n",
       "3           4.7          3.2           1.3          0.2  setosa\n",
       "4           4.6          3.1           1.5          0.2  setosa\n",
       "5           5.0          3.6           1.4          0.2  setosa"
      ]
     },
     "execution_count": 43,
     "metadata": {},
     "output_type": "execute_result"
    }
   ],
   "source": [
    "import pandas as pd\n",
    "iris=pd.read_csv('G://ML_MachineLearning//iris_data/iris.csv', index_col =0)\n",
    "iris.head()"
   ]
  },
  {
   "cell_type": "code",
   "execution_count": 86,
   "metadata": {},
   "outputs": [
    {
     "data": {
      "text/html": [
       "<div>\n",
       "<style scoped>\n",
       "    .dataframe tbody tr th:only-of-type {\n",
       "        vertical-align: middle;\n",
       "    }\n",
       "\n",
       "    .dataframe tbody tr th {\n",
       "        vertical-align: top;\n",
       "    }\n",
       "\n",
       "    .dataframe thead th {\n",
       "        text-align: right;\n",
       "    }\n",
       "</style>\n",
       "<table border=\"1\" class=\"dataframe\">\n",
       "  <thead>\n",
       "    <tr style=\"text-align: right;\">\n",
       "      <th></th>\n",
       "      <th>Sepal.Length</th>\n",
       "      <th>Sepal.Width</th>\n",
       "      <th>Petal.Length</th>\n",
       "      <th>Petal.Width</th>\n",
       "      <th>Species</th>\n",
       "    </tr>\n",
       "  </thead>\n",
       "  <tbody>\n",
       "    <tr>\n",
       "      <th>1</th>\n",
       "      <td>5.1</td>\n",
       "      <td>3.5</td>\n",
       "      <td>1.4</td>\n",
       "      <td>0.2</td>\n",
       "      <td>setosa</td>\n",
       "    </tr>\n",
       "    <tr>\n",
       "      <th>2</th>\n",
       "      <td>4.9</td>\n",
       "      <td>3.0</td>\n",
       "      <td>1.4</td>\n",
       "      <td>0.2</td>\n",
       "      <td>setosa</td>\n",
       "    </tr>\n",
       "    <tr>\n",
       "      <th>3</th>\n",
       "      <td>4.7</td>\n",
       "      <td>3.2</td>\n",
       "      <td>1.3</td>\n",
       "      <td>0.2</td>\n",
       "      <td>setosa</td>\n",
       "    </tr>\n",
       "    <tr>\n",
       "      <th>4</th>\n",
       "      <td>4.6</td>\n",
       "      <td>3.1</td>\n",
       "      <td>1.5</td>\n",
       "      <td>0.2</td>\n",
       "      <td>setosa</td>\n",
       "    </tr>\n",
       "    <tr>\n",
       "      <th>5</th>\n",
       "      <td>5.0</td>\n",
       "      <td>3.6</td>\n",
       "      <td>1.4</td>\n",
       "      <td>0.2</td>\n",
       "      <td>setosa</td>\n",
       "    </tr>\n",
       "  </tbody>\n",
       "</table>\n",
       "</div>"
      ],
      "text/plain": [
       "   Sepal.Length  Sepal.Width  Petal.Length  Petal.Width Species\n",
       "1           5.1          3.5           1.4          0.2  setosa\n",
       "2           4.9          3.0           1.4          0.2  setosa\n",
       "3           4.7          3.2           1.3          0.2  setosa\n",
       "4           4.6          3.1           1.5          0.2  setosa\n",
       "5           5.0          3.6           1.4          0.2  setosa"
      ]
     },
     "execution_count": 86,
     "metadata": {},
     "output_type": "execute_result"
    }
   ],
   "source": [
    "# get data\n",
    "iris.iloc[:,:].head()"
   ]
  },
  {
   "cell_type": "code",
   "execution_count": 80,
   "metadata": {},
   "outputs": [
    {
     "data": {
      "text/plain": [
       "[[5.1, 3.5, 1.4, 0.2, 'setosa'],\n",
       " [4.9, 3.0, 1.4, 0.2, 'setosa'],\n",
       " [4.7, 3.2, 1.3, 0.2, 'setosa'],\n",
       " [4.6, 3.1, 1.5, 0.2, 'setosa']]"
      ]
     },
     "execution_count": 80,
     "metadata": {},
     "output_type": "execute_result"
    }
   ],
   "source": [
    "#\n",
    "def get2DArray(npDat):\n",
    "    myDat=[]\n",
    "    for i in range(npDat.shape[0]):\n",
    "        arr_row=[]\n",
    "        for j in range(npDat.shape[1]):\n",
    "            arr_row.append(npDat.iloc[i, j])\n",
    "        myDat.append(arr_row)\n",
    "    return myDat\n",
    "myDat2=get2DArray(iris.iloc[:,:])\n",
    "myDat2[0:4]"
   ]
  },
  {
   "cell_type": "code",
   "execution_count": 82,
   "metadata": {},
   "outputs": [
    {
     "data": {
      "text/plain": [
       "['setosa', 'setosa', 'setosa', 'setosa', 'setosa']"
      ]
     },
     "execution_count": 82,
     "metadata": {},
     "output_type": "execute_result"
    }
   ],
   "source": [
    "# get labels\n",
    "labels2=[]\n",
    "for i in iris['Species']:\n",
    "    labels2.append(i)\n",
    "labels2[0:5]"
   ]
  },
  {
   "cell_type": "code",
   "execution_count": 84,
   "metadata": {
    "scrolled": false
   },
   "outputs": [
    {
     "name": "stdout",
     "output_type": "stream",
     "text": [
      ">>>>>> enter fn:\n",
      "=======> i= 0 0.855390125273797 1.5847701285563627 0.7293800032825657\n",
      "=======> i= 1 0.5206451067363089 1.5847701285563627 1.0641250218200538\n",
      "=======> i= 2 1.3938504592853813 1.5847701285563627 0.19091966927098142\n",
      "=======> i= 3 1.3599609507222017 1.5847701285563627 0.22480917783416104\n",
      ">>>>>> enter fn:\n",
      ">>>>>> enter fn:\n",
      "=======> i= 0 0.2373974097831018 0.39124356362925566 0.15384615384615385\n",
      "=======> i= 1 0.39124356362925566 0.39124356362925566 0.0\n",
      "=======> i= 2 0.0567423678141194 0.39124356362925566 0.33450119581513627\n",
      ">>>>>> enter fn:\n",
      ">>>>>> enter fn:\n",
      ">>>>>> enter fn:\n",
      ">>>>>> enter fn:\n",
      ">>>>>> enter fn:\n",
      ">>>>>> enter fn:\n",
      ">>>>>> enter fn:\n",
      ">>>>>> enter fn:\n",
      ">>>>>> enter fn:\n",
      ">>>>>> enter fn:\n",
      ">>>>>> enter fn:\n",
      ">>>>>> enter fn:\n",
      ">>>>>> enter fn:\n",
      ">>>>>> enter fn:\n",
      ">>>>>> enter fn:\n",
      ">>>>>> enter fn:\n",
      ">>>>>> enter fn:\n",
      "=======> i= 0 0.5435644431995964 0.5435644431995964 0.0\n",
      "=======> i= 1 0.5435644431995964 0.5435644431995964 0.0\n",
      "=======> i= 2 0.5435644431995964 0.5435644431995964 0.0\n",
      ">>>>>> enter fn:\n",
      ">>>>>> enter fn:\n",
      ">>>>>> enter fn:\n",
      ">>>>>> enter fn:\n",
      ">>>>>> enter fn:\n",
      ">>>>>> enter fn:\n",
      ">>>>>> enter fn:\n",
      ">>>>>> enter fn:\n",
      "=======> i= 0 0.5709505944546686 0.9709505944546686 0.4\n",
      "=======> i= 1 0.9709505944546686 0.9709505944546686 0.0\n",
      "=======> i= 2 0.9709505944546686 0.9709505944546686 0.0\n",
      ">>>>>> enter fn:\n",
      ">>>>>> enter fn:\n",
      ">>>>>> enter fn:\n",
      ">>>>>> enter fn:\n",
      ">>>>>> enter fn:\n",
      ">>>>>> enter fn:\n",
      ">>>>>> enter fn:\n",
      "=======> i= 0 0.8112781244591328 0.8112781244591328 0.0\n",
      "=======> i= 1 0.8112781244591328 0.8112781244591328 0.0\n",
      "=======> i= 2 0.8112781244591328 0.8112781244591328 0.0\n",
      ">>>>>> enter fn:\n",
      ">>>>>> enter fn:\n",
      ">>>>>> enter fn:\n",
      ">>>>>> enter fn:\n",
      ">>>>>> enter fn:\n",
      ">>>>>> enter fn:\n",
      ">>>>>> enter fn:\n",
      ">>>>>> enter fn:\n",
      ">>>>>> enter fn:\n",
      ">>>>>> enter fn:\n",
      "=======> i= 0 0.9182958340544896 0.9182958340544896 0.0\n",
      "=======> i= 1 0.9182958340544896 0.9182958340544896 0.0\n",
      "=======> i= 2 0.2516291673878229 0.9182958340544896 0.6666666666666666\n",
      ">>>>>> enter fn:\n",
      ">>>>>> enter fn:\n",
      ">>>>>> enter fn:\n",
      ">>>>>> enter fn:\n",
      "=======> i= 0 0.5435644431995964 0.5435644431995964 0.0\n",
      "=======> i= 1 0.19920350542916282 0.5435644431995964 0.3443609377704336\n",
      "=======> i= 2 0.5435644431995964 0.5435644431995964 0.0\n",
      ">>>>>> enter fn:\n",
      ">>>>>> enter fn:\n",
      ">>>>>> enter fn:\n",
      ">>>>>> enter fn:\n",
      ">>>>>> enter fn:\n",
      ">>>>>> enter fn:\n",
      ">>>>>> enter fn:\n",
      ">>>>>> enter fn:\n",
      ">>>>>> enter fn:\n",
      ">>>>>> enter fn:\n",
      ">>>>>> enter fn:\n",
      ">>>>>> enter fn:\n",
      ">>>>>> enter fn:\n",
      ">>>>>> enter fn:\n",
      ">>>>>> enter fn:\n",
      ">>>>>> enter fn:\n",
      ">>>>>> enter fn:\n",
      ">>>>>> enter fn:\n",
      ">>>>>> enter fn:\n",
      ">>>>>> enter fn:\n",
      "=======> i= 0 1.0 1.0 0.0\n",
      "=======> i= 1 0.5 1.0 0.5\n",
      "=======> i= 2 0.31127812445913283 1.0 0.6887218755408672\n",
      ">>>>>> enter fn:\n",
      ">>>>>> enter fn:\n",
      ">>>>>> enter fn:\n",
      ">>>>>> enter fn:\n",
      ">>>>>> enter fn:\n",
      ">>>>>> enter fn:\n",
      ">>>>>> enter fn:\n",
      ">>>>>> enter fn:\n",
      ">>>>>> enter fn:\n",
      ">>>>>> enter fn:\n",
      ">>>>>> enter fn:\n",
      ">>>>>> enter fn:\n"
     ]
    }
   ],
   "source": [
    "# run decision tree\n",
    "myTree2=createTree(myDat2, labels2)"
   ]
  },
  {
   "cell_type": "markdown",
   "metadata": {},
   "source": [
    "## ID3仅适用于分类数据"
   ]
  },
  {
   "cell_type": "markdown",
   "metadata": {},
   "source": [
    "结果惨不忍睹！分类点太多！\n",
    "\n",
    "定量数据不合适"
   ]
  },
  {
   "cell_type": "code",
   "execution_count": 85,
   "metadata": {},
   "outputs": [
    {
     "data": {
      "text/plain": [
       "{'setosa': {1.0: 'setosa',\n",
       "  1.1: 'setosa',\n",
       "  1.2: 'setosa',\n",
       "  1.3: 'setosa',\n",
       "  1.4: {'setosa': {2.9: 'setosa',\n",
       "    3.0: 'setosa',\n",
       "    3.2: 'setosa',\n",
       "    3.3: 'versicolor',\n",
       "    3.4: 'setosa',\n",
       "    3.5: 'setosa',\n",
       "    3.6: 'setosa',\n",
       "    4.2: 'setosa'}},\n",
       "  1.5: 'setosa',\n",
       "  1.6: 'setosa',\n",
       "  1.7: 'setosa',\n",
       "  1.9: 'setosa',\n",
       "  3.0: 'versicolor',\n",
       "  3.3: 'versicolor',\n",
       "  3.5: 'versicolor',\n",
       "  3.6: 'versicolor',\n",
       "  3.7: 'versicolor',\n",
       "  3.8: 'versicolor',\n",
       "  3.9: 'versicolor',\n",
       "  4.0: 'versicolor',\n",
       "  4.1: {'setosa': {5.6: 'versicolor', 5.7: 'virginica', 5.8: 'versicolor'}},\n",
       "  4.2: 'versicolor',\n",
       "  4.3: 'versicolor',\n",
       "  4.4: 'versicolor',\n",
       "  4.5: {'setosa': {4.9: 'virginica',\n",
       "    5.4: 'versicolor',\n",
       "    5.6: 'versicolor',\n",
       "    5.7: 'versicolor',\n",
       "    6.0: 'versicolor',\n",
       "    6.2: 'versicolor',\n",
       "    6.4: 'versicolor'}},\n",
       "  4.6: 'versicolor',\n",
       "  4.7: 'versicolor',\n",
       "  4.8: {'setosa': {5.9: 'versicolor',\n",
       "    6.0: 'virginica',\n",
       "    6.2: 'virginica',\n",
       "    6.8: 'versicolor'}},\n",
       "  4.9: {'setosa': {2.5: 'versicolor',\n",
       "    2.7: 'virginica',\n",
       "    2.8: 'virginica',\n",
       "    3.0: 'virginica',\n",
       "    3.1: 'versicolor'}},\n",
       "  5.0: {'setosa': {5.7: 'virginica',\n",
       "    6.0: 'virginica',\n",
       "    6.3: 'virginica',\n",
       "    6.7: 'versicolor'}},\n",
       "  5.1: {'setosa': {5.8: 'virginica',\n",
       "    5.9: 'virginica',\n",
       "    6.0: 'versicolor',\n",
       "    6.3: 'virginica',\n",
       "    6.5: 'virginica',\n",
       "    6.9: 'virginica'}},\n",
       "  5.2: 'virginica',\n",
       "  5.3: 'virginica',\n",
       "  5.4: 'virginica',\n",
       "  5.5: 'virginica',\n",
       "  5.6: 'virginica',\n",
       "  5.7: 'virginica',\n",
       "  5.8: 'virginica',\n",
       "  5.9: 'virginica',\n",
       "  6.0: 'virginica',\n",
       "  6.1: 'virginica',\n",
       "  6.3: 'virginica',\n",
       "  6.4: 'virginica',\n",
       "  6.6: 'virginica',\n",
       "  6.7: 'virginica',\n",
       "  6.9: 'virginica'}}"
      ]
     },
     "execution_count": 85,
     "metadata": {},
     "output_type": "execute_result"
    }
   ],
   "source": [
    "myTree2"
   ]
  }
 ],
 "metadata": {
  "kernelspec": {
   "display_name": "Python 3",
   "language": "python",
   "name": "python3"
  },
  "language_info": {
   "codemirror_mode": {
    "name": "ipython",
    "version": 3
   },
   "file_extension": ".py",
   "mimetype": "text/x-python",
   "name": "python",
   "nbconvert_exporter": "python",
   "pygments_lexer": "ipython3",
   "version": "3.6.4"
  },
  "toc": {
   "base_numbering": 1,
   "nav_menu": {},
   "number_sections": true,
   "sideBar": true,
   "skip_h1_title": false,
   "title_cell": "Table of Contents",
   "title_sidebar": "Contents",
   "toc_cell": false,
   "toc_position": {},
   "toc_section_display": true,
   "toc_window_display": true
  }
 },
 "nbformat": 4,
 "nbformat_minor": 2
}
