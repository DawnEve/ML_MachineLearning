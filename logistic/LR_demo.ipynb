{
 "cells": [
  {
   "cell_type": "markdown",
   "metadata": {},
   "source": [
    "# logistic: linear model"
   ]
  },
  {
   "cell_type": "markdown",
   "metadata": {},
   "source": [
    "## load data"
   ]
  },
  {
   "cell_type": "raw",
   "metadata": {},
   "source": [
    "载入数据为\n",
    "1. row\n",
    "setosa    versicolor    virginica \n",
    "   50         50         50\n",
    "前2个类别的100个数据。\n",
    "2. column 使用前2列"
   ]
  },
  {
   "cell_type": "code",
   "execution_count": 11,
   "metadata": {},
   "outputs": [
    {
     "name": "stdout",
     "output_type": "stream",
     "text": [
      "(100, 5)\n",
      "   Sepal.Length  Sepal.Width  Petal.Length  Petal.Width Species\n",
      "1           5.1          3.5           1.4          0.2  setosa\n",
      "2           4.9          3.0           1.4          0.2  setosa\n",
      "3           4.7          3.2           1.3          0.2  setosa\n",
      "4           4.6          3.1           1.5          0.2  setosa\n",
      "5           5.0          3.6           1.4          0.2  setosa\n"
     ]
    },
    {
     "data": {
      "text/html": [
       "<div>\n",
       "<style scoped>\n",
       "    .dataframe tbody tr th:only-of-type {\n",
       "        vertical-align: middle;\n",
       "    }\n",
       "\n",
       "    .dataframe tbody tr th {\n",
       "        vertical-align: top;\n",
       "    }\n",
       "\n",
       "    .dataframe thead th {\n",
       "        text-align: right;\n",
       "    }\n",
       "</style>\n",
       "<table border=\"1\" class=\"dataframe\">\n",
       "  <thead>\n",
       "    <tr style=\"text-align: right;\">\n",
       "      <th></th>\n",
       "      <th>Sepal.Length</th>\n",
       "      <th>Sepal.Width</th>\n",
       "      <th>Petal.Length</th>\n",
       "      <th>Petal.Width</th>\n",
       "      <th>Species</th>\n",
       "    </tr>\n",
       "  </thead>\n",
       "  <tbody>\n",
       "    <tr>\n",
       "      <th>96</th>\n",
       "      <td>5.7</td>\n",
       "      <td>3.0</td>\n",
       "      <td>4.2</td>\n",
       "      <td>1.2</td>\n",
       "      <td>versicolor</td>\n",
       "    </tr>\n",
       "    <tr>\n",
       "      <th>97</th>\n",
       "      <td>5.7</td>\n",
       "      <td>2.9</td>\n",
       "      <td>4.2</td>\n",
       "      <td>1.3</td>\n",
       "      <td>versicolor</td>\n",
       "    </tr>\n",
       "    <tr>\n",
       "      <th>98</th>\n",
       "      <td>6.2</td>\n",
       "      <td>2.9</td>\n",
       "      <td>4.3</td>\n",
       "      <td>1.3</td>\n",
       "      <td>versicolor</td>\n",
       "    </tr>\n",
       "    <tr>\n",
       "      <th>99</th>\n",
       "      <td>5.1</td>\n",
       "      <td>2.5</td>\n",
       "      <td>3.0</td>\n",
       "      <td>1.1</td>\n",
       "      <td>versicolor</td>\n",
       "    </tr>\n",
       "    <tr>\n",
       "      <th>100</th>\n",
       "      <td>5.7</td>\n",
       "      <td>2.8</td>\n",
       "      <td>4.1</td>\n",
       "      <td>1.3</td>\n",
       "      <td>versicolor</td>\n",
       "    </tr>\n",
       "  </tbody>\n",
       "</table>\n",
       "</div>"
      ],
      "text/plain": [
       "     Sepal.Length  Sepal.Width  Petal.Length  Petal.Width     Species\n",
       "96            5.7          3.0           4.2          1.2  versicolor\n",
       "97            5.7          2.9           4.2          1.3  versicolor\n",
       "98            6.2          2.9           4.3          1.3  versicolor\n",
       "99            5.1          2.5           3.0          1.1  versicolor\n",
       "100           5.7          2.8           4.1          1.3  versicolor"
      ]
     },
     "execution_count": 11,
     "metadata": {},
     "output_type": "execute_result"
    }
   ],
   "source": [
    "import numpy as np\n",
    "import pandas as pd\n",
    "def loadDataSet():\n",
    "    dt=pd.read_csv('../iris_data/iris.csv', index_col=0)\n",
    "    return dt.iloc[0:100,:]\n",
    "iris=loadDataSet()\n",
    "print(iris.shape) #100 5\n",
    "print(iris.head())\n",
    "iris.tail()"
   ]
  },
  {
   "cell_type": "code",
   "execution_count": 34,
   "metadata": {},
   "outputs": [],
   "source": [
    "colors=[]\n",
    "for item in iris['Species']:\n",
    "    if item=='setosa':\n",
    "        colors.append('red')\n",
    "    else:\n",
    "        colors.append('orange')"
   ]
  },
  {
   "cell_type": "code",
   "execution_count": 35,
   "metadata": {},
   "outputs": [
    {
     "data": {
      "image/png": "[encoded data removed]",
      "text/plain": [
       "<Figure size 432x288 with 1 Axes>"
      ]
     },
     "metadata": {},
     "output_type": "display_data"
    }
   ],
   "source": [
    "import matplotlib.pyplot as plt\n",
    "plt.scatter(iris['Sepal.Length'], iris['Sepal.Width'], color=colors )\n",
    "plt.show()"
   ]
  },
  {
   "cell_type": "code",
   "execution_count": 31,
   "metadata": {},
   "outputs": [],
   "source": [
    "# 标签要数字化\n",
    "def np2Array(npArr):\n",
    "    arr=[]\n",
    "    tags=[]\n",
    "    for i in range(npArr.shape[0]):\n",
    "        arr.append([1, npArr.iloc[i,0], npArr.iloc[i,1]])\n",
    "        if \"setosa\"==npArr.iloc[i,-1]:\n",
    "            tags.append(0)\n",
    "        else:\n",
    "            tags.append(1)\n",
    "    return arr,tags\n",
    "irisArr, irisTags=np2Array(iris)"
   ]
  },
  {
   "cell_type": "markdown",
   "metadata": {},
   "source": [
    "## sigmoid 函数"
   ]
  },
  {
   "cell_type": "code",
   "execution_count": 27,
   "metadata": {},
   "outputs": [
    {
     "data": {
      "image/png": "[encoded data removed]",
      "text/plain": [
       "<Figure size 432x288 with 1 Axes>"
      ]
     },
     "metadata": {},
     "output_type": "display_data"
    }
   ],
   "source": [
    "def sigmoid(x):\n",
    "    return 1.0/(1+np.exp(-x))\n",
    "x=np.linspace(-15,15,80)\n",
    "y=sigmoid(x)\n",
    "plt.scatter(x,y)\n",
    "plt.show()"
   ]
  },
  {
   "cell_type": "markdown",
   "metadata": {},
   "source": [
    "## logistic回归，梯度上升获取参数值"
   ]
  },
  {
   "cell_type": "raw",
   "metadata": {},
   "source": [
    "y=a0*x0 + a1*x1 + a2*x2,其中x0=1恒定，a0就是常数项\n",
    "\n",
    "求偏导数 dy/dx0=a0, dy/dx1=a1, dy/dx2=a2, \n",
    "所以 梯度=[a0, a1, a2]T;\n",
    "\n",
    "沿着梯度上升的方向逐步递增，调整权重\n",
    "缩放倍数 alpha=0.001"
   ]
  },
  {
   "cell_type": "raw",
   "metadata": {},
   "source": [
    "梯度上升的伪代码\n",
    "\n",
    "每个回归系数初始化为1\n",
    "重复R次:\n",
    "    计算整个数据集的梯度\n",
    "    使用alpha*gradient更新回归系数的向量\n",
    "返回回归系数"
   ]
  },
  {
   "cell_type": "code",
   "execution_count": 266,
   "metadata": {},
   "outputs": [
    {
     "name": "stdout",
     "output_type": "stream",
     "text": [
      "0.9101062010830389\n"
     ]
    },
    {
     "data": {
      "text/plain": [
       "array([[ -7.29299384],\n",
       "       [  7.51930523],\n",
       "       [-10.81050311]])"
      ]
     },
     "execution_count": 266,
     "metadata": {},
     "output_type": "execute_result"
    }
   ],
   "source": [
    "def gradAscent(dataMatInput, classLabels):\n",
    "    dataMatrix=np.mat(dataMatInput) #转为矩阵 100x3\n",
    "    labelMat=np.mat(classLabels).transpose() #转为列矩阵 100x1\n",
    "    m,n=np.shape(dataMatrix) #100 3\n",
    "    #print(m, n)\n",
    "    \n",
    "    alpha=0.001\n",
    "    maxCycles=30000\n",
    "    weights=np.ones((n,1)) #初始化权重系数 3x1: a0, a1, a2\n",
    "    errors=[]\n",
    "    for k in range(maxCycles):\n",
    "        # 预测值\n",
    "        pred=sigmoid( dataMatrix * weights ) #100x3 * 3x1 = 100x1\n",
    "        # 差距\n",
    "        delta= labelMat-pred #100x1\n",
    "        # 更新权重: \n",
    "        weights += alpha*dataMatrix.transpose()*delta #3x100 * 100x1 = 3x1\n",
    "        #计算误差\n",
    "        error=delta.transpose()*delta\n",
    "        error=np.array(error)[0][0]\n",
    "        errors.append(error)\n",
    "        if error<1e-3:\n",
    "            print(k, error)\n",
    "            break\n",
    "        #print(k, error)\n",
    "    print(error)\n",
    "    return weights,errors\n",
    "# test\n",
    "weights, errors=gradAscent(irisArr, irisTags)\n",
    "weights"
   ]
  },
  {
   "cell_type": "code",
   "execution_count": null,
   "metadata": {},
   "outputs": [],
   "source": []
  },
  {
   "cell_type": "markdown",
   "metadata": {},
   "source": [
    "### 误差图"
   ]
  },
  {
   "cell_type": "code",
   "execution_count": 267,
   "metadata": {},
   "outputs": [
    {
     "data": {
      "image/png": "[encoded data removed]",
      "text/plain": [
       "<Figure size 432x288 with 1 Axes>"
      ]
     },
     "metadata": {},
     "output_type": "display_data"
    }
   ],
   "source": [
    "# 误差图\n",
    "plt.plot(errors)\n",
    "plt.show()"
   ]
  },
  {
   "cell_type": "markdown",
   "metadata": {},
   "source": [
    "## 可视化分界线"
   ]
  },
  {
   "cell_type": "markdown",
   "metadata": {},
   "source": [
    "z=a0 + a1*x1 + a2*x2，\n",
    "\n",
    "f(z)=1/( 1+exp(-z) ) 是S型曲线\n",
    "- 当z>0时，概率>0.5，属于1分类\n",
    "- 当z<0时，概率<0.5，属于0分类\n",
    "- 所以z=0是分界线，0=a0 + a1*x1 + a2*x2\n",
    "    * 解出来x2=-(a0 + a1*x1)/a2\n",
    "    * a0就是 weights[0]，以此类推"
   ]
  },
  {
   "cell_type": "code",
   "execution_count": 104,
   "metadata": {},
   "outputs": [
    {
     "data": {
      "image/png": "[encoded data removed]",
      "text/plain": [
       "<Figure size 432x288 with 1 Axes>"
      ]
     },
     "metadata": {},
     "output_type": "display_data"
    }
   ],
   "source": [
    "def plotBestFit(irisArr, irisTags, weights):\n",
    "    coordX=[]\n",
    "    coordY=[]\n",
    "    colors=[]\n",
    "    for i in range(len(irisArr)):\n",
    "        #print(i, irisArr[i])\n",
    "        coordX.append(irisArr[i][1])\n",
    "        coordY.append(irisArr[i][2])\n",
    "        if 0==irisTags[i]:\n",
    "            colors.append('red')\n",
    "        else:\n",
    "            colors.append('orange')\n",
    "    plt.scatter(coordX, coordY, color=colors)\n",
    "    # plot line\n",
    "    x=np.arange(3, 8, 0.1)\n",
    "    y=-(weights[0] + weights[1]*x)/weights[2]\n",
    "    plt.plot(x,y, \"b--\")\n",
    "    plt.show()\n",
    "# test\n",
    "plotBestFit(irisArr, irisTags, weights)"
   ]
  },
  {
   "cell_type": "markdown",
   "metadata": {},
   "source": [
    "> 梯度上升法运算量太大，处理100个左右的数据集时还行，但处理十亿样本和成千上万的特征时，计算复杂度太高了。"
   ]
  },
  {
   "cell_type": "markdown",
   "metadata": {},
   "source": [
    "## logitstic回归，随机梯度上升"
   ]
  },
  {
   "cell_type": "raw",
   "metadata": {},
   "source": [
    "# 随机，就是每次使用一个样本。 随机梯度上升是一个在线学习算法。\n",
    "\n",
    "伪代码\n",
    "\n",
    "所有回归系数初始化为1\n",
    "对数据集中每个样本\n",
    "    计算该样本的梯度\n",
    "    使用alpha*gradient更新回归系数\n",
    "返回回归系数值"
   ]
  },
  {
   "cell_type": "code",
   "execution_count": 111,
   "metadata": {},
   "outputs": [
    {
     "data": {
      "text/plain": [
       "array([-0.27602862,  3.42930709, -5.6902314 ])"
      ]
     },
     "execution_count": 111,
     "metadata": {},
     "output_type": "execute_result"
    }
   ],
   "source": [
    "def stocGradAscent0(dataMatrix, classLabels, numInter=150):\n",
    "    dataMatrix=np.array(dataMatrix)\n",
    "    m,n=np.shape(dataMatrix) #100 3\n",
    "    alpha=0.01\n",
    "    weights=np.ones(n)\n",
    "    for j in range(numInter):\n",
    "        for i in range(m): #对100个逐个调整\n",
    "            h=sigmoid( np.sum(dataMatrix[i] * weights) )\n",
    "            delta=classLabels[i]-h\n",
    "            weights += alpha*delta*dataMatrix[i]\n",
    "            # error\n",
    "    return weights\n",
    "#test\n",
    "weights2=stocGradAscent0(irisArr, irisTags)\n",
    "weights2"
   ]
  },
  {
   "cell_type": "markdown",
   "metadata": {},
   "source": [
    "### 随机梯度上升，参数是否收敛"
   ]
  },
  {
   "cell_type": "code",
   "execution_count": 120,
   "metadata": {},
   "outputs": [
    {
     "name": "stdout",
     "output_type": "stream",
     "text": [
      "0 ; time elapse: 0.0 s\n",
      "100 ; time elapse: 7.13 s\n",
      "200 ; time elapse: 28.89 s\n",
      "300 ; time elapse: 64.36 s\n"
     ]
    }
   ],
   "source": [
    "import time\n",
    "start=time.time()\n",
    "\n",
    "x0=[]\n",
    "x1=[]\n",
    "x2=[]\n",
    "for i in range(400):\n",
    "    weights2=stocGradAscent0(irisArr, irisTags, i)\n",
    "    x0.append(weights2[0])\n",
    "    x1.append(weights2[1])\n",
    "    x2.append(weights2[2])\n",
    "    if i%100==0:\n",
    "        print(i, \"; time elapse:\", round(time.time()-start,2),'s' )"
   ]
  },
  {
   "cell_type": "code",
   "execution_count": 121,
   "metadata": {},
   "outputs": [
    {
     "data": {
      "image/png": "[encoded data removed]",
      "text/plain": [
       "<Figure size 432x288 with 3 Axes>"
      ]
     },
     "metadata": {},
     "output_type": "display_data"
    }
   ],
   "source": [
    "fig=plt.figure()\n",
    "plt.subplot(3,1,1)\n",
    "plt.plot(x0)\n",
    "plt.ylabel('x0')\n",
    "\n",
    "plt.subplot(3,1,2)\n",
    "plt.plot(x1)\n",
    "plt.ylabel('x1')\n",
    "\n",
    "plt.subplot(3,1,3)\n",
    "plt.plot(x2)\n",
    "plt.ylabel('x2')\n",
    "\n",
    "plt.show()"
   ]
  },
  {
   "cell_type": "code",
   "execution_count": 122,
   "metadata": {},
   "outputs": [
    {
     "data": {
      "image/png": "[encoded data removed]",
      "text/plain": [
       "<Figure size 432x288 with 1 Axes>"
      ]
     },
     "metadata": {},
     "output_type": "display_data"
    }
   ],
   "source": [
    "plotBestFit(irisArr, irisTags, weights2)"
   ]
  },
  {
   "cell_type": "markdown",
   "metadata": {},
   "source": [
    "## 改进的随机梯度上升算法"
   ]
  },
  {
   "cell_type": "markdown",
   "metadata": {},
   "source": [
    "### error function"
   ]
  },
  {
   "cell_type": "code",
   "execution_count": 230,
   "metadata": {},
   "outputs": [
    {
     "data": {
      "text/plain": [
       "0.910096185344919"
      ]
     },
     "execution_count": 230,
     "metadata": {},
     "output_type": "execute_result"
    }
   ],
   "source": [
    "def getError(weights):\n",
    "    dataMatrix=np.mat(irisArr)\n",
    "    labelMat=np.mat(np.array(irisTags).reshape((100,1)) )\n",
    "    \n",
    "    weights=np.mat( np.array(weights).reshape((3,1)) )\n",
    "    #\n",
    "    h=sigmoid( dataMatrix * weights ) #100x3 * 3x1 = 100x1\n",
    "    delta= labelMat-h #100x1\n",
    "    #计算误差\n",
    "    error=delta.transpose()*delta\n",
    "    error=np.array(error)[0][0]\n",
    "    #errors.append(error)\n",
    "    return error\n",
    "getError(weights)"
   ]
  },
  {
   "cell_type": "markdown",
   "metadata": {},
   "source": [
    "### 改进后"
   ]
  },
  {
   "cell_type": "code",
   "execution_count": 242,
   "metadata": {},
   "outputs": [
    {
     "name": "stdout",
     "output_type": "stream",
     "text": [
      "0.7868474134388923\n"
     ]
    },
    {
     "data": {
      "text/plain": [
       "array([-10.82956669,   8.53440533, -11.27005298])"
      ]
     },
     "execution_count": 242,
     "metadata": {},
     "output_type": "execute_result"
    }
   ],
   "source": [
    "def stocGradAscent1(dataMatrix, classLabels, numInter=150):\n",
    "    dataMatrix=np.array(dataMatrix)\n",
    "    m,n=np.shape(dataMatrix) #100 3\n",
    "    \n",
    "    errors=[]\n",
    "    weights=np.ones(n)\n",
    "    for j in range(numInter):\n",
    "        #dataIndex=range(m)\n",
    "        for i in range(m): #对100个逐个调整\n",
    "            alpha= 4/(1.0+i+j) + 0.01 #alpha每次迭代需要调整，整体逐步缩小\n",
    "            randIndex=int(np.random.uniform(0, m))  ## np.random.uniform(0, len(range(100)))# np.random.uniform(0, 100)\n",
    "            h=sigmoid( np.sum(dataMatrix[randIndex] * weights) )\n",
    "            delta=classLabels[randIndex]-h\n",
    "            weights += alpha*delta*dataMatrix[randIndex]\n",
    "            # error\n",
    "        error=getError(weights)\n",
    "        errors.append(error)\n",
    "    print(error)\n",
    "    return weights,errors\n",
    "#test\n",
    "weights2, errors2 = stocGradAscent1(irisArr, irisTags, 3000)\n",
    "weights2"
   ]
  },
  {
   "cell_type": "code",
   "execution_count": 243,
   "metadata": {},
   "outputs": [
    {
     "data": {
      "text/plain": [
       "0.7868474134388923"
      ]
     },
     "execution_count": 243,
     "metadata": {},
     "output_type": "execute_result"
    }
   ],
   "source": [
    "getError(weights2)"
   ]
  },
  {
   "cell_type": "code",
   "execution_count": 244,
   "metadata": {},
   "outputs": [
    {
     "data": {
      "image/png": "[encoded data removed]",
      "text/plain": [
       "<Figure size 432x288 with 1 Axes>"
      ]
     },
     "metadata": {},
     "output_type": "display_data"
    }
   ],
   "source": [
    "plotBestFit(irisArr, irisTags, weights2)"
   ]
  },
  {
   "cell_type": "code",
   "execution_count": 245,
   "metadata": {
    "scrolled": false
   },
   "outputs": [
    {
     "data": {
      "image/png": "[encoded data removed]",
      "text/plain": [
       "<Figure size 432x288 with 1 Axes>"
      ]
     },
     "metadata": {},
     "output_type": "display_data"
    }
   ],
   "source": [
    "# 误差图\n",
    "plt.plot(errors2)\n",
    "plt.show()"
   ]
  },
  {
   "cell_type": "markdown",
   "metadata": {},
   "source": [
    "## 进行判别"
   ]
  },
  {
   "cell_type": "raw",
   "metadata": {},
   "source": [
    "就是带入sigmoid函数，>0.5则是1类，<0.5则是0类。\n",
    "\n",
    "=0.5怎么办? //todo"
   ]
  },
  {
   "cell_type": "code",
   "execution_count": 257,
   "metadata": {},
   "outputs": [
    {
     "name": "stdout",
     "output_type": "stream",
     "text": [
      "[[1, 5.1, 3.5], [1, 4.9, 3.0], [1, 4.7, 3.2], [1, 4.6, 3.1], [1, 5.0, 3.6]] [0, 0, 0, 0, 0]\n",
      "\n",
      "\n",
      "[[1, 5.5, 2.6], [1, 6.1, 3.0], [1, 5.8, 2.6], [1, 5.0, 2.3], [1, 5.6, 2.7]] [1, 1, 1, 1, 1]\n"
     ]
    }
   ],
   "source": [
    "print(irisArr[0:5], irisTags[0:5])\n",
    "print('\\n')\n",
    "print(irisArr[90:95], irisTags[90:95])"
   ]
  },
  {
   "cell_type": "code",
   "execution_count": 250,
   "metadata": {},
   "outputs": [
    {
     "data": {
      "text/plain": [
       "0.0"
      ]
     },
     "execution_count": 250,
     "metadata": {},
     "output_type": "execute_result"
    }
   ],
   "source": [
    "# \n",
    "def classifyVectorLR(inX, weights):\n",
    "    prob=sigmoid( np.sum(inX * weights) )\n",
    "    if prob>0.5:\n",
    "        return 1.0\n",
    "    else:\n",
    "        return 0.0\n",
    "# test\n",
    "classifyVectorLR(np.array([1,5.1,3.5]), weights2)"
   ]
  },
  {
   "cell_type": "code",
   "execution_count": 259,
   "metadata": {},
   "outputs": [
    {
     "data": {
      "text/plain": [
       "1.0"
      ]
     },
     "execution_count": 259,
     "metadata": {},
     "output_type": "execute_result"
    }
   ],
   "source": [
    "classifyVectorLR(np.array([1, 5.5, 2.6]), weights2)"
   ]
  }
 ],
 "metadata": {
  "kernelspec": {
   "display_name": "Python 3",
   "language": "python",
   "name": "python3"
  },
  "language_info": {
   "codemirror_mode": {
    "name": "ipython",
    "version": 3
   },
   "file_extension": ".py",
   "mimetype": "text/x-python",
   "name": "python",
   "nbconvert_exporter": "python",
   "pygments_lexer": "ipython3",
   "version": "3.6.4"
  },
  "toc": {
   "base_numbering": 1,
   "nav_menu": {},
   "number_sections": true,
   "sideBar": true,
   "skip_h1_title": false,
   "title_cell": "Table of Contents",
   "title_sidebar": "Contents",
   "toc_cell": false,
   "toc_position": {
    "height": "calc(100% - 180px)",
    "left": "10px",
    "top": "150px",
    "width": "281px"
   },
   "toc_section_display": true,
   "toc_window_display": true
  }
 },
 "nbformat": 4,
 "nbformat_minor": 2
}
