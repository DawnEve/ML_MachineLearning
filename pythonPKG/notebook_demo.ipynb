{
 "cells": [
  {
   "cell_type": "code",
   "execution_count": 1,
   "metadata": {},
   "outputs": [
    {
     "name": "stdout",
     "output_type": "stream",
     "text": [
      "hello,  14\n"
     ]
    }
   ],
   "source": [
    "# 运行py脚本文件\n",
    "%run ipython_script_test.py"
   ]
  },
  {
   "cell_type": "code",
   "execution_count": 4,
   "metadata": {},
   "outputs": [
    {
     "data": {
      "text/plain": [
       "'G:\\\\ML_MachineLearning\\\\pythonPKG'"
      ]
     },
     "execution_count": 4,
     "metadata": {},
     "output_type": "execute_result"
    }
   ],
   "source": [
    "# 运行linux命令\n",
    "%pwd"
   ]
  },
  {
   "cell_type": "code",
   "execution_count": 5,
   "metadata": {},
   "outputs": [
    {
     "name": "stdout",
     "output_type": "stream",
     "text": [
      " 驱动器 G 中的卷是 code - eBook\n",
      " 卷的序列号是 6E3C-CFC0\n",
      "\n",
      " G:\\ML_MachineLearning\\pythonPKG 的目录\n",
      "\n",
      "2020/05/09  11:43    <DIR>          .\n",
      "2020/05/09  11:43    <DIR>          ..\n",
      "2020/05/09  11:42    <DIR>          .ipynb_checkpoints\n",
      "2020/05/09  11:42                51 ipython_script_test.py\n",
      "2020/05/06  09:25         1,441,474 matplotlib_demo.ipynb\n",
      "2020/05/09  11:43             1,206 notebook_demo.ipynb\n",
      "2020/05/06  10:56            45,495 NumPy_demo.ipynb\n",
      "2020/05/06  14:18           309,241 Pandas_demo.ipynb\n",
      "2020/05/06  11:00           280,457 pandas_demo2.ipynb\n",
      "2020/05/06  09:15               189 ReadMe.txt\n",
      "               7 个文件      2,078,113 字节\n",
      "               3 个目录 229,917,294,592 可用字节\n"
     ]
    }
   ],
   "source": [
    "%ls"
   ]
  },
  {
   "cell_type": "code",
   "execution_count": null,
   "metadata": {},
   "outputs": [],
   "source": []
  }
 ],
 "metadata": {
  "kernelspec": {
   "display_name": "Python 3",
   "language": "python",
   "name": "python3"
  },
  "language_info": {
   "codemirror_mode": {
    "name": "ipython",
    "version": 3
   },
   "file_extension": ".py",
   "mimetype": "text/x-python",
   "name": "python",
   "nbconvert_exporter": "python",
   "pygments_lexer": "ipython3",
   "version": "3.6.4"
  }
 },
 "nbformat": 4,
 "nbformat_minor": 2
}
